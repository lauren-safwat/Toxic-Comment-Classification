{
 "cells": [
  {
   "cell_type": "markdown",
   "id": "9c401040",
   "metadata": {
    "papermill": {
     "duration": 0.025512,
     "end_time": "2022-07-09T01:50:23.146457",
     "exception": false,
     "start_time": "2022-07-09T01:50:23.120945",
     "status": "completed"
    },
    "tags": []
   },
   "source": [
    "### **Imports**"
   ]
  },
  {
   "cell_type": "code",
   "execution_count": 1,
   "id": "58a28a69",
   "metadata": {
    "execution": {
     "iopub.execute_input": "2022-07-09T01:50:23.186242Z",
     "iopub.status.busy": "2022-07-09T01:50:23.185631Z",
     "iopub.status.idle": "2022-07-09T01:50:30.254389Z",
     "shell.execute_reply": "2022-07-09T01:50:30.253428Z"
    },
    "papermill": {
     "duration": 7.089588,
     "end_time": "2022-07-09T01:50:30.257063",
     "exception": false,
     "start_time": "2022-07-09T01:50:23.167475",
     "status": "completed"
    },
    "tags": []
   },
   "outputs": [
    {
     "name": "stdout",
     "output_type": "stream",
     "text": [
      "[nltk_data] Downloading package stopwords to /usr/share/nltk_data...\n",
      "[nltk_data]   Unzipping corpora/stopwords.zip.\n",
      "[nltk_data] Downloading package wordnet to /usr/share/nltk_data...\n",
      "[nltk_data]   Package wordnet is already up-to-date!\n"
     ]
    }
   ],
   "source": [
    "import os\n",
    "import numpy as np\n",
    "import pandas as pd\n",
    "import matplotlib.pyplot as plt\n",
    "import seaborn as sns\n",
    "import re\n",
    "import nltk\n",
    "\n",
    "from nltk.corpus import stopwords\n",
    "nltk.download('stopwords')\n",
    "\n",
    "from nltk.stem import WordNetLemmatizer\n",
    "nltk.download('wordnet')\n",
    "\n",
    "from sklearn.model_selection import train_test_split\n",
    "from sklearn.feature_extraction.text import TfidfVectorizer\n",
    "from sklearn.svm import LinearSVC\n",
    "from sklearn.pipeline import make_pipeline\n",
    "\n",
    "from keras import models\n",
    "from keras import layers\n",
    "from tensorflow.keras import losses\n",
    "from tensorflow.keras import metrics\n",
    "from tensorflow.keras import optimizers\n",
    "from keras.preprocessing.text import one_hot\n",
    "from keras.preprocessing.sequence import pad_sequences\n",
    "from keras.preprocessing.text import Tokenizer\n",
    "from keras.utils.vis_utils import plot_model\n",
    "\n",
    "import warnings\n",
    "warnings.filterwarnings('ignore')"
   ]
  },
  {
   "cell_type": "code",
   "execution_count": 2,
   "id": "e95603e1",
   "metadata": {
    "execution": {
     "iopub.execute_input": "2022-07-09T01:50:30.279192Z",
     "iopub.status.busy": "2022-07-09T01:50:30.278698Z",
     "iopub.status.idle": "2022-07-09T01:50:30.283028Z",
     "shell.execute_reply": "2022-07-09T01:50:30.282130Z"
    },
    "papermill": {
     "duration": 0.017499,
     "end_time": "2022-07-09T01:50:30.284996",
     "exception": false,
     "start_time": "2022-07-09T01:50:30.267497",
     "status": "completed"
    },
    "tags": []
   },
   "outputs": [],
   "source": [
    "pd.set_option('display.max_columns', None)\n",
    "pd.set_option('display.max_colwidth', None)"
   ]
  },
  {
   "cell_type": "markdown",
   "id": "802c43be",
   "metadata": {
    "papermill": {
     "duration": 0.009571,
     "end_time": "2022-07-09T01:50:30.304320",
     "exception": false,
     "start_time": "2022-07-09T01:50:30.294749",
     "status": "completed"
    },
    "tags": []
   },
   "source": [
    "## **1. Reading Toxic Comments Dataset**"
   ]
  },
  {
   "cell_type": "code",
   "execution_count": 3,
   "id": "9e5bd5e7",
   "metadata": {
    "execution": {
     "iopub.execute_input": "2022-07-09T01:50:30.326598Z",
     "iopub.status.busy": "2022-07-09T01:50:30.325802Z",
     "iopub.status.idle": "2022-07-09T01:50:33.507256Z",
     "shell.execute_reply": "2022-07-09T01:50:33.506270Z"
    },
    "papermill": {
     "duration": 3.194417,
     "end_time": "2022-07-09T01:50:33.509585",
     "exception": false,
     "start_time": "2022-07-09T01:50:30.315168",
     "status": "completed"
    },
    "tags": []
   },
   "outputs": [],
   "source": [
    "train_df = pd.read_csv('../input/jigsaw-toxic-comment-classification/train.csv', index_col='id')\n",
    "test_df = pd.read_csv('../input/jigsaw-toxic-comment-classification/test.csv', index_col='id')\n",
    "test_labels = pd.read_csv('../input/jigsaw-toxic-comment-classification/test_labels.csv', index_col='id')"
   ]
  },
  {
   "cell_type": "code",
   "execution_count": 4,
   "id": "3c5c23df",
   "metadata": {
    "execution": {
     "iopub.execute_input": "2022-07-09T01:50:33.532738Z",
     "iopub.status.busy": "2022-07-09T01:50:33.531239Z",
     "iopub.status.idle": "2022-07-09T01:50:33.583158Z",
     "shell.execute_reply": "2022-07-09T01:50:33.582255Z"
    },
    "papermill": {
     "duration": 0.064873,
     "end_time": "2022-07-09T01:50:33.585168",
     "exception": false,
     "start_time": "2022-07-09T01:50:33.520295",
     "status": "completed"
    },
    "tags": []
   },
   "outputs": [],
   "source": [
    "test_df = pd.concat([test_df, test_labels], axis=1)"
   ]
  },
  {
   "cell_type": "code",
   "execution_count": 5,
   "id": "f2fc3056",
   "metadata": {
    "execution": {
     "iopub.execute_input": "2022-07-09T01:50:33.607838Z",
     "iopub.status.busy": "2022-07-09T01:50:33.607559Z",
     "iopub.status.idle": "2022-07-09T01:50:33.648555Z",
     "shell.execute_reply": "2022-07-09T01:50:33.647481Z"
    },
    "papermill": {
     "duration": 0.054513,
     "end_time": "2022-07-09T01:50:33.651206",
     "exception": false,
     "start_time": "2022-07-09T01:50:33.596693",
     "status": "completed"
    },
    "tags": []
   },
   "outputs": [
    {
     "name": "stdout",
     "output_type": "stream",
     "text": [
      "<class 'pandas.core.frame.DataFrame'>\n",
      "Index: 159571 entries, 0000997932d777bf to fff46fc426af1f9a\n",
      "Data columns (total 7 columns):\n",
      " #   Column         Non-Null Count   Dtype \n",
      "---  ------         --------------   ----- \n",
      " 0   comment_text   159571 non-null  object\n",
      " 1   toxic          159571 non-null  int64 \n",
      " 2   severe_toxic   159571 non-null  int64 \n",
      " 3   obscene        159571 non-null  int64 \n",
      " 4   threat         159571 non-null  int64 \n",
      " 5   insult         159571 non-null  int64 \n",
      " 6   identity_hate  159571 non-null  int64 \n",
      "dtypes: int64(6), object(1)\n",
      "memory usage: 9.7+ MB\n"
     ]
    }
   ],
   "source": [
    "train_df.info()"
   ]
  },
  {
   "cell_type": "code",
   "execution_count": 6,
   "id": "c6de9b36",
   "metadata": {
    "execution": {
     "iopub.execute_input": "2022-07-09T01:50:33.673349Z",
     "iopub.status.busy": "2022-07-09T01:50:33.673083Z",
     "iopub.status.idle": "2022-07-09T01:50:33.703861Z",
     "shell.execute_reply": "2022-07-09T01:50:33.702798Z"
    },
    "papermill": {
     "duration": 0.044776,
     "end_time": "2022-07-09T01:50:33.707220",
     "exception": false,
     "start_time": "2022-07-09T01:50:33.662444",
     "status": "completed"
    },
    "tags": []
   },
   "outputs": [
    {
     "name": "stdout",
     "output_type": "stream",
     "text": [
      "<class 'pandas.core.frame.DataFrame'>\n",
      "Index: 153164 entries, 00001cee341fdb12 to ffffce3fb183ee80\n",
      "Data columns (total 7 columns):\n",
      " #   Column         Non-Null Count   Dtype \n",
      "---  ------         --------------   ----- \n",
      " 0   comment_text   153164 non-null  object\n",
      " 1   toxic          153164 non-null  int64 \n",
      " 2   severe_toxic   153164 non-null  int64 \n",
      " 3   obscene        153164 non-null  int64 \n",
      " 4   threat         153164 non-null  int64 \n",
      " 5   insult         153164 non-null  int64 \n",
      " 6   identity_hate  153164 non-null  int64 \n",
      "dtypes: int64(6), object(1)\n",
      "memory usage: 9.3+ MB\n"
     ]
    }
   ],
   "source": [
    "test_df.info()"
   ]
  },
  {
   "cell_type": "markdown",
   "id": "a718d223",
   "metadata": {
    "papermill": {
     "duration": 0.009886,
     "end_time": "2022-07-09T01:50:33.729189",
     "exception": false,
     "start_time": "2022-07-09T01:50:33.719303",
     "status": "completed"
    },
    "tags": []
   },
   "source": [
    "## **2. EDA**"
   ]
  },
  {
   "cell_type": "markdown",
   "id": "9ecfb4d3",
   "metadata": {
    "papermill": {
     "duration": 0.009673,
     "end_time": "2022-07-09T01:50:33.748788",
     "exception": false,
     "start_time": "2022-07-09T01:50:33.739115",
     "status": "completed"
    },
    "tags": []
   },
   "source": [
    "#### **2.1 Show a sample of data**\n",
    "(to find out the required text preprocessing steps)"
   ]
  },
  {
   "cell_type": "code",
   "execution_count": 7,
   "id": "a2adcc8f",
   "metadata": {
    "execution": {
     "iopub.execute_input": "2022-07-09T01:50:33.769897Z",
     "iopub.status.busy": "2022-07-09T01:50:33.769645Z",
     "iopub.status.idle": "2022-07-09T01:50:33.784116Z",
     "shell.execute_reply": "2022-07-09T01:50:33.783064Z"
    },
    "papermill": {
     "duration": 0.028099,
     "end_time": "2022-07-09T01:50:33.786817",
     "exception": false,
     "start_time": "2022-07-09T01:50:33.758718",
     "status": "completed"
    },
    "tags": []
   },
   "outputs": [
    {
     "data": {
      "text/html": [
       "<div>\n",
       "<style scoped>\n",
       "    .dataframe tbody tr th:only-of-type {\n",
       "        vertical-align: middle;\n",
       "    }\n",
       "\n",
       "    .dataframe tbody tr th {\n",
       "        vertical-align: top;\n",
       "    }\n",
       "\n",
       "    .dataframe thead th {\n",
       "        text-align: right;\n",
       "    }\n",
       "</style>\n",
       "<table border=\"1\" class=\"dataframe\">\n",
       "  <thead>\n",
       "    <tr style=\"text-align: right;\">\n",
       "      <th></th>\n",
       "      <th>comment_text</th>\n",
       "      <th>toxic</th>\n",
       "      <th>severe_toxic</th>\n",
       "      <th>obscene</th>\n",
       "      <th>threat</th>\n",
       "      <th>insult</th>\n",
       "      <th>identity_hate</th>\n",
       "    </tr>\n",
       "    <tr>\n",
       "      <th>id</th>\n",
       "      <th></th>\n",
       "      <th></th>\n",
       "      <th></th>\n",
       "      <th></th>\n",
       "      <th></th>\n",
       "      <th></th>\n",
       "      <th></th>\n",
       "    </tr>\n",
       "  </thead>\n",
       "  <tbody>\n",
       "    <tr>\n",
       "      <th>0000997932d777bf</th>\n",
       "      <td>Explanation\\nWhy the edits made under my username Hardcore Metallica Fan were reverted? They weren't vandalisms, just closure on some GAs after I voted at New York Dolls FAC. And please don't remove the template from the talk page since I'm retired now.89.205.38.27</td>\n",
       "      <td>0</td>\n",
       "      <td>0</td>\n",
       "      <td>0</td>\n",
       "      <td>0</td>\n",
       "      <td>0</td>\n",
       "      <td>0</td>\n",
       "    </tr>\n",
       "    <tr>\n",
       "      <th>000103f0d9cfb60f</th>\n",
       "      <td>D'aww! He matches this background colour I'm seemingly stuck with. Thanks.  (talk) 21:51, January 11, 2016 (UTC)</td>\n",
       "      <td>0</td>\n",
       "      <td>0</td>\n",
       "      <td>0</td>\n",
       "      <td>0</td>\n",
       "      <td>0</td>\n",
       "      <td>0</td>\n",
       "    </tr>\n",
       "    <tr>\n",
       "      <th>000113f07ec002fd</th>\n",
       "      <td>Hey man, I'm really not trying to edit war. It's just that this guy is constantly removing relevant information and talking to me through edits instead of my talk page. He seems to care more about the formatting than the actual info.</td>\n",
       "      <td>0</td>\n",
       "      <td>0</td>\n",
       "      <td>0</td>\n",
       "      <td>0</td>\n",
       "      <td>0</td>\n",
       "      <td>0</td>\n",
       "    </tr>\n",
       "    <tr>\n",
       "      <th>0001b41b1c6bb37e</th>\n",
       "      <td>\"\\nMore\\nI can't make any real suggestions on improvement - I wondered if the section statistics should be later on, or a subsection of \"\"types of accidents\"\"  -I think the references may need tidying so that they are all in the exact same format ie date format etc. I can do that later on, if no-one else does first - if you have any preferences for formatting style on references or want to do it yourself please let me know.\\n\\nThere appears to be a backlog on articles for review so I guess there may be a delay until a reviewer turns up. It's listed in the relevant form eg Wikipedia:Good_article_nominations#Transport  \"</td>\n",
       "      <td>0</td>\n",
       "      <td>0</td>\n",
       "      <td>0</td>\n",
       "      <td>0</td>\n",
       "      <td>0</td>\n",
       "      <td>0</td>\n",
       "    </tr>\n",
       "    <tr>\n",
       "      <th>0001d958c54c6e35</th>\n",
       "      <td>You, sir, are my hero. Any chance you remember what page that's on?</td>\n",
       "      <td>0</td>\n",
       "      <td>0</td>\n",
       "      <td>0</td>\n",
       "      <td>0</td>\n",
       "      <td>0</td>\n",
       "      <td>0</td>\n",
       "    </tr>\n",
       "  </tbody>\n",
       "</table>\n",
       "</div>"
      ],
      "text/plain": [
       "                                                                                                                                                                                                                                                                                                                                                                                                                                                                                                                                                                                                                                                        comment_text  \\\n",
       "id                                                                                                                                                                                                                                                                                                                                                                                                                                                                                                                                                                                                                                                                     \n",
       "0000997932d777bf                                                                                                                                                                                                                                                                                                                                                                           Explanation\\nWhy the edits made under my username Hardcore Metallica Fan were reverted? They weren't vandalisms, just closure on some GAs after I voted at New York Dolls FAC. And please don't remove the template from the talk page since I'm retired now.89.205.38.27   \n",
       "000103f0d9cfb60f                                                                                                                                                                                                                                                                                                                                                                                                                                                                                                                                    D'aww! He matches this background colour I'm seemingly stuck with. Thanks.  (talk) 21:51, January 11, 2016 (UTC)   \n",
       "000113f07ec002fd                                                                                                                                                                                                                                                                                                                                                                                                           Hey man, I'm really not trying to edit war. It's just that this guy is constantly removing relevant information and talking to me through edits instead of my talk page. He seems to care more about the formatting than the actual info.   \n",
       "0001b41b1c6bb37e  \"\\nMore\\nI can't make any real suggestions on improvement - I wondered if the section statistics should be later on, or a subsection of \"\"types of accidents\"\"  -I think the references may need tidying so that they are all in the exact same format ie date format etc. I can do that later on, if no-one else does first - if you have any preferences for formatting style on references or want to do it yourself please let me know.\\n\\nThere appears to be a backlog on articles for review so I guess there may be a delay until a reviewer turns up. It's listed in the relevant form eg Wikipedia:Good_article_nominations#Transport  \"   \n",
       "0001d958c54c6e35                                                                                                                                                                                                                                                                                                                                                                                                                                                                                                                                                                                 You, sir, are my hero. Any chance you remember what page that's on?   \n",
       "\n",
       "                  toxic  severe_toxic  obscene  threat  insult  identity_hate  \n",
       "id                                                                             \n",
       "0000997932d777bf      0             0        0       0       0              0  \n",
       "000103f0d9cfb60f      0             0        0       0       0              0  \n",
       "000113f07ec002fd      0             0        0       0       0              0  \n",
       "0001b41b1c6bb37e      0             0        0       0       0              0  \n",
       "0001d958c54c6e35      0             0        0       0       0              0  "
      ]
     },
     "execution_count": 7,
     "metadata": {},
     "output_type": "execute_result"
    }
   ],
   "source": [
    "train_df.head()"
   ]
  },
  {
   "cell_type": "code",
   "execution_count": 8,
   "id": "62d39a1b",
   "metadata": {
    "execution": {
     "iopub.execute_input": "2022-07-09T01:50:33.809327Z",
     "iopub.status.busy": "2022-07-09T01:50:33.809051Z",
     "iopub.status.idle": "2022-07-09T01:50:33.819449Z",
     "shell.execute_reply": "2022-07-09T01:50:33.818411Z"
    },
    "papermill": {
     "duration": 0.024939,
     "end_time": "2022-07-09T01:50:33.822236",
     "exception": false,
     "start_time": "2022-07-09T01:50:33.797297",
     "status": "completed"
    },
    "tags": []
   },
   "outputs": [
    {
     "data": {
      "text/html": [
       "<div>\n",
       "<style scoped>\n",
       "    .dataframe tbody tr th:only-of-type {\n",
       "        vertical-align: middle;\n",
       "    }\n",
       "\n",
       "    .dataframe tbody tr th {\n",
       "        vertical-align: top;\n",
       "    }\n",
       "\n",
       "    .dataframe thead th {\n",
       "        text-align: right;\n",
       "    }\n",
       "</style>\n",
       "<table border=\"1\" class=\"dataframe\">\n",
       "  <thead>\n",
       "    <tr style=\"text-align: right;\">\n",
       "      <th></th>\n",
       "      <th>comment_text</th>\n",
       "      <th>toxic</th>\n",
       "      <th>severe_toxic</th>\n",
       "      <th>obscene</th>\n",
       "      <th>threat</th>\n",
       "      <th>insult</th>\n",
       "      <th>identity_hate</th>\n",
       "    </tr>\n",
       "    <tr>\n",
       "      <th>id</th>\n",
       "      <th></th>\n",
       "      <th></th>\n",
       "      <th></th>\n",
       "      <th></th>\n",
       "      <th></th>\n",
       "      <th></th>\n",
       "      <th></th>\n",
       "    </tr>\n",
       "  </thead>\n",
       "  <tbody>\n",
       "    <tr>\n",
       "      <th>00001cee341fdb12</th>\n",
       "      <td>Yo bitch Ja Rule is more succesful then you'll ever be whats up with you and hating you sad mofuckas...i should bitch slap ur pethedic white faces and get you to kiss my ass you guys sicken me. Ja rule is about pride in da music man. dont diss that shit on him. and nothin is wrong bein like tupac he was a brother too...fuckin white boys get things right next time.,</td>\n",
       "      <td>-1</td>\n",
       "      <td>-1</td>\n",
       "      <td>-1</td>\n",
       "      <td>-1</td>\n",
       "      <td>-1</td>\n",
       "      <td>-1</td>\n",
       "    </tr>\n",
       "    <tr>\n",
       "      <th>0000247867823ef7</th>\n",
       "      <td>== From RfC == \\n\\n The title is fine as it is, IMO.</td>\n",
       "      <td>-1</td>\n",
       "      <td>-1</td>\n",
       "      <td>-1</td>\n",
       "      <td>-1</td>\n",
       "      <td>-1</td>\n",
       "      <td>-1</td>\n",
       "    </tr>\n",
       "    <tr>\n",
       "      <th>00013b17ad220c46</th>\n",
       "      <td>\" \\n\\n == Sources == \\n\\n * Zawe Ashton on Lapland —  /  \"</td>\n",
       "      <td>-1</td>\n",
       "      <td>-1</td>\n",
       "      <td>-1</td>\n",
       "      <td>-1</td>\n",
       "      <td>-1</td>\n",
       "      <td>-1</td>\n",
       "    </tr>\n",
       "    <tr>\n",
       "      <th>00017563c3f7919a</th>\n",
       "      <td>:If you have a look back at the source, the information I updated was the correct form. I can only guess the source hadn't updated. I shall update the information once again but thank you for your message.</td>\n",
       "      <td>-1</td>\n",
       "      <td>-1</td>\n",
       "      <td>-1</td>\n",
       "      <td>-1</td>\n",
       "      <td>-1</td>\n",
       "      <td>-1</td>\n",
       "    </tr>\n",
       "    <tr>\n",
       "      <th>00017695ad8997eb</th>\n",
       "      <td>I don't anonymously edit articles at all.</td>\n",
       "      <td>-1</td>\n",
       "      <td>-1</td>\n",
       "      <td>-1</td>\n",
       "      <td>-1</td>\n",
       "      <td>-1</td>\n",
       "      <td>-1</td>\n",
       "    </tr>\n",
       "  </tbody>\n",
       "</table>\n",
       "</div>"
      ],
      "text/plain": [
       "                                                                                                                                                                                                                                                                                                                                                                                     comment_text  \\\n",
       "id                                                                                                                                                                                                                                                                                                                                                                                                  \n",
       "00001cee341fdb12  Yo bitch Ja Rule is more succesful then you'll ever be whats up with you and hating you sad mofuckas...i should bitch slap ur pethedic white faces and get you to kiss my ass you guys sicken me. Ja rule is about pride in da music man. dont diss that shit on him. and nothin is wrong bein like tupac he was a brother too...fuckin white boys get things right next time.,   \n",
       "0000247867823ef7                                                                                                                                                                                                                                                                                                                             == From RfC == \\n\\n The title is fine as it is, IMO.   \n",
       "00013b17ad220c46                                                                                                                                                                                                                                                                                                                       \" \\n\\n == Sources == \\n\\n * Zawe Ashton on Lapland —  /  \"   \n",
       "00017563c3f7919a                                                                                                                                                                    :If you have a look back at the source, the information I updated was the correct form. I can only guess the source hadn't updated. I shall update the information once again but thank you for your message.   \n",
       "00017695ad8997eb                                                                                                                                                                                                                                                                                                                                        I don't anonymously edit articles at all.   \n",
       "\n",
       "                  toxic  severe_toxic  obscene  threat  insult  identity_hate  \n",
       "id                                                                             \n",
       "00001cee341fdb12     -1            -1       -1      -1      -1             -1  \n",
       "0000247867823ef7     -1            -1       -1      -1      -1             -1  \n",
       "00013b17ad220c46     -1            -1       -1      -1      -1             -1  \n",
       "00017563c3f7919a     -1            -1       -1      -1      -1             -1  \n",
       "00017695ad8997eb     -1            -1       -1      -1      -1             -1  "
      ]
     },
     "execution_count": 8,
     "metadata": {},
     "output_type": "execute_result"
    }
   ],
   "source": [
    "test_df.head()"
   ]
  },
  {
   "cell_type": "markdown",
   "id": "4d1c1aeb",
   "metadata": {
    "papermill": {
     "duration": 0.010682,
     "end_time": "2022-07-09T01:50:33.843497",
     "exception": false,
     "start_time": "2022-07-09T01:50:33.832815",
     "status": "completed"
    },
    "tags": []
   },
   "source": [
    "#### **2.2 Check for duplicates**"
   ]
  },
  {
   "cell_type": "code",
   "execution_count": 9,
   "id": "0880116a",
   "metadata": {
    "execution": {
     "iopub.execute_input": "2022-07-09T01:50:33.866197Z",
     "iopub.status.busy": "2022-07-09T01:50:33.865427Z",
     "iopub.status.idle": "2022-07-09T01:50:34.084145Z",
     "shell.execute_reply": "2022-07-09T01:50:34.083258Z"
    },
    "papermill": {
     "duration": 0.232232,
     "end_time": "2022-07-09T01:50:34.086307",
     "exception": false,
     "start_time": "2022-07-09T01:50:33.854075",
     "status": "completed"
    },
    "tags": []
   },
   "outputs": [
    {
     "data": {
      "text/plain": [
       "0"
      ]
     },
     "execution_count": 9,
     "metadata": {},
     "output_type": "execute_result"
    }
   ],
   "source": [
    "train_df.duplicated().sum()"
   ]
  },
  {
   "cell_type": "code",
   "execution_count": 10,
   "id": "d250ca3d",
   "metadata": {
    "execution": {
     "iopub.execute_input": "2022-07-09T01:50:34.109939Z",
     "iopub.status.busy": "2022-07-09T01:50:34.109651Z",
     "iopub.status.idle": "2022-07-09T01:50:34.284312Z",
     "shell.execute_reply": "2022-07-09T01:50:34.283255Z"
    },
    "papermill": {
     "duration": 0.189188,
     "end_time": "2022-07-09T01:50:34.286723",
     "exception": false,
     "start_time": "2022-07-09T01:50:34.097535",
     "status": "completed"
    },
    "tags": []
   },
   "outputs": [
    {
     "data": {
      "text/plain": [
       "0"
      ]
     },
     "execution_count": 10,
     "metadata": {},
     "output_type": "execute_result"
    }
   ],
   "source": [
    "train_df.duplicated(subset=['comment_text']).sum()"
   ]
  },
  {
   "cell_type": "code",
   "execution_count": 11,
   "id": "6d175461",
   "metadata": {
    "execution": {
     "iopub.execute_input": "2022-07-09T01:50:34.310942Z",
     "iopub.status.busy": "2022-07-09T01:50:34.310169Z",
     "iopub.status.idle": "2022-07-09T01:50:34.512670Z",
     "shell.execute_reply": "2022-07-09T01:50:34.510134Z"
    },
    "papermill": {
     "duration": 0.218872,
     "end_time": "2022-07-09T01:50:34.516762",
     "exception": false,
     "start_time": "2022-07-09T01:50:34.297890",
     "status": "completed"
    },
    "tags": []
   },
   "outputs": [
    {
     "data": {
      "text/plain": [
       "0"
      ]
     },
     "execution_count": 11,
     "metadata": {},
     "output_type": "execute_result"
    }
   ],
   "source": [
    "test_df.duplicated().sum()"
   ]
  },
  {
   "cell_type": "markdown",
   "id": "d4bb1ddd",
   "metadata": {
    "papermill": {
     "duration": 0.01118,
     "end_time": "2022-07-09T01:50:34.540595",
     "exception": false,
     "start_time": "2022-07-09T01:50:34.529415",
     "status": "completed"
    },
    "tags": []
   },
   "source": [
    "#### **2.3 Check for URLs**"
   ]
  },
  {
   "cell_type": "code",
   "execution_count": 12,
   "id": "a143b158",
   "metadata": {
    "execution": {
     "iopub.execute_input": "2022-07-09T01:50:34.563281Z",
     "iopub.status.busy": "2022-07-09T01:50:34.562968Z",
     "iopub.status.idle": "2022-07-09T01:50:35.847788Z",
     "shell.execute_reply": "2022-07-09T01:50:35.846118Z"
    },
    "papermill": {
     "duration": 1.299432,
     "end_time": "2022-07-09T01:50:35.850790",
     "exception": false,
     "start_time": "2022-07-09T01:50:34.551358",
     "status": "completed"
    },
    "tags": []
   },
   "outputs": [
    {
     "data": {
      "text/plain": [
       "id\n",
       "000c0dfd995809fa                                                                                                                                                                                       [http://www.its.caltech.edu/~atomic/snowcrystals/myths/myths.htm#perfection]\n",
       "001363e1dbe91225                                                                                                                                                                                               [http://digg.com/music/Wikipedia_has_free_classical_music_downloads]\n",
       "002c9cccf2f1d05b                                                                                                                                        [http://www.constitution.ie/reports/ConstitutionofIreland.pdf, http://www.constitution.ie/reports/mbunreachtnaheireann.pdf]\n",
       "0038f191ffc93d75                                                                                                                                                                                                              [https://ml.wikipedia.org/wiki/സംവാദം:മോസ്കോ_മെട്രോ.]\n",
       "003fa0c68deca750                                                                                                             [http://www.iranchamber.com/personalities/farabi/farabi.php, http://www.islam.org.br/%C2%A0al_farabi.htm, http://www.superbeyin.com/sohbet/sohbet.htm]\n",
       "                                                                                                                                                 ...                                                                                                                               \n",
       "fbf8672ea3b4ddf7                                                                                                                                                                                                                               [http://www.nysun.com/article/23698]\n",
       "fca6db97dde470bc                                                                                                                                                                                                                    [http://en.wikipedia.org/wiki/Talk:Nissan_GT-R]\n",
       "fd5773ec2e4bcf3a    [http://rexcurry.net/wikipedialies.html, http://rexcurry.net/pledgesalute.html, http://rexcurry.net/pledge2.html, http://rexcurry.net/pledge_military.html, http://rexcurry.net/book1a1contents-pledge.html, http://rexcurry.net/book1a1contents-swastika.html]\n",
       "fd58d3a74b75da85                                                                                                                                                                                                                 [http://www.the-scorpions.com/english/history.asp]\n",
       "ff1fd5721a58e8c7                                                     [http://www.nvidia.com/object/IO_20021017_4141.html, http://www.amazon.com/tag/palit%20microsystems, http://www.pcuniverse.com/Palit-Microsystems/bs/h/3158, http://en.wikipedia.org/wiki/Talk:EVGA_(Company)]\n",
       "Name: comment_text, Length: 4337, dtype: object"
      ]
     },
     "execution_count": 12,
     "metadata": {},
     "output_type": "execute_result"
    }
   ],
   "source": [
    "train_df.comment_text.str.findall(r'https?:\\/\\/\\S*').drop_duplicates(keep=False)"
   ]
  },
  {
   "cell_type": "markdown",
   "id": "00f941d5",
   "metadata": {
    "papermill": {
     "duration": 0.019091,
     "end_time": "2022-07-09T01:50:35.887724",
     "exception": false,
     "start_time": "2022-07-09T01:50:35.868633",
     "status": "completed"
    },
    "tags": []
   },
   "source": [
    "#### **2.4 Check for Emails and mentions**"
   ]
  },
  {
   "cell_type": "code",
   "execution_count": 13,
   "id": "94f97a70",
   "metadata": {
    "execution": {
     "iopub.execute_input": "2022-07-09T01:50:35.928096Z",
     "iopub.status.busy": "2022-07-09T01:50:35.926776Z",
     "iopub.status.idle": "2022-07-09T01:50:41.384117Z",
     "shell.execute_reply": "2022-07-09T01:50:41.383178Z"
    },
    "papermill": {
     "duration": 5.476448,
     "end_time": "2022-07-09T01:50:41.386184",
     "exception": false,
     "start_time": "2022-07-09T01:50:35.909736",
     "status": "completed"
    },
    "tags": []
   },
   "outputs": [
    {
     "data": {
      "text/plain": [
       "id\n",
       "0236f714de182059                      [apriljohnson6868@gmail.com]\n",
       "03585d8dd27a3653                            [animeking237@aol.com]\n",
       "055c9cafcdb359f9    [bathory@bathory.org, bathory@maltedmedia.com]\n",
       "05ee06363d9dda77                                  [jeff@fugly.com]\n",
       "0675ca47f054c2c0                                           [@Matt]\n",
       "                                         ...                      \n",
       "ea17eecb83be13ee                             [manasgarg@gmail.com]\n",
       "ee831c8c79c9984f                                         [@'''''']\n",
       "ef12914c33ab46b5                                     [@Powergate:]\n",
       "f1ac66faba2e5bae                             [@Tznkai:, @Snowman:]\n",
       "f5379a104a9276a2                                 [last@yourhouse.]\n",
       "Name: comment_text, Length: 621, dtype: object"
      ]
     },
     "execution_count": 13,
     "metadata": {},
     "output_type": "execute_result"
    }
   ],
   "source": [
    "train_df.comment_text.str.findall(r'\\S*@\\S+').drop_duplicates(keep=False)"
   ]
  },
  {
   "cell_type": "markdown",
   "id": "1f52a93b",
   "metadata": {
    "papermill": {
     "duration": 0.012243,
     "end_time": "2022-07-09T01:50:41.410016",
     "exception": false,
     "start_time": "2022-07-09T01:50:41.397773",
     "status": "completed"
    },
    "tags": []
   },
   "source": [
    "#### **2.5 Check for Hashtags**"
   ]
  },
  {
   "cell_type": "code",
   "execution_count": 14,
   "id": "8508d451",
   "metadata": {
    "execution": {
     "iopub.execute_input": "2022-07-09T01:50:41.433729Z",
     "iopub.status.busy": "2022-07-09T01:50:41.433439Z",
     "iopub.status.idle": "2022-07-09T01:50:42.095199Z",
     "shell.execute_reply": "2022-07-09T01:50:42.094244Z"
    },
    "papermill": {
     "duration": 0.675857,
     "end_time": "2022-07-09T01:50:42.097369",
     "exception": false,
     "start_time": "2022-07-09T01:50:41.421512",
     "status": "completed"
    },
    "tags": []
   },
   "outputs": [
    {
     "data": {
      "text/plain": [
       "id\n",
       "0001b41b1c6bb37e                                                                                                                                                [#Transport]\n",
       "000c0dfd995809fa                                                                                                                                               [#perfection]\n",
       "001363e1dbe91225    [#Need_help.21Wikipedia_talk:WikiProject_Music/Archive_3#I_could_use_some_helpWikipedia_talk:WikiProject_Music/Archive_2#Raulbot.2C_and_the_music_list)]\n",
       "003b9f448ee4a29d                                                                                             [#WP:V_-_comparing_Jewish_Virtual_Library_and_Dissident_Voice.]\n",
       "00585c1da10b448b                                                                                                                                                    [#5-5-5]\n",
       "                                                                                              ...                                                                           \n",
       "f71b76e3de13609a                                                                                                                                                  [#3, #4).]\n",
       "f7f582a4b0c7f860        [#Deeptrivia.2C_Al-Khwarizmi_was_an_Arab, #Deeptrivia.2C_why_did_you_remove_this_verifiable_content.3F.21, #I_find_serious_fault_with_this_phrasing]\n",
       "f9321888a2ca1c37                                                                                                                                     [##ee9000;border:solid]\n",
       "fa9626486b24f0f6                                                                                                                                         [#An, #Anachronous]\n",
       "fc8ca591ef6bc42c                                                                                                                                                 [#Non-free]\n",
       "Name: comment_text, Length: 2110, dtype: object"
      ]
     },
     "execution_count": 14,
     "metadata": {},
     "output_type": "execute_result"
    }
   ],
   "source": [
    "train_df.comment_text.str.findall(r'#\\S+').drop_duplicates(keep=False)"
   ]
  },
  {
   "cell_type": "markdown",
   "id": "dbd99374",
   "metadata": {
    "papermill": {
     "duration": 0.010929,
     "end_time": "2022-07-09T01:50:42.119728",
     "exception": false,
     "start_time": "2022-07-09T01:50:42.108799",
     "status": "completed"
    },
    "tags": []
   },
   "source": [
    "#### **2.6 Check for HTML tags**"
   ]
  },
  {
   "cell_type": "code",
   "execution_count": 15,
   "id": "d60383c2",
   "metadata": {
    "execution": {
     "iopub.execute_input": "2022-07-09T01:50:42.143651Z",
     "iopub.status.busy": "2022-07-09T01:50:42.142698Z",
     "iopub.status.idle": "2022-07-09T01:50:42.450206Z",
     "shell.execute_reply": "2022-07-09T01:50:42.449159Z"
    },
    "papermill": {
     "duration": 0.322109,
     "end_time": "2022-07-09T01:50:42.452869",
     "exception": false,
     "start_time": "2022-07-09T01:50:42.130760",
     "status": "completed"
    },
    "tags": []
   },
   "outputs": [
    {
     "data": {
      "text/plain": [
       "id\n",
       "0e343b7f449df75a                                                                                                                                                                                                   [<  | ∂drini >]\n",
       "1905ca9ef49186a3                                                                          [< http://theregister.co.uk/2008/02/01/woolworths_bed_outrage >, < http://www.woolworths.co.uk/web/jsp/product/index.jsp?pid=11401556 >]\n",
       "1ae9fbf8d8bc558c                                                                                                                     [<ɰ> is a more appropriate symbol.  was useful because it was found on typewriters while <ɰ>]\n",
       "1c60ea64111132c6                                                                                                                                                                                         [<| 09.10.2007 | Monday>]\n",
       "2917d00d75fa9c1d                                                                                                              [<<... a world in which every single human being can freely share in the sum of all knowledge ...>>]\n",
       "                                                                                                                         ...                                                                                                      \n",
       "3049d085bc0f83a8    [< http://en.wikipedia.org/w/index.php?title=Wikipedia:Administrators%27_noticeboard/Wiki_editor_DonFphrnqTaub_Persina&diff;=178429228&oldid;=178383952 >, < | http://en.wikipedia.org/wiki/special:search/ >]\n",
       "799af7635b509ac5                                                                                                                                                                                                            [<<>>]\n",
       "b713a791ef0ef0c5                                                                                                                                                                                                          [<')))>]\n",
       "d484ee4c8c8aefcc                                                                                                                                                                                    [<[ freakofnurxture]|[ talk]>]\n",
       "e9e45f79d94fd41f                                                                                                                                                                                                          [< !  >]\n",
       "Name: comment_text, Length: 73, dtype: object"
      ]
     },
     "execution_count": 15,
     "metadata": {},
     "output_type": "execute_result"
    }
   ],
   "source": [
    "train_df.comment_text.str.findall(r'<.*>').drop_duplicates(keep=False)"
   ]
  },
  {
   "cell_type": "markdown",
   "id": "fe0607e0",
   "metadata": {
    "papermill": {
     "duration": 0.011696,
     "end_time": "2022-07-09T01:50:42.476400",
     "exception": false,
     "start_time": "2022-07-09T01:50:42.464704",
     "status": "completed"
    },
    "tags": []
   },
   "source": [
    "#### **2.7 Check for dataset imbalance**"
   ]
  },
  {
   "cell_type": "code",
   "execution_count": 16,
   "id": "b1f2b590",
   "metadata": {
    "execution": {
     "iopub.execute_input": "2022-07-09T01:50:42.499878Z",
     "iopub.status.busy": "2022-07-09T01:50:42.499594Z",
     "iopub.status.idle": "2022-07-09T01:50:43.223069Z",
     "shell.execute_reply": "2022-07-09T01:50:43.222172Z"
    },
    "papermill": {
     "duration": 0.737962,
     "end_time": "2022-07-09T01:50:43.225488",
     "exception": false,
     "start_time": "2022-07-09T01:50:42.487526",
     "status": "completed"
    },
    "tags": []
   },
   "outputs": [
    {
     "data": {
      "image/png": "[encoded data removed]",
      "text/plain": [
       "<Figure size 1800x1080 with 6 Axes>"
      ]
     },
     "metadata": {
      "needs_background": "light"
     },
     "output_type": "display_data"
    }
   ],
   "source": [
    "fig, ax = plt.subplots(2, 3, figsize=(25, 15))\n",
    "\n",
    "cols = train_df.select_dtypes(include=np.number)\n",
    "\n",
    "for col, subplot in zip(cols, ax.flatten()):\n",
    "    sns.countplot(x=train_df[col], ax=subplot)\n",
    "    for p in subplot.patches:\n",
    "        x_ = p.get_bbox().get_points()[:,0]\n",
    "        y_ = p.get_bbox().get_points()[1,1]\n",
    "        subplot.annotate(p.get_height(), (x_.mean(), y_), ha='center', va='bottom')\n",
    "        \n",
    "plt.show()"
   ]
  },
  {
   "cell_type": "markdown",
   "id": "8cc97ad2",
   "metadata": {
    "papermill": {
     "duration": 0.011928,
     "end_time": "2022-07-09T01:50:43.249670",
     "exception": false,
     "start_time": "2022-07-09T01:50:43.237742",
     "status": "completed"
    },
    "tags": []
   },
   "source": [
    "## **3. Text Preprocessing**"
   ]
  },
  {
   "cell_type": "markdown",
   "id": "6e4a0d00",
   "metadata": {
    "papermill": {
     "duration": 0.011819,
     "end_time": "2022-07-09T01:50:43.273812",
     "exception": false,
     "start_time": "2022-07-09T01:50:43.261993",
     "status": "completed"
    },
    "tags": []
   },
   "source": [
    "#### **3.1 Remove URLs**"
   ]
  },
  {
   "cell_type": "code",
   "execution_count": 17,
   "id": "72b6fe0b",
   "metadata": {
    "execution": {
     "iopub.execute_input": "2022-07-09T01:50:43.299477Z",
     "iopub.status.busy": "2022-07-09T01:50:43.298646Z",
     "iopub.status.idle": "2022-07-09T01:50:43.303791Z",
     "shell.execute_reply": "2022-07-09T01:50:43.302967Z"
    },
    "papermill": {
     "duration": 0.020073,
     "end_time": "2022-07-09T01:50:43.305703",
     "exception": false,
     "start_time": "2022-07-09T01:50:43.285630",
     "status": "completed"
    },
    "tags": []
   },
   "outputs": [],
   "source": [
    "def remove_urls(text):\n",
    "    return re.sub(r'https?:\\/\\/\\S*', '', text, flags=re.MULTILINE)"
   ]
  },
  {
   "cell_type": "markdown",
   "id": "6b221292",
   "metadata": {
    "papermill": {
     "duration": 0.01246,
     "end_time": "2022-07-09T01:50:43.329987",
     "exception": false,
     "start_time": "2022-07-09T01:50:43.317527",
     "status": "completed"
    },
    "tags": []
   },
   "source": [
    "#### **3.2 Remove Emails and Mentions**"
   ]
  },
  {
   "cell_type": "code",
   "execution_count": 18,
   "id": "b0997693",
   "metadata": {
    "execution": {
     "iopub.execute_input": "2022-07-09T01:50:43.355287Z",
     "iopub.status.busy": "2022-07-09T01:50:43.354988Z",
     "iopub.status.idle": "2022-07-09T01:50:43.359430Z",
     "shell.execute_reply": "2022-07-09T01:50:43.358489Z"
    },
    "papermill": {
     "duration": 0.019019,
     "end_time": "2022-07-09T01:50:43.361333",
     "exception": false,
     "start_time": "2022-07-09T01:50:43.342314",
     "status": "completed"
    },
    "tags": []
   },
   "outputs": [],
   "source": [
    "def remove_emails_and_mentions(text):\n",
    "    return re.sub(r'\\S*@\\S+', '', text, flags=re.MULTILINE)"
   ]
  },
  {
   "cell_type": "markdown",
   "id": "97df8d64",
   "metadata": {
    "papermill": {
     "duration": 0.011907,
     "end_time": "2022-07-09T01:50:43.385046",
     "exception": false,
     "start_time": "2022-07-09T01:50:43.373139",
     "status": "completed"
    },
    "tags": []
   },
   "source": [
    "#### **3.3 Remove Hashtags**"
   ]
  },
  {
   "cell_type": "code",
   "execution_count": 19,
   "id": "dba98dda",
   "metadata": {
    "execution": {
     "iopub.execute_input": "2022-07-09T01:50:43.410068Z",
     "iopub.status.busy": "2022-07-09T01:50:43.409815Z",
     "iopub.status.idle": "2022-07-09T01:50:43.414206Z",
     "shell.execute_reply": "2022-07-09T01:50:43.413263Z"
    },
    "papermill": {
     "duration": 0.019278,
     "end_time": "2022-07-09T01:50:43.416162",
     "exception": false,
     "start_time": "2022-07-09T01:50:43.396884",
     "status": "completed"
    },
    "tags": []
   },
   "outputs": [],
   "source": [
    "def remove_hashtags(text):\n",
    "    return re.sub(r'#\\S+', '', text, flags=re.MULTILINE)"
   ]
  },
  {
   "cell_type": "markdown",
   "id": "d20383e9",
   "metadata": {
    "papermill": {
     "duration": 0.011738,
     "end_time": "2022-07-09T01:50:43.439652",
     "exception": false,
     "start_time": "2022-07-09T01:50:43.427914",
     "status": "completed"
    },
    "tags": []
   },
   "source": [
    "#### **3.4 Remove HTML tags**"
   ]
  },
  {
   "cell_type": "code",
   "execution_count": 20,
   "id": "eb48433d",
   "metadata": {
    "execution": {
     "iopub.execute_input": "2022-07-09T01:50:43.465325Z",
     "iopub.status.busy": "2022-07-09T01:50:43.465055Z",
     "iopub.status.idle": "2022-07-09T01:50:43.469465Z",
     "shell.execute_reply": "2022-07-09T01:50:43.468353Z"
    },
    "papermill": {
     "duration": 0.019878,
     "end_time": "2022-07-09T01:50:43.471448",
     "exception": false,
     "start_time": "2022-07-09T01:50:43.451570",
     "status": "completed"
    },
    "tags": []
   },
   "outputs": [],
   "source": [
    "def remove_html_tags(text):\n",
    "    return re.sub(r'<+.*>+', '', text, flags=re.MULTILINE)"
   ]
  },
  {
   "cell_type": "markdown",
   "id": "dd82a53c",
   "metadata": {
    "papermill": {
     "duration": 0.011956,
     "end_time": "2022-07-09T01:50:43.495297",
     "exception": false,
     "start_time": "2022-07-09T01:50:43.483341",
     "status": "completed"
    },
    "tags": []
   },
   "source": [
    "#### **3.5 Remove whitespaces**"
   ]
  },
  {
   "cell_type": "code",
   "execution_count": 21,
   "id": "a1338aed",
   "metadata": {
    "execution": {
     "iopub.execute_input": "2022-07-09T01:50:43.520095Z",
     "iopub.status.busy": "2022-07-09T01:50:43.519844Z",
     "iopub.status.idle": "2022-07-09T01:50:43.524067Z",
     "shell.execute_reply": "2022-07-09T01:50:43.523100Z"
    },
    "papermill": {
     "duration": 0.019006,
     "end_time": "2022-07-09T01:50:43.526119",
     "exception": false,
     "start_time": "2022-07-09T01:50:43.507113",
     "status": "completed"
    },
    "tags": []
   },
   "outputs": [],
   "source": [
    "def remove_whitespaces(text):\n",
    "    return text.strip()"
   ]
  },
  {
   "cell_type": "markdown",
   "id": "d816daec",
   "metadata": {
    "papermill": {
     "duration": 0.011648,
     "end_time": "2022-07-09T01:50:43.549542",
     "exception": false,
     "start_time": "2022-07-09T01:50:43.537894",
     "status": "completed"
    },
    "tags": []
   },
   "source": [
    "#### **3.6 Convert text to lower case**"
   ]
  },
  {
   "cell_type": "code",
   "execution_count": 22,
   "id": "01d28a1a",
   "metadata": {
    "execution": {
     "iopub.execute_input": "2022-07-09T01:50:43.574374Z",
     "iopub.status.busy": "2022-07-09T01:50:43.574085Z",
     "iopub.status.idle": "2022-07-09T01:50:43.578364Z",
     "shell.execute_reply": "2022-07-09T01:50:43.577414Z"
    },
    "papermill": {
     "duration": 0.018792,
     "end_time": "2022-07-09T01:50:43.580191",
     "exception": false,
     "start_time": "2022-07-09T01:50:43.561399",
     "status": "completed"
    },
    "tags": []
   },
   "outputs": [],
   "source": [
    "def to_lowercase(text):\n",
    "    return text.lower()"
   ]
  },
  {
   "cell_type": "markdown",
   "id": "3a1877a7",
   "metadata": {
    "papermill": {
     "duration": 0.0125,
     "end_time": "2022-07-09T01:50:43.606679",
     "exception": false,
     "start_time": "2022-07-09T01:50:43.594179",
     "status": "completed"
    },
    "tags": []
   },
   "source": [
    "#### **3.7 Remove all special characters**"
   ]
  },
  {
   "cell_type": "code",
   "execution_count": 23,
   "id": "dfb269e9",
   "metadata": {
    "execution": {
     "iopub.execute_input": "2022-07-09T01:50:43.632040Z",
     "iopub.status.busy": "2022-07-09T01:50:43.631746Z",
     "iopub.status.idle": "2022-07-09T01:50:43.636189Z",
     "shell.execute_reply": "2022-07-09T01:50:43.635258Z"
    },
    "papermill": {
     "duration": 0.019291,
     "end_time": "2022-07-09T01:50:43.638127",
     "exception": false,
     "start_time": "2022-07-09T01:50:43.618836",
     "status": "completed"
    },
    "tags": []
   },
   "outputs": [],
   "source": [
    "def remove_special_chars(text):\n",
    "    return re.findall(r'[a-z]{3,}', text)"
   ]
  },
  {
   "cell_type": "markdown",
   "id": "27241d63",
   "metadata": {
    "papermill": {
     "duration": 0.012119,
     "end_time": "2022-07-09T01:50:43.662260",
     "exception": false,
     "start_time": "2022-07-09T01:50:43.650141",
     "status": "completed"
    },
    "tags": []
   },
   "source": [
    "#### **3.8 Remove stopwords**"
   ]
  },
  {
   "cell_type": "code",
   "execution_count": 24,
   "id": "a0210f6e",
   "metadata": {
    "execution": {
     "iopub.execute_input": "2022-07-09T01:50:43.688469Z",
     "iopub.status.busy": "2022-07-09T01:50:43.687735Z",
     "iopub.status.idle": "2022-07-09T01:50:43.692799Z",
     "shell.execute_reply": "2022-07-09T01:50:43.691948Z"
    },
    "papermill": {
     "duration": 0.019994,
     "end_time": "2022-07-09T01:50:43.694658",
     "exception": false,
     "start_time": "2022-07-09T01:50:43.674664",
     "status": "completed"
    },
    "tags": []
   },
   "outputs": [],
   "source": [
    "def remove_stopwords(words):\n",
    "    stop_words = set(stopwords.words('english'))\n",
    "    return [word for word in words if word not in stop_words]"
   ]
  },
  {
   "cell_type": "markdown",
   "id": "faa72247",
   "metadata": {
    "papermill": {
     "duration": 0.012631,
     "end_time": "2022-07-09T01:50:43.719929",
     "exception": false,
     "start_time": "2022-07-09T01:50:43.707298",
     "status": "completed"
    },
    "tags": []
   },
   "source": [
    "#### **3.9 Lemmatization**"
   ]
  },
  {
   "cell_type": "code",
   "execution_count": 25,
   "id": "26498a19",
   "metadata": {
    "execution": {
     "iopub.execute_input": "2022-07-09T01:50:43.745625Z",
     "iopub.status.busy": "2022-07-09T01:50:43.745363Z",
     "iopub.status.idle": "2022-07-09T01:50:43.749891Z",
     "shell.execute_reply": "2022-07-09T01:50:43.748964Z"
    },
    "papermill": {
     "duration": 0.019574,
     "end_time": "2022-07-09T01:50:43.751829",
     "exception": false,
     "start_time": "2022-07-09T01:50:43.732255",
     "status": "completed"
    },
    "tags": []
   },
   "outputs": [],
   "source": [
    "def lemmatization(words):\n",
    "    lemmatizer = WordNetLemmatizer()\n",
    "    return ' '.join(lemmatizer.lemmatize(word) for word in words)"
   ]
  },
  {
   "cell_type": "markdown",
   "id": "cb52c4e2",
   "metadata": {
    "papermill": {
     "duration": 0.011692,
     "end_time": "2022-07-09T01:50:43.775496",
     "exception": false,
     "start_time": "2022-07-09T01:50:43.763804",
     "status": "completed"
    },
    "tags": []
   },
   "source": [
    "#### **Putting all the pipeline together**"
   ]
  },
  {
   "cell_type": "code",
   "execution_count": 26,
   "id": "363f40e5",
   "metadata": {
    "execution": {
     "iopub.execute_input": "2022-07-09T01:50:43.801688Z",
     "iopub.status.busy": "2022-07-09T01:50:43.801404Z",
     "iopub.status.idle": "2022-07-09T01:50:43.806971Z",
     "shell.execute_reply": "2022-07-09T01:50:43.806021Z"
    },
    "papermill": {
     "duration": 0.021144,
     "end_time": "2022-07-09T01:50:43.808970",
     "exception": false,
     "start_time": "2022-07-09T01:50:43.787826",
     "status": "completed"
    },
    "tags": []
   },
   "outputs": [],
   "source": [
    "def text_preprocessing(text):\n",
    "    text = remove_urls(text)\n",
    "    text = remove_emails_and_mentions(text)\n",
    "    text = remove_hashtags(text)\n",
    "    text = remove_html_tags(text)\n",
    "    text = remove_whitespaces(text)\n",
    "    text = to_lowercase(text)\n",
    "    words = remove_special_chars(text)\n",
    "    words = remove_stopwords(words)\n",
    "    text = lemmatization(words)\n",
    "    return text"
   ]
  },
  {
   "cell_type": "markdown",
   "id": "bee0de7d",
   "metadata": {
    "papermill": {
     "duration": 0.011819,
     "end_time": "2022-07-09T01:50:43.833257",
     "exception": false,
     "start_time": "2022-07-09T01:50:43.821438",
     "status": "completed"
    },
    "tags": []
   },
   "source": [
    "#### **Applying text preprocessing on train and test sets**"
   ]
  },
  {
   "cell_type": "code",
   "execution_count": 27,
   "id": "3dd4a927",
   "metadata": {
    "execution": {
     "iopub.execute_input": "2022-07-09T01:50:43.860110Z",
     "iopub.status.busy": "2022-07-09T01:50:43.858757Z",
     "iopub.status.idle": "2022-07-09T01:51:47.020322Z",
     "shell.execute_reply": "2022-07-09T01:51:47.019341Z"
    },
    "papermill": {
     "duration": 63.177876,
     "end_time": "2022-07-09T01:51:47.023038",
     "exception": false,
     "start_time": "2022-07-09T01:50:43.845162",
     "status": "completed"
    },
    "tags": []
   },
   "outputs": [],
   "source": [
    "train_df.comment_text = train_df.comment_text.apply(text_preprocessing)"
   ]
  },
  {
   "cell_type": "code",
   "execution_count": 28,
   "id": "3df435aa",
   "metadata": {
    "execution": {
     "iopub.execute_input": "2022-07-09T01:51:47.049730Z",
     "iopub.status.busy": "2022-07-09T01:51:47.049445Z",
     "iopub.status.idle": "2022-07-09T01:52:43.058884Z",
     "shell.execute_reply": "2022-07-09T01:52:43.057918Z"
    },
    "papermill": {
     "duration": 56.025286,
     "end_time": "2022-07-09T01:52:43.061609",
     "exception": false,
     "start_time": "2022-07-09T01:51:47.036323",
     "status": "completed"
    },
    "tags": []
   },
   "outputs": [],
   "source": [
    "test_df.comment_text = test_df.comment_text.apply(text_preprocessing)"
   ]
  },
  {
   "cell_type": "markdown",
   "id": "0695862e",
   "metadata": {
    "papermill": {
     "duration": 0.011875,
     "end_time": "2022-07-09T01:52:43.086246",
     "exception": false,
     "start_time": "2022-07-09T01:52:43.074371",
     "status": "completed"
    },
    "tags": []
   },
   "source": [
    "#### **Showing a sample of data after cleaning**"
   ]
  },
  {
   "cell_type": "code",
   "execution_count": 29,
   "id": "bb6e9e79",
   "metadata": {
    "execution": {
     "iopub.execute_input": "2022-07-09T01:52:43.112469Z",
     "iopub.status.busy": "2022-07-09T01:52:43.111635Z",
     "iopub.status.idle": "2022-07-09T01:52:43.123659Z",
     "shell.execute_reply": "2022-07-09T01:52:43.122594Z"
    },
    "papermill": {
     "duration": 0.027693,
     "end_time": "2022-07-09T01:52:43.125754",
     "exception": false,
     "start_time": "2022-07-09T01:52:43.098061",
     "status": "completed"
    },
    "tags": []
   },
   "outputs": [
    {
     "data": {
      "text/html": [
       "<div>\n",
       "<style scoped>\n",
       "    .dataframe tbody tr th:only-of-type {\n",
       "        vertical-align: middle;\n",
       "    }\n",
       "\n",
       "    .dataframe tbody tr th {\n",
       "        vertical-align: top;\n",
       "    }\n",
       "\n",
       "    .dataframe thead th {\n",
       "        text-align: right;\n",
       "    }\n",
       "</style>\n",
       "<table border=\"1\" class=\"dataframe\">\n",
       "  <thead>\n",
       "    <tr style=\"text-align: right;\">\n",
       "      <th></th>\n",
       "      <th>comment_text</th>\n",
       "      <th>toxic</th>\n",
       "      <th>severe_toxic</th>\n",
       "      <th>obscene</th>\n",
       "      <th>threat</th>\n",
       "      <th>insult</th>\n",
       "      <th>identity_hate</th>\n",
       "    </tr>\n",
       "    <tr>\n",
       "      <th>id</th>\n",
       "      <th></th>\n",
       "      <th></th>\n",
       "      <th></th>\n",
       "      <th></th>\n",
       "      <th></th>\n",
       "      <th></th>\n",
       "      <th></th>\n",
       "    </tr>\n",
       "  </thead>\n",
       "  <tbody>\n",
       "    <tr>\n",
       "      <th>0000997932d777bf</th>\n",
       "      <td>explanation edits made username hardcore metallica fan reverted vandalism closure gas voted new york doll fac please remove template talk page since retired</td>\n",
       "      <td>0</td>\n",
       "      <td>0</td>\n",
       "      <td>0</td>\n",
       "      <td>0</td>\n",
       "      <td>0</td>\n",
       "      <td>0</td>\n",
       "    </tr>\n",
       "    <tr>\n",
       "      <th>000103f0d9cfb60f</th>\n",
       "      <td>aww match background colour seemingly stuck thanks talk january utc</td>\n",
       "      <td>0</td>\n",
       "      <td>0</td>\n",
       "      <td>0</td>\n",
       "      <td>0</td>\n",
       "      <td>0</td>\n",
       "      <td>0</td>\n",
       "    </tr>\n",
       "    <tr>\n",
       "      <th>000113f07ec002fd</th>\n",
       "      <td>hey man really trying edit war guy constantly removing relevant information talking edits instead talk page seems care formatting actual info</td>\n",
       "      <td>0</td>\n",
       "      <td>0</td>\n",
       "      <td>0</td>\n",
       "      <td>0</td>\n",
       "      <td>0</td>\n",
       "      <td>0</td>\n",
       "    </tr>\n",
       "    <tr>\n",
       "      <th>0001b41b1c6bb37e</th>\n",
       "      <td>make real suggestion improvement wondered section statistic later subsection type accident think reference may need tidying exact format date format etc later one else first preference formatting style reference want please let know appears backlog article review guess may delay reviewer turn listed relevant form wikipedia good article nomination</td>\n",
       "      <td>0</td>\n",
       "      <td>0</td>\n",
       "      <td>0</td>\n",
       "      <td>0</td>\n",
       "      <td>0</td>\n",
       "      <td>0</td>\n",
       "    </tr>\n",
       "    <tr>\n",
       "      <th>0001d958c54c6e35</th>\n",
       "      <td>sir hero chance remember page</td>\n",
       "      <td>0</td>\n",
       "      <td>0</td>\n",
       "      <td>0</td>\n",
       "      <td>0</td>\n",
       "      <td>0</td>\n",
       "      <td>0</td>\n",
       "    </tr>\n",
       "  </tbody>\n",
       "</table>\n",
       "</div>"
      ],
      "text/plain": [
       "                                                                                                                                                                                                                                                                                                                                                                  comment_text  \\\n",
       "id                                                                                                                                                                                                                                                                                                                                                                               \n",
       "0000997932d777bf                                                                                                                                                                                                  explanation edits made username hardcore metallica fan reverted vandalism closure gas voted new york doll fac please remove template talk page since retired   \n",
       "000103f0d9cfb60f                                                                                                                                                                                                                                                                                           aww match background colour seemingly stuck thanks talk january utc   \n",
       "000113f07ec002fd                                                                                                                                                                                                                 hey man really trying edit war guy constantly removing relevant information talking edits instead talk page seems care formatting actual info   \n",
       "0001b41b1c6bb37e  make real suggestion improvement wondered section statistic later subsection type accident think reference may need tidying exact format date format etc later one else first preference formatting style reference want please let know appears backlog article review guess may delay reviewer turn listed relevant form wikipedia good article nomination   \n",
       "0001d958c54c6e35                                                                                                                                                                                                                                                                                                                                 sir hero chance remember page   \n",
       "\n",
       "                  toxic  severe_toxic  obscene  threat  insult  identity_hate  \n",
       "id                                                                             \n",
       "0000997932d777bf      0             0        0       0       0              0  \n",
       "000103f0d9cfb60f      0             0        0       0       0              0  \n",
       "000113f07ec002fd      0             0        0       0       0              0  \n",
       "0001b41b1c6bb37e      0             0        0       0       0              0  \n",
       "0001d958c54c6e35      0             0        0       0       0              0  "
      ]
     },
     "execution_count": 29,
     "metadata": {},
     "output_type": "execute_result"
    }
   ],
   "source": [
    "train_df.head()"
   ]
  },
  {
   "cell_type": "code",
   "execution_count": 30,
   "id": "d456ae83",
   "metadata": {
    "execution": {
     "iopub.execute_input": "2022-07-09T01:52:43.152330Z",
     "iopub.status.busy": "2022-07-09T01:52:43.150791Z",
     "iopub.status.idle": "2022-07-09T01:52:43.161483Z",
     "shell.execute_reply": "2022-07-09T01:52:43.160606Z"
    },
    "papermill": {
     "duration": 0.025442,
     "end_time": "2022-07-09T01:52:43.163344",
     "exception": false,
     "start_time": "2022-07-09T01:52:43.137902",
     "status": "completed"
    },
    "tags": []
   },
   "outputs": [
    {
     "data": {
      "text/html": [
       "<div>\n",
       "<style scoped>\n",
       "    .dataframe tbody tr th:only-of-type {\n",
       "        vertical-align: middle;\n",
       "    }\n",
       "\n",
       "    .dataframe tbody tr th {\n",
       "        vertical-align: top;\n",
       "    }\n",
       "\n",
       "    .dataframe thead th {\n",
       "        text-align: right;\n",
       "    }\n",
       "</style>\n",
       "<table border=\"1\" class=\"dataframe\">\n",
       "  <thead>\n",
       "    <tr style=\"text-align: right;\">\n",
       "      <th></th>\n",
       "      <th>comment_text</th>\n",
       "      <th>toxic</th>\n",
       "      <th>severe_toxic</th>\n",
       "      <th>obscene</th>\n",
       "      <th>threat</th>\n",
       "      <th>insult</th>\n",
       "      <th>identity_hate</th>\n",
       "    </tr>\n",
       "    <tr>\n",
       "      <th>id</th>\n",
       "      <th></th>\n",
       "      <th></th>\n",
       "      <th></th>\n",
       "      <th></th>\n",
       "      <th></th>\n",
       "      <th></th>\n",
       "      <th></th>\n",
       "    </tr>\n",
       "  </thead>\n",
       "  <tbody>\n",
       "    <tr>\n",
       "      <th>00001cee341fdb12</th>\n",
       "      <td>bitch rule succesful ever whats hating sad mofuckas bitch slap pethedic white face get kiss as guy sicken rule pride music man dont dis shit nothin wrong bein like tupac brother fuckin white boy get thing right next time</td>\n",
       "      <td>-1</td>\n",
       "      <td>-1</td>\n",
       "      <td>-1</td>\n",
       "      <td>-1</td>\n",
       "      <td>-1</td>\n",
       "      <td>-1</td>\n",
       "    </tr>\n",
       "    <tr>\n",
       "      <th>0000247867823ef7</th>\n",
       "      <td>rfc title fine imo</td>\n",
       "      <td>-1</td>\n",
       "      <td>-1</td>\n",
       "      <td>-1</td>\n",
       "      <td>-1</td>\n",
       "      <td>-1</td>\n",
       "      <td>-1</td>\n",
       "    </tr>\n",
       "    <tr>\n",
       "      <th>00013b17ad220c46</th>\n",
       "      <td>source zawe ashton lapland</td>\n",
       "      <td>-1</td>\n",
       "      <td>-1</td>\n",
       "      <td>-1</td>\n",
       "      <td>-1</td>\n",
       "      <td>-1</td>\n",
       "      <td>-1</td>\n",
       "    </tr>\n",
       "    <tr>\n",
       "      <th>00017563c3f7919a</th>\n",
       "      <td>look back source information updated correct form guess source updated shall update information thank message</td>\n",
       "      <td>-1</td>\n",
       "      <td>-1</td>\n",
       "      <td>-1</td>\n",
       "      <td>-1</td>\n",
       "      <td>-1</td>\n",
       "      <td>-1</td>\n",
       "    </tr>\n",
       "    <tr>\n",
       "      <th>00017695ad8997eb</th>\n",
       "      <td>anonymously edit article</td>\n",
       "      <td>-1</td>\n",
       "      <td>-1</td>\n",
       "      <td>-1</td>\n",
       "      <td>-1</td>\n",
       "      <td>-1</td>\n",
       "      <td>-1</td>\n",
       "    </tr>\n",
       "  </tbody>\n",
       "</table>\n",
       "</div>"
      ],
      "text/plain": [
       "                                                                                                                                                                                                                                  comment_text  \\\n",
       "id                                                                                                                                                                                                                                               \n",
       "00001cee341fdb12  bitch rule succesful ever whats hating sad mofuckas bitch slap pethedic white face get kiss as guy sicken rule pride music man dont dis shit nothin wrong bein like tupac brother fuckin white boy get thing right next time   \n",
       "0000247867823ef7                                                                                                                                                                                                            rfc title fine imo   \n",
       "00013b17ad220c46                                                                                                                                                                                                    source zawe ashton lapland   \n",
       "00017563c3f7919a                                                                                                                 look back source information updated correct form guess source updated shall update information thank message   \n",
       "00017695ad8997eb                                                                                                                                                                                                      anonymously edit article   \n",
       "\n",
       "                  toxic  severe_toxic  obscene  threat  insult  identity_hate  \n",
       "id                                                                             \n",
       "00001cee341fdb12     -1            -1       -1      -1      -1             -1  \n",
       "0000247867823ef7     -1            -1       -1      -1      -1             -1  \n",
       "00013b17ad220c46     -1            -1       -1      -1      -1             -1  \n",
       "00017563c3f7919a     -1            -1       -1      -1      -1             -1  \n",
       "00017695ad8997eb     -1            -1       -1      -1      -1             -1  "
      ]
     },
     "execution_count": 30,
     "metadata": {},
     "output_type": "execute_result"
    }
   ],
   "source": [
    "test_df.head()"
   ]
  }
 ],
 "metadata": {
  "kernelspec": {
   "display_name": "Python 3",
   "language": "python",
   "name": "python3"
  },
  "language_info": {
   "codemirror_mode": {
    "name": "ipython",
    "version": 3
   },
   "file_extension": ".py",
   "mimetype": "text/x-python",
   "name": "python",
   "nbconvert_exporter": "python",
   "pygments_lexer": "ipython3",
   "version": "3.7.12"
  },
  "papermill": {
   "default_parameters": {},
   "duration": 151.389294,
   "end_time": "2022-07-09T01:52:46.387076",
   "environment_variables": {},
   "exception": null,
   "input_path": "__notebook__.ipynb",
   "output_path": "__notebook__.ipynb",
   "parameters": {},
   "start_time": "2022-07-09T01:50:14.997782",
   "version": "2.3.4"
  }
 },
 "nbformat": 4,
 "nbformat_minor": 5
}
