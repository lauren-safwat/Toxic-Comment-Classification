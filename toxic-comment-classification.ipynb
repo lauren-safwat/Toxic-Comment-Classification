{
 "cells": [
  {
   "cell_type": "markdown",
   "id": "96f50e5d",
   "metadata": {
    "papermill": {
     "duration": 0.015305,
     "end_time": "2022-07-09T12:37:13.081244",
     "exception": false,
     "start_time": "2022-07-09T12:37:13.065939",
     "status": "completed"
    },
    "tags": []
   },
   "source": [
    "### **Imports**"
   ]
  },
  {
   "cell_type": "code",
   "execution_count": 1,
   "id": "87953e84",
   "metadata": {
    "execution": {
     "iopub.execute_input": "2022-07-09T12:37:13.131514Z",
     "iopub.status.busy": "2022-07-09T12:37:13.130382Z",
     "iopub.status.idle": "2022-07-09T12:37:20.056978Z",
     "shell.execute_reply": "2022-07-09T12:37:20.055872Z"
    },
    "papermill": {
     "duration": 6.955443,
     "end_time": "2022-07-09T12:37:20.059810",
     "exception": false,
     "start_time": "2022-07-09T12:37:13.104367",
     "status": "completed"
    },
    "tags": []
   },
   "outputs": [
    {
     "name": "stdout",
     "output_type": "stream",
     "text": [
      "[nltk_data] Downloading package stopwords to /usr/share/nltk_data...\n",
      "[nltk_data]   Unzipping corpora/stopwords.zip.\n",
      "[nltk_data] Downloading package wordnet to /usr/share/nltk_data...\n",
      "[nltk_data]   Package wordnet is already up-to-date!\n"
     ]
    }
   ],
   "source": [
    "import os\n",
    "import numpy as np\n",
    "import pandas as pd\n",
    "import matplotlib.pyplot as plt\n",
    "import seaborn as sns\n",
    "import re\n",
    "import nltk\n",
    "\n",
    "from nltk.corpus import stopwords\n",
    "nltk.download('stopwords')\n",
    "\n",
    "from nltk.stem import WordNetLemmatizer\n",
    "nltk.download('wordnet')\n",
    "\n",
    "from sklearn.model_selection import train_test_split\n",
    "from sklearn.feature_extraction.text import TfidfVectorizer\n",
    "from sklearn.svm import LinearSVC\n",
    "from sklearn.pipeline import make_pipeline\n",
    "\n",
    "from keras import models\n",
    "from keras import layers\n",
    "from tensorflow.keras import losses\n",
    "from tensorflow.keras import metrics\n",
    "from tensorflow.keras import optimizers\n",
    "from keras.preprocessing.text import one_hot\n",
    "from keras.preprocessing.sequence import pad_sequences\n",
    "from keras.preprocessing.text import Tokenizer\n",
    "from keras.utils.vis_utils import plot_model\n",
    "\n",
    "import warnings\n",
    "warnings.filterwarnings('ignore')"
   ]
  },
  {
   "cell_type": "code",
   "execution_count": 2,
   "id": "c5a3b5a9",
   "metadata": {
    "execution": {
     "iopub.execute_input": "2022-07-09T12:37:20.109591Z",
     "iopub.status.busy": "2022-07-09T12:37:20.108415Z",
     "iopub.status.idle": "2022-07-09T12:37:20.115057Z",
     "shell.execute_reply": "2022-07-09T12:37:20.114153Z"
    },
    "papermill": {
     "duration": 0.032974,
     "end_time": "2022-07-09T12:37:20.117624",
     "exception": false,
     "start_time": "2022-07-09T12:37:20.084650",
     "status": "completed"
    },
    "tags": []
   },
   "outputs": [],
   "source": [
    "pd.set_option('display.max_columns', None)\n",
    "pd.set_option('display.max_colwidth', None)"
   ]
  },
  {
   "cell_type": "markdown",
   "id": "f1464724",
   "metadata": {
    "papermill": {
     "duration": 0.027108,
     "end_time": "2022-07-09T12:37:20.166634",
     "exception": false,
     "start_time": "2022-07-09T12:37:20.139526",
     "status": "completed"
    },
    "tags": []
   },
   "source": [
    "## **1. Reading Toxic Comments Dataset**"
   ]
  },
  {
   "cell_type": "code",
   "execution_count": 3,
   "id": "f54d9faf",
   "metadata": {
    "execution": {
     "iopub.execute_input": "2022-07-09T12:37:20.220173Z",
     "iopub.status.busy": "2022-07-09T12:37:20.219898Z",
     "iopub.status.idle": "2022-07-09T12:37:23.338475Z",
     "shell.execute_reply": "2022-07-09T12:37:23.337488Z"
    },
    "papermill": {
     "duration": 3.144013,
     "end_time": "2022-07-09T12:37:23.340860",
     "exception": false,
     "start_time": "2022-07-09T12:37:20.196847",
     "status": "completed"
    },
    "tags": []
   },
   "outputs": [],
   "source": [
    "raw_train = pd.read_csv('../input/jigsaw-toxic-comment-classification/train.csv', index_col='id')\n",
    "raw_test = pd.read_csv('../input/jigsaw-toxic-comment-classification/test.csv', index_col='id')"
   ]
  },
  {
   "cell_type": "code",
   "execution_count": 4,
   "id": "cc9aaa71",
   "metadata": {
    "execution": {
     "iopub.execute_input": "2022-07-09T12:37:23.371717Z",
     "iopub.status.busy": "2022-07-09T12:37:23.371429Z",
     "iopub.status.idle": "2022-07-09T12:37:23.377856Z",
     "shell.execute_reply": "2022-07-09T12:37:23.376998Z"
    },
    "papermill": {
     "duration": 0.023905,
     "end_time": "2022-07-09T12:37:23.379725",
     "exception": false,
     "start_time": "2022-07-09T12:37:23.355820",
     "status": "completed"
    },
    "tags": []
   },
   "outputs": [],
   "source": [
    "raw_train.rename(columns={'comment_text': 'comment'}, inplace=True)\n",
    "raw_test.rename(columns={'comment_text': 'comment'}, inplace=True)"
   ]
  },
  {
   "cell_type": "code",
   "execution_count": 5,
   "id": "ae46050c",
   "metadata": {
    "execution": {
     "iopub.execute_input": "2022-07-09T12:37:23.409785Z",
     "iopub.status.busy": "2022-07-09T12:37:23.409516Z",
     "iopub.status.idle": "2022-07-09T12:37:23.450916Z",
     "shell.execute_reply": "2022-07-09T12:37:23.449729Z"
    },
    "papermill": {
     "duration": 0.058397,
     "end_time": "2022-07-09T12:37:23.452834",
     "exception": false,
     "start_time": "2022-07-09T12:37:23.394437",
     "status": "completed"
    },
    "tags": []
   },
   "outputs": [
    {
     "name": "stdout",
     "output_type": "stream",
     "text": [
      "<class 'pandas.core.frame.DataFrame'>\n",
      "Index: 159571 entries, 0000997932d777bf to fff46fc426af1f9a\n",
      "Data columns (total 7 columns):\n",
      " #   Column         Non-Null Count   Dtype \n",
      "---  ------         --------------   ----- \n",
      " 0   comment        159571 non-null  object\n",
      " 1   toxic          159571 non-null  int64 \n",
      " 2   severe_toxic   159571 non-null  int64 \n",
      " 3   obscene        159571 non-null  int64 \n",
      " 4   threat         159571 non-null  int64 \n",
      " 5   insult         159571 non-null  int64 \n",
      " 6   identity_hate  159571 non-null  int64 \n",
      "dtypes: int64(6), object(1)\n",
      "memory usage: 9.7+ MB\n"
     ]
    }
   ],
   "source": [
    "raw_train.info()"
   ]
  },
  {
   "cell_type": "code",
   "execution_count": 6,
   "id": "c120cdf5",
   "metadata": {
    "execution": {
     "iopub.execute_input": "2022-07-09T12:37:23.483433Z",
     "iopub.status.busy": "2022-07-09T12:37:23.482602Z",
     "iopub.status.idle": "2022-07-09T12:37:23.512174Z",
     "shell.execute_reply": "2022-07-09T12:37:23.511205Z"
    },
    "papermill": {
     "duration": 0.047887,
     "end_time": "2022-07-09T12:37:23.515037",
     "exception": false,
     "start_time": "2022-07-09T12:37:23.467150",
     "status": "completed"
    },
    "tags": []
   },
   "outputs": [
    {
     "name": "stdout",
     "output_type": "stream",
     "text": [
      "<class 'pandas.core.frame.DataFrame'>\n",
      "Index: 153164 entries, 00001cee341fdb12 to ffffce3fb183ee80\n",
      "Data columns (total 1 columns):\n",
      " #   Column   Non-Null Count   Dtype \n",
      "---  ------   --------------   ----- \n",
      " 0   comment  153164 non-null  object\n",
      "dtypes: object(1)\n",
      "memory usage: 2.3+ MB\n"
     ]
    }
   ],
   "source": [
    "raw_test.info()"
   ]
  },
  {
   "cell_type": "markdown",
   "id": "663c4549",
   "metadata": {
    "papermill": {
     "duration": 0.013939,
     "end_time": "2022-07-09T12:37:23.543987",
     "exception": false,
     "start_time": "2022-07-09T12:37:23.530048",
     "status": "completed"
    },
    "tags": []
   },
   "source": [
    "## **2. EDA**"
   ]
  },
  {
   "cell_type": "markdown",
   "id": "104fc2df",
   "metadata": {
    "papermill": {
     "duration": 0.014802,
     "end_time": "2022-07-09T12:37:23.573211",
     "exception": false,
     "start_time": "2022-07-09T12:37:23.558409",
     "status": "completed"
    },
    "tags": []
   },
   "source": [
    "#### **2.1 Show a sample of data**\n",
    "(to find out the required text preprocessing steps)"
   ]
  },
  {
   "cell_type": "code",
   "execution_count": 7,
   "id": "f67296fc",
   "metadata": {
    "execution": {
     "iopub.execute_input": "2022-07-09T12:37:23.604671Z",
     "iopub.status.busy": "2022-07-09T12:37:23.603782Z",
     "iopub.status.idle": "2022-07-09T12:37:23.621012Z",
     "shell.execute_reply": "2022-07-09T12:37:23.619895Z"
    },
    "papermill": {
     "duration": 0.036027,
     "end_time": "2022-07-09T12:37:23.623961",
     "exception": false,
     "start_time": "2022-07-09T12:37:23.587934",
     "status": "completed"
    },
    "tags": []
   },
   "outputs": [
    {
     "data": {
      "text/html": [
       "<div>\n",
       "<style scoped>\n",
       "    .dataframe tbody tr th:only-of-type {\n",
       "        vertical-align: middle;\n",
       "    }\n",
       "\n",
       "    .dataframe tbody tr th {\n",
       "        vertical-align: top;\n",
       "    }\n",
       "\n",
       "    .dataframe thead th {\n",
       "        text-align: right;\n",
       "    }\n",
       "</style>\n",
       "<table border=\"1\" class=\"dataframe\">\n",
       "  <thead>\n",
       "    <tr style=\"text-align: right;\">\n",
       "      <th></th>\n",
       "      <th>comment</th>\n",
       "      <th>toxic</th>\n",
       "      <th>severe_toxic</th>\n",
       "      <th>obscene</th>\n",
       "      <th>threat</th>\n",
       "      <th>insult</th>\n",
       "      <th>identity_hate</th>\n",
       "    </tr>\n",
       "    <tr>\n",
       "      <th>id</th>\n",
       "      <th></th>\n",
       "      <th></th>\n",
       "      <th></th>\n",
       "      <th></th>\n",
       "      <th></th>\n",
       "      <th></th>\n",
       "      <th></th>\n",
       "    </tr>\n",
       "  </thead>\n",
       "  <tbody>\n",
       "    <tr>\n",
       "      <th>0000997932d777bf</th>\n",
       "      <td>Explanation\\nWhy the edits made under my username Hardcore Metallica Fan were reverted? They weren't vandalisms, just closure on some GAs after I voted at New York Dolls FAC. And please don't remove the template from the talk page since I'm retired now.89.205.38.27</td>\n",
       "      <td>0</td>\n",
       "      <td>0</td>\n",
       "      <td>0</td>\n",
       "      <td>0</td>\n",
       "      <td>0</td>\n",
       "      <td>0</td>\n",
       "    </tr>\n",
       "    <tr>\n",
       "      <th>000103f0d9cfb60f</th>\n",
       "      <td>D'aww! He matches this background colour I'm seemingly stuck with. Thanks.  (talk) 21:51, January 11, 2016 (UTC)</td>\n",
       "      <td>0</td>\n",
       "      <td>0</td>\n",
       "      <td>0</td>\n",
       "      <td>0</td>\n",
       "      <td>0</td>\n",
       "      <td>0</td>\n",
       "    </tr>\n",
       "    <tr>\n",
       "      <th>000113f07ec002fd</th>\n",
       "      <td>Hey man, I'm really not trying to edit war. It's just that this guy is constantly removing relevant information and talking to me through edits instead of my talk page. He seems to care more about the formatting than the actual info.</td>\n",
       "      <td>0</td>\n",
       "      <td>0</td>\n",
       "      <td>0</td>\n",
       "      <td>0</td>\n",
       "      <td>0</td>\n",
       "      <td>0</td>\n",
       "    </tr>\n",
       "    <tr>\n",
       "      <th>0001b41b1c6bb37e</th>\n",
       "      <td>\"\\nMore\\nI can't make any real suggestions on improvement - I wondered if the section statistics should be later on, or a subsection of \"\"types of accidents\"\"  -I think the references may need tidying so that they are all in the exact same format ie date format etc. I can do that later on, if no-one else does first - if you have any preferences for formatting style on references or want to do it yourself please let me know.\\n\\nThere appears to be a backlog on articles for review so I guess there may be a delay until a reviewer turns up. It's listed in the relevant form eg Wikipedia:Good_article_nominations#Transport  \"</td>\n",
       "      <td>0</td>\n",
       "      <td>0</td>\n",
       "      <td>0</td>\n",
       "      <td>0</td>\n",
       "      <td>0</td>\n",
       "      <td>0</td>\n",
       "    </tr>\n",
       "    <tr>\n",
       "      <th>0001d958c54c6e35</th>\n",
       "      <td>You, sir, are my hero. Any chance you remember what page that's on?</td>\n",
       "      <td>0</td>\n",
       "      <td>0</td>\n",
       "      <td>0</td>\n",
       "      <td>0</td>\n",
       "      <td>0</td>\n",
       "      <td>0</td>\n",
       "    </tr>\n",
       "  </tbody>\n",
       "</table>\n",
       "</div>"
      ],
      "text/plain": [
       "                                                                                                                                                                                                                                                                                                                                                                                                                                                                                                                                                                                                                                                             comment  \\\n",
       "id                                                                                                                                                                                                                                                                                                                                                                                                                                                                                                                                                                                                                                                                     \n",
       "0000997932d777bf                                                                                                                                                                                                                                                                                                                                                                           Explanation\\nWhy the edits made under my username Hardcore Metallica Fan were reverted? They weren't vandalisms, just closure on some GAs after I voted at New York Dolls FAC. And please don't remove the template from the talk page since I'm retired now.89.205.38.27   \n",
       "000103f0d9cfb60f                                                                                                                                                                                                                                                                                                                                                                                                                                                                                                                                    D'aww! He matches this background colour I'm seemingly stuck with. Thanks.  (talk) 21:51, January 11, 2016 (UTC)   \n",
       "000113f07ec002fd                                                                                                                                                                                                                                                                                                                                                                                                           Hey man, I'm really not trying to edit war. It's just that this guy is constantly removing relevant information and talking to me through edits instead of my talk page. He seems to care more about the formatting than the actual info.   \n",
       "0001b41b1c6bb37e  \"\\nMore\\nI can't make any real suggestions on improvement - I wondered if the section statistics should be later on, or a subsection of \"\"types of accidents\"\"  -I think the references may need tidying so that they are all in the exact same format ie date format etc. I can do that later on, if no-one else does first - if you have any preferences for formatting style on references or want to do it yourself please let me know.\\n\\nThere appears to be a backlog on articles for review so I guess there may be a delay until a reviewer turns up. It's listed in the relevant form eg Wikipedia:Good_article_nominations#Transport  \"   \n",
       "0001d958c54c6e35                                                                                                                                                                                                                                                                                                                                                                                                                                                                                                                                                                                 You, sir, are my hero. Any chance you remember what page that's on?   \n",
       "\n",
       "                  toxic  severe_toxic  obscene  threat  insult  identity_hate  \n",
       "id                                                                             \n",
       "0000997932d777bf      0             0        0       0       0              0  \n",
       "000103f0d9cfb60f      0             0        0       0       0              0  \n",
       "000113f07ec002fd      0             0        0       0       0              0  \n",
       "0001b41b1c6bb37e      0             0        0       0       0              0  \n",
       "0001d958c54c6e35      0             0        0       0       0              0  "
      ]
     },
     "execution_count": 7,
     "metadata": {},
     "output_type": "execute_result"
    }
   ],
   "source": [
    "raw_train.head()"
   ]
  },
  {
   "cell_type": "code",
   "execution_count": 8,
   "id": "7ae39390",
   "metadata": {
    "execution": {
     "iopub.execute_input": "2022-07-09T12:37:23.656848Z",
     "iopub.status.busy": "2022-07-09T12:37:23.655376Z",
     "iopub.status.idle": "2022-07-09T12:37:23.666140Z",
     "shell.execute_reply": "2022-07-09T12:37:23.665301Z"
    },
    "papermill": {
     "duration": 0.029349,
     "end_time": "2022-07-09T12:37:23.668140",
     "exception": false,
     "start_time": "2022-07-09T12:37:23.638791",
     "status": "completed"
    },
    "tags": []
   },
   "outputs": [
    {
     "data": {
      "text/html": [
       "<div>\n",
       "<style scoped>\n",
       "    .dataframe tbody tr th:only-of-type {\n",
       "        vertical-align: middle;\n",
       "    }\n",
       "\n",
       "    .dataframe tbody tr th {\n",
       "        vertical-align: top;\n",
       "    }\n",
       "\n",
       "    .dataframe thead th {\n",
       "        text-align: right;\n",
       "    }\n",
       "</style>\n",
       "<table border=\"1\" class=\"dataframe\">\n",
       "  <thead>\n",
       "    <tr style=\"text-align: right;\">\n",
       "      <th></th>\n",
       "      <th>comment</th>\n",
       "    </tr>\n",
       "    <tr>\n",
       "      <th>id</th>\n",
       "      <th></th>\n",
       "    </tr>\n",
       "  </thead>\n",
       "  <tbody>\n",
       "    <tr>\n",
       "      <th>00001cee341fdb12</th>\n",
       "      <td>Yo bitch Ja Rule is more succesful then you'll ever be whats up with you and hating you sad mofuckas...i should bitch slap ur pethedic white faces and get you to kiss my ass you guys sicken me. Ja rule is about pride in da music man. dont diss that shit on him. and nothin is wrong bein like tupac he was a brother too...fuckin white boys get things right next time.,</td>\n",
       "    </tr>\n",
       "    <tr>\n",
       "      <th>0000247867823ef7</th>\n",
       "      <td>== From RfC == \\n\\n The title is fine as it is, IMO.</td>\n",
       "    </tr>\n",
       "    <tr>\n",
       "      <th>00013b17ad220c46</th>\n",
       "      <td>\" \\n\\n == Sources == \\n\\n * Zawe Ashton on Lapland —  /  \"</td>\n",
       "    </tr>\n",
       "    <tr>\n",
       "      <th>00017563c3f7919a</th>\n",
       "      <td>:If you have a look back at the source, the information I updated was the correct form. I can only guess the source hadn't updated. I shall update the information once again but thank you for your message.</td>\n",
       "    </tr>\n",
       "    <tr>\n",
       "      <th>00017695ad8997eb</th>\n",
       "      <td>I don't anonymously edit articles at all.</td>\n",
       "    </tr>\n",
       "  </tbody>\n",
       "</table>\n",
       "</div>"
      ],
      "text/plain": [
       "                                                                                                                                                                                                                                                                                                                                                                                          comment\n",
       "id                                                                                                                                                                                                                                                                                                                                                                                               \n",
       "00001cee341fdb12  Yo bitch Ja Rule is more succesful then you'll ever be whats up with you and hating you sad mofuckas...i should bitch slap ur pethedic white faces and get you to kiss my ass you guys sicken me. Ja rule is about pride in da music man. dont diss that shit on him. and nothin is wrong bein like tupac he was a brother too...fuckin white boys get things right next time.,\n",
       "0000247867823ef7                                                                                                                                                                                                                                                                                                                             == From RfC == \\n\\n The title is fine as it is, IMO.\n",
       "00013b17ad220c46                                                                                                                                                                                                                                                                                                                       \" \\n\\n == Sources == \\n\\n * Zawe Ashton on Lapland —  /  \"\n",
       "00017563c3f7919a                                                                                                                                                                    :If you have a look back at the source, the information I updated was the correct form. I can only guess the source hadn't updated. I shall update the information once again but thank you for your message.\n",
       "00017695ad8997eb                                                                                                                                                                                                                                                                                                                                        I don't anonymously edit articles at all."
      ]
     },
     "execution_count": 8,
     "metadata": {},
     "output_type": "execute_result"
    }
   ],
   "source": [
    "raw_test.head()"
   ]
  },
  {
   "cell_type": "code",
   "execution_count": 9,
   "id": "8a487daa",
   "metadata": {
    "execution": {
     "iopub.execute_input": "2022-07-09T12:37:23.700097Z",
     "iopub.status.busy": "2022-07-09T12:37:23.698767Z",
     "iopub.status.idle": "2022-07-09T12:37:23.711096Z",
     "shell.execute_reply": "2022-07-09T12:37:23.710204Z"
    },
    "papermill": {
     "duration": 0.029697,
     "end_time": "2022-07-09T12:37:23.712933",
     "exception": false,
     "start_time": "2022-07-09T12:37:23.683236",
     "status": "completed"
    },
    "tags": []
   },
   "outputs": [
    {
     "data": {
      "text/plain": [
       "id\n",
       "7ca72b5b9c688e9e    Geez, are you forgetful!  We've already discussed why Marx  was  not an anarchist, i.e. he wanted to use a State to mold his 'socialist man.'  Ergo, he is a statist - the opposite of an  anarchist.  I know a guy who says that, when he gets old and his teeth fall out, he'll quit eating meat.  Would you call him a vegetarian?\n",
       "Name: comment, dtype: object"
      ]
     },
     "execution_count": 9,
     "metadata": {},
     "output_type": "execute_result"
    }
   ],
   "source": [
    "raw_train.comment.sample(random_state=42)"
   ]
  },
  {
   "cell_type": "markdown",
   "id": "1b68081b",
   "metadata": {
    "papermill": {
     "duration": 0.015367,
     "end_time": "2022-07-09T12:37:23.743994",
     "exception": false,
     "start_time": "2022-07-09T12:37:23.728627",
     "status": "completed"
    },
    "tags": []
   },
   "source": [
    "#### **2.2 Check for duplicates**"
   ]
  },
  {
   "cell_type": "code",
   "execution_count": 10,
   "id": "09286b85",
   "metadata": {
    "execution": {
     "iopub.execute_input": "2022-07-09T12:37:23.774872Z",
     "iopub.status.busy": "2022-07-09T12:37:23.774611Z",
     "iopub.status.idle": "2022-07-09T12:37:23.996192Z",
     "shell.execute_reply": "2022-07-09T12:37:23.995227Z"
    },
    "papermill": {
     "duration": 0.23947,
     "end_time": "2022-07-09T12:37:23.998269",
     "exception": false,
     "start_time": "2022-07-09T12:37:23.758799",
     "status": "completed"
    },
    "tags": []
   },
   "outputs": [
    {
     "data": {
      "text/plain": [
       "0"
      ]
     },
     "execution_count": 10,
     "metadata": {},
     "output_type": "execute_result"
    }
   ],
   "source": [
    "raw_train.duplicated().sum()"
   ]
  },
  {
   "cell_type": "code",
   "execution_count": 11,
   "id": "ad8fd3ec",
   "metadata": {
    "execution": {
     "iopub.execute_input": "2022-07-09T12:37:24.030557Z",
     "iopub.status.busy": "2022-07-09T12:37:24.030231Z",
     "iopub.status.idle": "2022-07-09T12:37:24.212103Z",
     "shell.execute_reply": "2022-07-09T12:37:24.211140Z"
    },
    "papermill": {
     "duration": 0.202179,
     "end_time": "2022-07-09T12:37:24.216079",
     "exception": false,
     "start_time": "2022-07-09T12:37:24.013900",
     "status": "completed"
    },
    "tags": []
   },
   "outputs": [
    {
     "data": {
      "text/plain": [
       "0"
      ]
     },
     "execution_count": 11,
     "metadata": {},
     "output_type": "execute_result"
    }
   ],
   "source": [
    "raw_train.duplicated(subset=['comment']).sum()"
   ]
  },
  {
   "cell_type": "code",
   "execution_count": 12,
   "id": "6a0b2000",
   "metadata": {
    "execution": {
     "iopub.execute_input": "2022-07-09T12:37:24.249735Z",
     "iopub.status.busy": "2022-07-09T12:37:24.249391Z",
     "iopub.status.idle": "2022-07-09T12:37:24.442019Z",
     "shell.execute_reply": "2022-07-09T12:37:24.440904Z"
    },
    "papermill": {
     "duration": 0.212081,
     "end_time": "2022-07-09T12:37:24.444909",
     "exception": false,
     "start_time": "2022-07-09T12:37:24.232828",
     "status": "completed"
    },
    "tags": []
   },
   "outputs": [
    {
     "data": {
      "text/plain": [
       "0"
      ]
     },
     "execution_count": 12,
     "metadata": {},
     "output_type": "execute_result"
    }
   ],
   "source": [
    "raw_test.duplicated().sum()"
   ]
  },
  {
   "cell_type": "markdown",
   "id": "abe703f8",
   "metadata": {
    "papermill": {
     "duration": 0.015208,
     "end_time": "2022-07-09T12:37:24.475622",
     "exception": false,
     "start_time": "2022-07-09T12:37:24.460414",
     "status": "completed"
    },
    "tags": []
   },
   "source": [
    "#### **2.3 Check for URLs**"
   ]
  },
  {
   "cell_type": "code",
   "execution_count": 13,
   "id": "59be96bb",
   "metadata": {
    "execution": {
     "iopub.execute_input": "2022-07-09T12:37:24.507763Z",
     "iopub.status.busy": "2022-07-09T12:37:24.507451Z",
     "iopub.status.idle": "2022-07-09T12:37:25.796210Z",
     "shell.execute_reply": "2022-07-09T12:37:25.795276Z"
    },
    "papermill": {
     "duration": 1.307278,
     "end_time": "2022-07-09T12:37:25.798255",
     "exception": false,
     "start_time": "2022-07-09T12:37:24.490977",
     "status": "completed"
    },
    "tags": []
   },
   "outputs": [
    {
     "data": {
      "text/plain": [
       "id\n",
       "000c0dfd995809fa                                                                                                                                                                                       [http://www.its.caltech.edu/~atomic/snowcrystals/myths/myths.htm#perfection]\n",
       "001363e1dbe91225                                                                                                                                                                                               [http://digg.com/music/Wikipedia_has_free_classical_music_downloads]\n",
       "002c9cccf2f1d05b                                                                                                                                        [http://www.constitution.ie/reports/ConstitutionofIreland.pdf, http://www.constitution.ie/reports/mbunreachtnaheireann.pdf]\n",
       "0038f191ffc93d75                                                                                                                                                                                                              [https://ml.wikipedia.org/wiki/സംവാദം:മോസ്കോ_മെട്രോ.]\n",
       "003fa0c68deca750                                                                                                             [http://www.iranchamber.com/personalities/farabi/farabi.php, http://www.islam.org.br/%C2%A0al_farabi.htm, http://www.superbeyin.com/sohbet/sohbet.htm]\n",
       "                                                                                                                                                 ...                                                                                                                               \n",
       "fbf8672ea3b4ddf7                                                                                                                                                                                                                               [http://www.nysun.com/article/23698]\n",
       "fca6db97dde470bc                                                                                                                                                                                                                    [http://en.wikipedia.org/wiki/Talk:Nissan_GT-R]\n",
       "fd5773ec2e4bcf3a    [http://rexcurry.net/wikipedialies.html, http://rexcurry.net/pledgesalute.html, http://rexcurry.net/pledge2.html, http://rexcurry.net/pledge_military.html, http://rexcurry.net/book1a1contents-pledge.html, http://rexcurry.net/book1a1contents-swastika.html]\n",
       "fd58d3a74b75da85                                                                                                                                                                                                                 [http://www.the-scorpions.com/english/history.asp]\n",
       "ff1fd5721a58e8c7                                                     [http://www.nvidia.com/object/IO_20021017_4141.html, http://www.amazon.com/tag/palit%20microsystems, http://www.pcuniverse.com/Palit-Microsystems/bs/h/3158, http://en.wikipedia.org/wiki/Talk:EVGA_(Company)]\n",
       "Name: comment, Length: 4337, dtype: object"
      ]
     },
     "execution_count": 13,
     "metadata": {},
     "output_type": "execute_result"
    }
   ],
   "source": [
    "raw_train.comment.str.findall(r'https?:\\/\\/\\S*').drop_duplicates(keep=False)"
   ]
  },
  {
   "cell_type": "markdown",
   "id": "3c875474",
   "metadata": {
    "papermill": {
     "duration": 0.017038,
     "end_time": "2022-07-09T12:37:25.831225",
     "exception": false,
     "start_time": "2022-07-09T12:37:25.814187",
     "status": "completed"
    },
    "tags": []
   },
   "source": [
    "#### **2.4 Check for Emails and mentions**"
   ]
  },
  {
   "cell_type": "code",
   "execution_count": 14,
   "id": "3d1b5981",
   "metadata": {
    "execution": {
     "iopub.execute_input": "2022-07-09T12:37:25.864916Z",
     "iopub.status.busy": "2022-07-09T12:37:25.864573Z",
     "iopub.status.idle": "2022-07-09T12:37:31.397138Z",
     "shell.execute_reply": "2022-07-09T12:37:31.396213Z"
    },
    "papermill": {
     "duration": 5.552656,
     "end_time": "2022-07-09T12:37:31.399489",
     "exception": false,
     "start_time": "2022-07-09T12:37:25.846833",
     "status": "completed"
    },
    "tags": []
   },
   "outputs": [
    {
     "data": {
      "text/plain": [
       "id\n",
       "0236f714de182059                      [apriljohnson6868@gmail.com]\n",
       "03585d8dd27a3653                            [animeking237@aol.com]\n",
       "055c9cafcdb359f9    [bathory@bathory.org, bathory@maltedmedia.com]\n",
       "05ee06363d9dda77                                  [jeff@fugly.com]\n",
       "0675ca47f054c2c0                                           [@Matt]\n",
       "                                         ...                      \n",
       "ea17eecb83be13ee                             [manasgarg@gmail.com]\n",
       "ee831c8c79c9984f                                         [@'''''']\n",
       "ef12914c33ab46b5                                     [@Powergate:]\n",
       "f1ac66faba2e5bae                             [@Tznkai:, @Snowman:]\n",
       "f5379a104a9276a2                                 [last@yourhouse.]\n",
       "Name: comment, Length: 621, dtype: object"
      ]
     },
     "execution_count": 14,
     "metadata": {},
     "output_type": "execute_result"
    }
   ],
   "source": [
    "raw_train.comment.str.findall(r'\\S*@\\S+').drop_duplicates(keep=False)"
   ]
  },
  {
   "cell_type": "markdown",
   "id": "c07a6d5c",
   "metadata": {
    "papermill": {
     "duration": 0.015599,
     "end_time": "2022-07-09T12:37:31.430878",
     "exception": false,
     "start_time": "2022-07-09T12:37:31.415279",
     "status": "completed"
    },
    "tags": []
   },
   "source": [
    "#### **2.5 Check for Hashtags**"
   ]
  },
  {
   "cell_type": "code",
   "execution_count": 15,
   "id": "1e256973",
   "metadata": {
    "execution": {
     "iopub.execute_input": "2022-07-09T12:37:31.464965Z",
     "iopub.status.busy": "2022-07-09T12:37:31.463236Z",
     "iopub.status.idle": "2022-07-09T12:37:32.149003Z",
     "shell.execute_reply": "2022-07-09T12:37:32.148067Z"
    },
    "papermill": {
     "duration": 0.704859,
     "end_time": "2022-07-09T12:37:32.151286",
     "exception": false,
     "start_time": "2022-07-09T12:37:31.446427",
     "status": "completed"
    },
    "tags": []
   },
   "outputs": [
    {
     "data": {
      "text/plain": [
       "id\n",
       "0001b41b1c6bb37e                                                                                                                                                [#Transport]\n",
       "000c0dfd995809fa                                                                                                                                               [#perfection]\n",
       "001363e1dbe91225    [#Need_help.21Wikipedia_talk:WikiProject_Music/Archive_3#I_could_use_some_helpWikipedia_talk:WikiProject_Music/Archive_2#Raulbot.2C_and_the_music_list)]\n",
       "003b9f448ee4a29d                                                                                             [#WP:V_-_comparing_Jewish_Virtual_Library_and_Dissident_Voice.]\n",
       "00585c1da10b448b                                                                                                                                                    [#5-5-5]\n",
       "                                                                                              ...                                                                           \n",
       "f71b76e3de13609a                                                                                                                                                  [#3, #4).]\n",
       "f7f582a4b0c7f860        [#Deeptrivia.2C_Al-Khwarizmi_was_an_Arab, #Deeptrivia.2C_why_did_you_remove_this_verifiable_content.3F.21, #I_find_serious_fault_with_this_phrasing]\n",
       "f9321888a2ca1c37                                                                                                                                     [##ee9000;border:solid]\n",
       "fa9626486b24f0f6                                                                                                                                         [#An, #Anachronous]\n",
       "fc8ca591ef6bc42c                                                                                                                                                 [#Non-free]\n",
       "Name: comment, Length: 2110, dtype: object"
      ]
     },
     "execution_count": 15,
     "metadata": {},
     "output_type": "execute_result"
    }
   ],
   "source": [
    "raw_train.comment.str.findall(r'#\\S+').drop_duplicates(keep=False)"
   ]
  },
  {
   "cell_type": "markdown",
   "id": "e54677e6",
   "metadata": {
    "papermill": {
     "duration": 0.015598,
     "end_time": "2022-07-09T12:37:32.183113",
     "exception": false,
     "start_time": "2022-07-09T12:37:32.167515",
     "status": "completed"
    },
    "tags": []
   },
   "source": [
    "#### **2.6 Check for HTML tags**"
   ]
  },
  {
   "cell_type": "code",
   "execution_count": 16,
   "id": "3cbfa9e2",
   "metadata": {
    "execution": {
     "iopub.execute_input": "2022-07-09T12:37:32.215581Z",
     "iopub.status.busy": "2022-07-09T12:37:32.215274Z",
     "iopub.status.idle": "2022-07-09T12:37:32.527243Z",
     "shell.execute_reply": "2022-07-09T12:37:32.526346Z"
    },
    "papermill": {
     "duration": 0.330566,
     "end_time": "2022-07-09T12:37:32.529228",
     "exception": false,
     "start_time": "2022-07-09T12:37:32.198662",
     "status": "completed"
    },
    "tags": []
   },
   "outputs": [
    {
     "data": {
      "text/plain": [
       "id\n",
       "0e343b7f449df75a                                                                                                                                                                                                   [<  | ∂drini >]\n",
       "1905ca9ef49186a3                                                                          [< http://theregister.co.uk/2008/02/01/woolworths_bed_outrage >, < http://www.woolworths.co.uk/web/jsp/product/index.jsp?pid=11401556 >]\n",
       "1ae9fbf8d8bc558c                                                                                                                     [<ɰ> is a more appropriate symbol.  was useful because it was found on typewriters while <ɰ>]\n",
       "1c60ea64111132c6                                                                                                                                                                                         [<| 09.10.2007 | Monday>]\n",
       "2917d00d75fa9c1d                                                                                                              [<<... a world in which every single human being can freely share in the sum of all knowledge ...>>]\n",
       "                                                                                                                         ...                                                                                                      \n",
       "3049d085bc0f83a8    [< http://en.wikipedia.org/w/index.php?title=Wikipedia:Administrators%27_noticeboard/Wiki_editor_DonFphrnqTaub_Persina&diff;=178429228&oldid;=178383952 >, < | http://en.wikipedia.org/wiki/special:search/ >]\n",
       "799af7635b509ac5                                                                                                                                                                                                            [<<>>]\n",
       "b713a791ef0ef0c5                                                                                                                                                                                                          [<')))>]\n",
       "d484ee4c8c8aefcc                                                                                                                                                                                    [<[ freakofnurxture]|[ talk]>]\n",
       "e9e45f79d94fd41f                                                                                                                                                                                                          [< !  >]\n",
       "Name: comment, Length: 73, dtype: object"
      ]
     },
     "execution_count": 16,
     "metadata": {},
     "output_type": "execute_result"
    }
   ],
   "source": [
    "raw_train.comment.str.findall(r'<.*>').drop_duplicates(keep=False)"
   ]
  },
  {
   "cell_type": "markdown",
   "id": "ce5630e8",
   "metadata": {
    "papermill": {
     "duration": 0.016064,
     "end_time": "2022-07-09T12:37:32.561325",
     "exception": false,
     "start_time": "2022-07-09T12:37:32.545261",
     "status": "completed"
    },
    "tags": []
   },
   "source": [
    "#### **2.7 Check for dataset imbalance**"
   ]
  },
  {
   "cell_type": "code",
   "execution_count": 17,
   "id": "1327bf32",
   "metadata": {
    "execution": {
     "iopub.execute_input": "2022-07-09T12:37:32.595903Z",
     "iopub.status.busy": "2022-07-09T12:37:32.595330Z",
     "iopub.status.idle": "2022-07-09T12:37:33.314334Z",
     "shell.execute_reply": "2022-07-09T12:37:33.313383Z"
    },
    "papermill": {
     "duration": 0.739341,
     "end_time": "2022-07-09T12:37:33.316797",
     "exception": false,
     "start_time": "2022-07-09T12:37:32.577456",
     "status": "completed"
    },
    "tags": []
   },
   "outputs": [
    {
     "data": {
      "image/png": "[encoded data removed]",
      "text/plain": [
       "<Figure size 1800x1080 with 6 Axes>"
      ]
     },
     "metadata": {
      "needs_background": "light"
     },
     "output_type": "display_data"
    }
   ],
   "source": [
    "target_cols = raw_train.select_dtypes(include=np.number).columns\n",
    "fig, ax = plt.subplots(2, 3, figsize=(25, 15))\n",
    "\n",
    "for col, subplot in zip(target_cols, ax.flatten()):\n",
    "    sns.countplot(x=raw_train[col], ax=subplot)\n",
    "    for p in subplot.patches:\n",
    "        x_ = p.get_bbox().get_points()[:,0]\n",
    "        y_ = p.get_bbox().get_points()[1,1]\n",
    "        subplot.annotate(p.get_height(), (x_.mean(), y_), ha='center', va='bottom')\n",
    "        \n",
    "plt.show()"
   ]
  },
  {
   "cell_type": "markdown",
   "id": "91d426bf",
   "metadata": {
    "papermill": {
     "duration": 0.016703,
     "end_time": "2022-07-09T12:37:33.350478",
     "exception": false,
     "start_time": "2022-07-09T12:37:33.333775",
     "status": "completed"
    },
    "tags": []
   },
   "source": [
    "#### **2.8 Number of comments in each category**"
   ]
  },
  {
   "cell_type": "code",
   "execution_count": 18,
   "id": "622f40f8",
   "metadata": {
    "execution": {
     "iopub.execute_input": "2022-07-09T12:37:33.387007Z",
     "iopub.status.busy": "2022-07-09T12:37:33.386062Z",
     "iopub.status.idle": "2022-07-09T12:37:33.588981Z",
     "shell.execute_reply": "2022-07-09T12:37:33.588106Z"
    },
    "papermill": {
     "duration": 0.223442,
     "end_time": "2022-07-09T12:37:33.590955",
     "exception": false,
     "start_time": "2022-07-09T12:37:33.367513",
     "status": "completed"
    },
    "tags": []
   },
   "outputs": [
    {
     "data": {
      "image/png": "[encoded data removed]",
      "text/plain": [
       "<Figure size 432x288 with 1 Axes>"
      ]
     },
     "metadata": {
      "needs_background": "light"
     },
     "output_type": "display_data"
    }
   ],
   "source": [
    "ax = sns.barplot(x=target_cols, y=raw_train[target_cols].sum(axis=0))\n",
    "for p in ax.patches:\n",
    "    x_ = p.get_bbox().get_points()[:,0]\n",
    "    y_ = p.get_bbox().get_points()[1,1]\n",
    "    ax.annotate(p.get_height(), (x_.mean(), y_), ha='center', va='bottom')"
   ]
  },
  {
   "cell_type": "markdown",
   "id": "0e3766f9",
   "metadata": {
    "papermill": {
     "duration": 0.01684,
     "end_time": "2022-07-09T12:37:33.624722",
     "exception": false,
     "start_time": "2022-07-09T12:37:33.607882",
     "status": "completed"
    },
    "tags": []
   },
   "source": [
    "#### **2.9 Comments with multi-labels**"
   ]
  },
  {
   "cell_type": "code",
   "execution_count": 19,
   "id": "f083f408",
   "metadata": {
    "execution": {
     "iopub.execute_input": "2022-07-09T12:37:33.661095Z",
     "iopub.status.busy": "2022-07-09T12:37:33.660409Z",
     "iopub.status.idle": "2022-07-09T12:37:33.883099Z",
     "shell.execute_reply": "2022-07-09T12:37:33.882212Z"
    },
    "papermill": {
     "duration": 0.243733,
     "end_time": "2022-07-09T12:37:33.885369",
     "exception": false,
     "start_time": "2022-07-09T12:37:33.641636",
     "status": "completed"
    },
    "tags": []
   },
   "outputs": [
    {
     "data": {
      "text/plain": [
       "Text(0, 0.5, 'No. of Comments')"
      ]
     },
     "execution_count": 19,
     "metadata": {},
     "output_type": "execute_result"
    },
    {
     "data": {
      "image/png": "[encoded data removed]",
      "text/plain": [
       "<Figure size 432x288 with 1 Axes>"
      ]
     },
     "metadata": {
      "needs_background": "light"
     },
     "output_type": "display_data"
    }
   ],
   "source": [
    "nLabels = raw_train[target_cols].sum(axis=1).value_counts()\n",
    "\n",
    "ax = sns.barplot(x=nLabels.index, y=nLabels.values)\n",
    "for p in ax.patches:\n",
    "    x_ = p.get_bbox().get_points()[:,0]\n",
    "    y_ = p.get_bbox().get_points()[1,1]\n",
    "    ax.annotate(p.get_height(), (x_.mean(), y_), ha='center', va='bottom')\n",
    "    \n",
    "plt.title(\"Multi-labels per comment\")\n",
    "plt.xlabel('No. of categories', fontsize=12)\n",
    "plt.ylabel('No. of Comments', fontsize=12)"
   ]
  },
  {
   "cell_type": "markdown",
   "id": "9a8c4491",
   "metadata": {
    "papermill": {
     "duration": 0.017082,
     "end_time": "2022-07-09T12:37:33.919927",
     "exception": false,
     "start_time": "2022-07-09T12:37:33.902845",
     "status": "completed"
    },
    "tags": []
   },
   "source": [
    "## **3. Text Preprocessing**"
   ]
  },
  {
   "cell_type": "markdown",
   "id": "9df0f7f9",
   "metadata": {
    "papermill": {
     "duration": 0.018362,
     "end_time": "2022-07-09T12:37:33.955599",
     "exception": false,
     "start_time": "2022-07-09T12:37:33.937237",
     "status": "completed"
    },
    "tags": []
   },
   "source": [
    "#### **3.1 Remove URLs**"
   ]
  },
  {
   "cell_type": "code",
   "execution_count": 20,
   "id": "74f8010f",
   "metadata": {
    "execution": {
     "iopub.execute_input": "2022-07-09T12:37:33.993372Z",
     "iopub.status.busy": "2022-07-09T12:37:33.992254Z",
     "iopub.status.idle": "2022-07-09T12:37:33.998002Z",
     "shell.execute_reply": "2022-07-09T12:37:33.997074Z"
    },
    "papermill": {
     "duration": 0.026964,
     "end_time": "2022-07-09T12:37:34.000069",
     "exception": false,
     "start_time": "2022-07-09T12:37:33.973105",
     "status": "completed"
    },
    "tags": []
   },
   "outputs": [],
   "source": [
    "def remove_urls(text):\n",
    "    return re.sub(r'https?:\\/\\/\\S*', '', text, flags=re.MULTILINE)"
   ]
  },
  {
   "cell_type": "markdown",
   "id": "c9b20eb4",
   "metadata": {
    "papermill": {
     "duration": 0.017017,
     "end_time": "2022-07-09T12:37:34.034878",
     "exception": false,
     "start_time": "2022-07-09T12:37:34.017861",
     "status": "completed"
    },
    "tags": []
   },
   "source": [
    "#### **3.2 Remove Emails and Mentions**"
   ]
  },
  {
   "cell_type": "code",
   "execution_count": 21,
   "id": "6716e23c",
   "metadata": {
    "execution": {
     "iopub.execute_input": "2022-07-09T12:37:34.070717Z",
     "iopub.status.busy": "2022-07-09T12:37:34.070130Z",
     "iopub.status.idle": "2022-07-09T12:37:34.075125Z",
     "shell.execute_reply": "2022-07-09T12:37:34.074275Z"
    },
    "papermill": {
     "duration": 0.025158,
     "end_time": "2022-07-09T12:37:34.077028",
     "exception": false,
     "start_time": "2022-07-09T12:37:34.051870",
     "status": "completed"
    },
    "tags": []
   },
   "outputs": [],
   "source": [
    "def remove_emails_and_mentions(text):\n",
    "    return re.sub(r'\\S*@\\S+', '', text, flags=re.MULTILINE)"
   ]
  },
  {
   "cell_type": "markdown",
   "id": "c07fed97",
   "metadata": {
    "papermill": {
     "duration": 0.01679,
     "end_time": "2022-07-09T12:37:34.111675",
     "exception": false,
     "start_time": "2022-07-09T12:37:34.094885",
     "status": "completed"
    },
    "tags": []
   },
   "source": [
    "#### **3.3 Remove Hashtags**"
   ]
  },
  {
   "cell_type": "code",
   "execution_count": 22,
   "id": "9972cc70",
   "metadata": {
    "execution": {
     "iopub.execute_input": "2022-07-09T12:37:34.147284Z",
     "iopub.status.busy": "2022-07-09T12:37:34.146471Z",
     "iopub.status.idle": "2022-07-09T12:37:34.151358Z",
     "shell.execute_reply": "2022-07-09T12:37:34.150515Z"
    },
    "papermill": {
     "duration": 0.024593,
     "end_time": "2022-07-09T12:37:34.153231",
     "exception": false,
     "start_time": "2022-07-09T12:37:34.128638",
     "status": "completed"
    },
    "tags": []
   },
   "outputs": [],
   "source": [
    "def remove_hashtags(text):\n",
    "    return re.sub(r'#\\S+', '', text, flags=re.MULTILINE)"
   ]
  },
  {
   "cell_type": "markdown",
   "id": "763b1c96",
   "metadata": {
    "papermill": {
     "duration": 0.016811,
     "end_time": "2022-07-09T12:37:34.186918",
     "exception": false,
     "start_time": "2022-07-09T12:37:34.170107",
     "status": "completed"
    },
    "tags": []
   },
   "source": [
    "#### **3.4 Remove HTML tags**"
   ]
  },
  {
   "cell_type": "code",
   "execution_count": 23,
   "id": "61d9f868",
   "metadata": {
    "execution": {
     "iopub.execute_input": "2022-07-09T12:37:34.222500Z",
     "iopub.status.busy": "2022-07-09T12:37:34.221650Z",
     "iopub.status.idle": "2022-07-09T12:37:34.226473Z",
     "shell.execute_reply": "2022-07-09T12:37:34.225653Z"
    },
    "papermill": {
     "duration": 0.024411,
     "end_time": "2022-07-09T12:37:34.228328",
     "exception": false,
     "start_time": "2022-07-09T12:37:34.203917",
     "status": "completed"
    },
    "tags": []
   },
   "outputs": [],
   "source": [
    "def remove_html_tags(text):\n",
    "    return re.sub(r'<+.*>+', '', text, flags=re.MULTILINE)"
   ]
  },
  {
   "cell_type": "markdown",
   "id": "3c40cf44",
   "metadata": {
    "papermill": {
     "duration": 0.017058,
     "end_time": "2022-07-09T12:37:34.262293",
     "exception": false,
     "start_time": "2022-07-09T12:37:34.245235",
     "status": "completed"
    },
    "tags": []
   },
   "source": [
    "#### **3.5 Remove whitespaces**"
   ]
  },
  {
   "cell_type": "code",
   "execution_count": 24,
   "id": "02754ae5",
   "metadata": {
    "execution": {
     "iopub.execute_input": "2022-07-09T12:37:34.300123Z",
     "iopub.status.busy": "2022-07-09T12:37:34.299152Z",
     "iopub.status.idle": "2022-07-09T12:37:34.304703Z",
     "shell.execute_reply": "2022-07-09T12:37:34.303773Z"
    },
    "papermill": {
     "duration": 0.026042,
     "end_time": "2022-07-09T12:37:34.306714",
     "exception": false,
     "start_time": "2022-07-09T12:37:34.280672",
     "status": "completed"
    },
    "tags": []
   },
   "outputs": [],
   "source": [
    "def remove_whitespaces(text):\n",
    "    text = re.sub(r'\\s+', ' ', text, flags=re.MULTILINE)\n",
    "    return text.strip()"
   ]
  },
  {
   "cell_type": "markdown",
   "id": "b7c42b40",
   "metadata": {
    "papermill": {
     "duration": 0.017136,
     "end_time": "2022-07-09T12:37:34.341442",
     "exception": false,
     "start_time": "2022-07-09T12:37:34.324306",
     "status": "completed"
    },
    "tags": []
   },
   "source": [
    "#### **3.6 Convert text to lower case**"
   ]
  },
  {
   "cell_type": "code",
   "execution_count": 25,
   "id": "33e53cc9",
   "metadata": {
    "execution": {
     "iopub.execute_input": "2022-07-09T12:37:34.377855Z",
     "iopub.status.busy": "2022-07-09T12:37:34.376892Z",
     "iopub.status.idle": "2022-07-09T12:37:34.381935Z",
     "shell.execute_reply": "2022-07-09T12:37:34.381061Z"
    },
    "papermill": {
     "duration": 0.025484,
     "end_time": "2022-07-09T12:37:34.383904",
     "exception": false,
     "start_time": "2022-07-09T12:37:34.358420",
     "status": "completed"
    },
    "tags": []
   },
   "outputs": [],
   "source": [
    "def to_lowercase(text):\n",
    "    return text.lower()"
   ]
  },
  {
   "cell_type": "markdown",
   "id": "f631d57e",
   "metadata": {
    "papermill": {
     "duration": 0.016973,
     "end_time": "2022-07-09T12:37:34.417894",
     "exception": false,
     "start_time": "2022-07-09T12:37:34.400921",
     "status": "completed"
    },
    "tags": []
   },
   "source": [
    "#### **3.7 Remove all special characters**"
   ]
  },
  {
   "cell_type": "code",
   "execution_count": 26,
   "id": "b5aed9b4",
   "metadata": {
    "execution": {
     "iopub.execute_input": "2022-07-09T12:37:34.453001Z",
     "iopub.status.busy": "2022-07-09T12:37:34.452733Z",
     "iopub.status.idle": "2022-07-09T12:37:34.456949Z",
     "shell.execute_reply": "2022-07-09T12:37:34.456003Z"
    },
    "papermill": {
     "duration": 0.024076,
     "end_time": "2022-07-09T12:37:34.458919",
     "exception": false,
     "start_time": "2022-07-09T12:37:34.434843",
     "status": "completed"
    },
    "tags": []
   },
   "outputs": [],
   "source": [
    "def remove_special_chars(text):\n",
    "    return re.findall(r'[a-z]{3,}', text)"
   ]
  },
  {
   "cell_type": "markdown",
   "id": "51cc480f",
   "metadata": {
    "papermill": {
     "duration": 0.016886,
     "end_time": "2022-07-09T12:37:34.493554",
     "exception": false,
     "start_time": "2022-07-09T12:37:34.476668",
     "status": "completed"
    },
    "tags": []
   },
   "source": [
    "#### **3.8 Remove stopwords**"
   ]
  },
  {
   "cell_type": "code",
   "execution_count": 27,
   "id": "130b7c19",
   "metadata": {
    "execution": {
     "iopub.execute_input": "2022-07-09T12:37:34.528862Z",
     "iopub.status.busy": "2022-07-09T12:37:34.528591Z",
     "iopub.status.idle": "2022-07-09T12:37:34.533186Z",
     "shell.execute_reply": "2022-07-09T12:37:34.532260Z"
    },
    "papermill": {
     "duration": 0.024263,
     "end_time": "2022-07-09T12:37:34.535071",
     "exception": false,
     "start_time": "2022-07-09T12:37:34.510808",
     "status": "completed"
    },
    "tags": []
   },
   "outputs": [],
   "source": [
    "def remove_stopwords(words):\n",
    "    stop_words = set(stopwords.words('english'))\n",
    "    return [word for word in words if word not in stop_words]"
   ]
  },
  {
   "cell_type": "markdown",
   "id": "7c729eba",
   "metadata": {
    "papermill": {
     "duration": 0.017471,
     "end_time": "2022-07-09T12:37:34.569722",
     "exception": false,
     "start_time": "2022-07-09T12:37:34.552251",
     "status": "completed"
    },
    "tags": []
   },
   "source": [
    "#### **3.9 Lemmatization**"
   ]
  },
  {
   "cell_type": "code",
   "execution_count": 28,
   "id": "d645aa7a",
   "metadata": {
    "execution": {
     "iopub.execute_input": "2022-07-09T12:37:34.606586Z",
     "iopub.status.busy": "2022-07-09T12:37:34.605708Z",
     "iopub.status.idle": "2022-07-09T12:37:34.611208Z",
     "shell.execute_reply": "2022-07-09T12:37:34.610278Z"
    },
    "papermill": {
     "duration": 0.026191,
     "end_time": "2022-07-09T12:37:34.613171",
     "exception": false,
     "start_time": "2022-07-09T12:37:34.586980",
     "status": "completed"
    },
    "tags": []
   },
   "outputs": [],
   "source": [
    "def lemmatization(words):\n",
    "    lemmatizer = WordNetLemmatizer()\n",
    "    return ' '.join(lemmatizer.lemmatize(word) for word in words)"
   ]
  },
  {
   "cell_type": "markdown",
   "id": "e6d6f9b5",
   "metadata": {
    "papermill": {
     "duration": 0.01744,
     "end_time": "2022-07-09T12:37:34.648405",
     "exception": false,
     "start_time": "2022-07-09T12:37:34.630965",
     "status": "completed"
    },
    "tags": []
   },
   "source": [
    "#### **Putting all the pipeline together**"
   ]
  },
  {
   "cell_type": "code",
   "execution_count": 29,
   "id": "1e6b6613",
   "metadata": {
    "execution": {
     "iopub.execute_input": "2022-07-09T12:37:34.685259Z",
     "iopub.status.busy": "2022-07-09T12:37:34.684909Z",
     "iopub.status.idle": "2022-07-09T12:37:34.691136Z",
     "shell.execute_reply": "2022-07-09T12:37:34.690033Z"
    },
    "papermill": {
     "duration": 0.027137,
     "end_time": "2022-07-09T12:37:34.693170",
     "exception": false,
     "start_time": "2022-07-09T12:37:34.666033",
     "status": "completed"
    },
    "tags": []
   },
   "outputs": [],
   "source": [
    "def text_preprocessing(text):\n",
    "    text = remove_urls(text)\n",
    "    text = remove_emails_and_mentions(text)\n",
    "    text = remove_hashtags(text)\n",
    "    text = remove_html_tags(text)\n",
    "    text = remove_whitespaces(text)\n",
    "    text = to_lowercase(text)\n",
    "    words = remove_special_chars(text)\n",
    "    words = remove_stopwords(words)\n",
    "    text = lemmatization(words)\n",
    "    return text"
   ]
  },
  {
   "cell_type": "markdown",
   "id": "5cf1b4c0",
   "metadata": {
    "papermill": {
     "duration": 0.016766,
     "end_time": "2022-07-09T12:37:34.726949",
     "exception": false,
     "start_time": "2022-07-09T12:37:34.710183",
     "status": "completed"
    },
    "tags": []
   },
   "source": [
    "#### **Applying text preprocessing on train and test sets**"
   ]
  },
  {
   "cell_type": "code",
   "execution_count": 30,
   "id": "2a251a8f",
   "metadata": {
    "execution": {
     "iopub.execute_input": "2022-07-09T12:37:34.762924Z",
     "iopub.status.busy": "2022-07-09T12:37:34.762139Z",
     "iopub.status.idle": "2022-07-09T12:37:34.775712Z",
     "shell.execute_reply": "2022-07-09T12:37:34.774709Z"
    },
    "papermill": {
     "duration": 0.03356,
     "end_time": "2022-07-09T12:37:34.777609",
     "exception": false,
     "start_time": "2022-07-09T12:37:34.744049",
     "status": "completed"
    },
    "tags": []
   },
   "outputs": [],
   "source": [
    "train = raw_train.copy()\n",
    "test = raw_test.copy()"
   ]
  },
  {
   "cell_type": "code",
   "execution_count": 31,
   "id": "597845a1",
   "metadata": {
    "execution": {
     "iopub.execute_input": "2022-07-09T12:37:34.813932Z",
     "iopub.status.busy": "2022-07-09T12:37:34.812535Z",
     "iopub.status.idle": "2022-07-09T12:38:44.096847Z",
     "shell.execute_reply": "2022-07-09T12:38:44.095881Z"
    },
    "papermill": {
     "duration": 69.304648,
     "end_time": "2022-07-09T12:38:44.099253",
     "exception": false,
     "start_time": "2022-07-09T12:37:34.794605",
     "status": "completed"
    },
    "tags": []
   },
   "outputs": [],
   "source": [
    "train.comment = train.comment.apply(text_preprocessing)"
   ]
  },
  {
   "cell_type": "code",
   "execution_count": 32,
   "id": "20841e7e",
   "metadata": {
    "execution": {
     "iopub.execute_input": "2022-07-09T12:38:44.136235Z",
     "iopub.status.busy": "2022-07-09T12:38:44.135538Z",
     "iopub.status.idle": "2022-07-09T12:39:45.665737Z",
     "shell.execute_reply": "2022-07-09T12:39:45.664758Z"
    },
    "papermill": {
     "duration": 61.55143,
     "end_time": "2022-07-09T12:39:45.668477",
     "exception": false,
     "start_time": "2022-07-09T12:38:44.117047",
     "status": "completed"
    },
    "tags": []
   },
   "outputs": [],
   "source": [
    "test.comment = test.comment.apply(text_preprocessing)"
   ]
  },
  {
   "cell_type": "markdown",
   "id": "7d053aaa",
   "metadata": {
    "papermill": {
     "duration": 0.016953,
     "end_time": "2022-07-09T12:39:45.703744",
     "exception": false,
     "start_time": "2022-07-09T12:39:45.686791",
     "status": "completed"
    },
    "tags": []
   },
   "source": [
    "#### **Showing a sample of data before and after cleaning**"
   ]
  },
  {
   "cell_type": "code",
   "execution_count": 33,
   "id": "e53f5c0c",
   "metadata": {
    "execution": {
     "iopub.execute_input": "2022-07-09T12:39:45.739971Z",
     "iopub.status.busy": "2022-07-09T12:39:45.739622Z",
     "iopub.status.idle": "2022-07-09T12:39:45.751836Z",
     "shell.execute_reply": "2022-07-09T12:39:45.750860Z"
    },
    "papermill": {
     "duration": 0.032905,
     "end_time": "2022-07-09T12:39:45.753922",
     "exception": false,
     "start_time": "2022-07-09T12:39:45.721017",
     "status": "completed"
    },
    "tags": []
   },
   "outputs": [
    {
     "data": {
      "text/plain": [
       "id\n",
       "7ca72b5b9c688e9e    Geez, are you forgetful!  We've already discussed why Marx  was  not an anarchist, i.e. he wanted to use a State to mold his 'socialist man.'  Ergo, he is a statist - the opposite of an  anarchist.  I know a guy who says that, when he gets old and his teeth fall out, he'll quit eating meat.  Would you call him a vegetarian?\n",
       "Name: comment, dtype: object"
      ]
     },
     "execution_count": 33,
     "metadata": {},
     "output_type": "execute_result"
    }
   ],
   "source": [
    "raw_train.comment.sample(random_state=42)"
   ]
  },
  {
   "cell_type": "code",
   "execution_count": 34,
   "id": "be6918ab",
   "metadata": {
    "execution": {
     "iopub.execute_input": "2022-07-09T12:39:45.791721Z",
     "iopub.status.busy": "2022-07-09T12:39:45.791385Z",
     "iopub.status.idle": "2022-07-09T12:39:45.803478Z",
     "shell.execute_reply": "2022-07-09T12:39:45.802551Z"
    },
    "papermill": {
     "duration": 0.033515,
     "end_time": "2022-07-09T12:39:45.805589",
     "exception": false,
     "start_time": "2022-07-09T12:39:45.772074",
     "status": "completed"
    },
    "tags": []
   },
   "outputs": [
    {
     "data": {
      "text/plain": [
       "id\n",
       "7ca72b5b9c688e9e    geez forgetful already discussed marx anarchist wanted use state mold socialist man ergo statist opposite anarchist know guy say get old teeth fall quit eating meat would call vegetarian\n",
       "Name: comment, dtype: object"
      ]
     },
     "execution_count": 34,
     "metadata": {},
     "output_type": "execute_result"
    }
   ],
   "source": [
    "train.comment.sample(random_state=42)"
   ]
  },
  {
   "cell_type": "markdown",
   "id": "b50389a9",
   "metadata": {
    "papermill": {
     "duration": 0.018037,
     "end_time": "2022-07-09T12:39:45.841597",
     "exception": false,
     "start_time": "2022-07-09T12:39:45.823560",
     "status": "completed"
    },
    "tags": []
   },
   "source": [
    "#### **Splitting data**"
   ]
  },
  {
   "cell_type": "code",
   "execution_count": 35,
   "id": "658ffea9",
   "metadata": {
    "execution": {
     "iopub.execute_input": "2022-07-09T12:39:45.878513Z",
     "iopub.status.busy": "2022-07-09T12:39:45.877624Z",
     "iopub.status.idle": "2022-07-09T12:39:45.941944Z",
     "shell.execute_reply": "2022-07-09T12:39:45.941024Z"
    },
    "papermill": {
     "duration": 0.08465,
     "end_time": "2022-07-09T12:39:45.944072",
     "exception": false,
     "start_time": "2022-07-09T12:39:45.859422",
     "status": "completed"
    },
    "tags": []
   },
   "outputs": [],
   "source": [
    "x_train_df, x_val_df, y_train_df, y_val_df = train_test_split(train.comment, train[target_cols], test_size=0.2, random_state=42)"
   ]
  },
  {
   "cell_type": "code",
   "execution_count": 36,
   "id": "4cf80f0d",
   "metadata": {
    "execution": {
     "iopub.execute_input": "2022-07-09T12:39:45.981815Z",
     "iopub.status.busy": "2022-07-09T12:39:45.980998Z",
     "iopub.status.idle": "2022-07-09T12:39:45.986841Z",
     "shell.execute_reply": "2022-07-09T12:39:45.985809Z"
    },
    "papermill": {
     "duration": 0.026357,
     "end_time": "2022-07-09T12:39:45.988904",
     "exception": false,
     "start_time": "2022-07-09T12:39:45.962547",
     "status": "completed"
    },
    "tags": []
   },
   "outputs": [],
   "source": [
    "x_test_df = test.comment"
   ]
  },
  {
   "cell_type": "code",
   "execution_count": 37,
   "id": "53b36f34",
   "metadata": {
    "execution": {
     "iopub.execute_input": "2022-07-09T12:39:46.025281Z",
     "iopub.status.busy": "2022-07-09T12:39:46.024573Z",
     "iopub.status.idle": "2022-07-09T12:39:46.032337Z",
     "shell.execute_reply": "2022-07-09T12:39:46.031242Z"
    },
    "papermill": {
     "duration": 0.028784,
     "end_time": "2022-07-09T12:39:46.035017",
     "exception": false,
     "start_time": "2022-07-09T12:39:46.006233",
     "status": "completed"
    },
    "tags": []
   },
   "outputs": [
    {
     "name": "stdout",
     "output_type": "stream",
     "text": [
      "x_train shape: (127656,)\n",
      "y_train shape: (127656, 6)\n",
      "x_valid shape: (31915,)\n",
      "y_valid shape: (31915, 6)\n",
      "x_test shape:  (153164,)\n"
     ]
    }
   ],
   "source": [
    "print('x_train shape: {}'.format(x_train_df.shape))\n",
    "print('y_train shape: {}'.format(y_train_df.shape))\n",
    "print('x_valid shape: {}'.format(x_val_df.shape))\n",
    "print('y_valid shape: {}'.format(y_val_df.shape))\n",
    "print('x_test shape:  {}'.format(x_test_df.shape))"
   ]
  },
  {
   "cell_type": "markdown",
   "id": "6cde8ec5",
   "metadata": {
    "papermill": {
     "duration": 0.017603,
     "end_time": "2022-07-09T12:39:46.070692",
     "exception": false,
     "start_time": "2022-07-09T12:39:46.053089",
     "status": "completed"
    },
    "tags": []
   },
   "source": [
    "## **4. Model**"
   ]
  },
  {
   "cell_type": "markdown",
   "id": "97e3351b",
   "metadata": {
    "papermill": {
     "duration": 0.017837,
     "end_time": "2022-07-09T12:39:46.106385",
     "exception": false,
     "start_time": "2022-07-09T12:39:46.088548",
     "status": "completed"
    },
    "tags": []
   },
   "source": [
    "### **4.1 FFNN Model with BoW (TF-IDF) Text Representation**"
   ]
  },
  {
   "cell_type": "markdown",
   "id": "f1d2b9f3",
   "metadata": {
    "papermill": {
     "duration": 0.017177,
     "end_time": "2022-07-09T12:39:46.141838",
     "exception": false,
     "start_time": "2022-07-09T12:39:46.124661",
     "status": "completed"
    },
    "tags": []
   },
   "source": [
    "#### **4.1.1 BoW**"
   ]
  },
  {
   "cell_type": "code",
   "execution_count": 38,
   "id": "7e085ff8",
   "metadata": {
    "execution": {
     "iopub.execute_input": "2022-07-09T12:39:46.178589Z",
     "iopub.status.busy": "2022-07-09T12:39:46.178240Z",
     "iopub.status.idle": "2022-07-09T12:39:57.736678Z",
     "shell.execute_reply": "2022-07-09T12:39:57.735754Z"
    },
    "papermill": {
     "duration": 11.579685,
     "end_time": "2022-07-09T12:39:57.738776",
     "exception": false,
     "start_time": "2022-07-09T12:39:46.159091",
     "status": "completed"
    },
    "tags": []
   },
   "outputs": [
    {
     "data": {
      "text/plain": [
       "TfidfVectorizer(max_features=1000)"
      ]
     },
     "execution_count": 38,
     "metadata": {},
     "output_type": "execute_result"
    }
   ],
   "source": [
    "vocab_size = 1000\n",
    "vectorizer = TfidfVectorizer(max_features=vocab_size)\n",
    "vectorizer.fit(pd.concat([train.comment, test.comment], axis=0))"
   ]
  },
  {
   "cell_type": "code",
   "execution_count": 39,
   "id": "96e8ea6e",
   "metadata": {
    "execution": {
     "iopub.execute_input": "2022-07-09T12:39:57.776927Z",
     "iopub.status.busy": "2022-07-09T12:39:57.776022Z",
     "iopub.status.idle": "2022-07-09T12:40:11.934546Z",
     "shell.execute_reply": "2022-07-09T12:40:11.933558Z"
    },
    "papermill": {
     "duration": 14.180029,
     "end_time": "2022-07-09T12:40:11.936916",
     "exception": false,
     "start_time": "2022-07-09T12:39:57.756887",
     "status": "completed"
    },
    "tags": []
   },
   "outputs": [],
   "source": [
    "x_train = vectorizer.transform(x_train_df).toarray()\n",
    "x_val = vectorizer.transform(x_val_df).toarray()\n",
    "x_test = vectorizer.transform(x_test_df).toarray()"
   ]
  },
  {
   "cell_type": "code",
   "execution_count": 40,
   "id": "f9219521",
   "metadata": {
    "execution": {
     "iopub.execute_input": "2022-07-09T12:40:11.974783Z",
     "iopub.status.busy": "2022-07-09T12:40:11.974148Z",
     "iopub.status.idle": "2022-07-09T12:40:11.980335Z",
     "shell.execute_reply": "2022-07-09T12:40:11.979488Z"
    },
    "papermill": {
     "duration": 0.027162,
     "end_time": "2022-07-09T12:40:11.982305",
     "exception": false,
     "start_time": "2022-07-09T12:40:11.955143",
     "status": "completed"
    },
    "tags": []
   },
   "outputs": [],
   "source": [
    "y_train = np.asarray(y_train_df).astype('float32')\n",
    "y_val = np.asarray(y_val_df).astype('float32')"
   ]
  },
  {
   "cell_type": "code",
   "execution_count": 41,
   "id": "598235c2",
   "metadata": {
    "execution": {
     "iopub.execute_input": "2022-07-09T12:40:12.018392Z",
     "iopub.status.busy": "2022-07-09T12:40:12.018110Z",
     "iopub.status.idle": "2022-07-09T12:40:12.023688Z",
     "shell.execute_reply": "2022-07-09T12:40:12.022746Z"
    },
    "papermill": {
     "duration": 0.026388,
     "end_time": "2022-07-09T12:40:12.026362",
     "exception": false,
     "start_time": "2022-07-09T12:40:11.999974",
     "status": "completed"
    },
    "tags": []
   },
   "outputs": [
    {
     "name": "stdout",
     "output_type": "stream",
     "text": [
      "x_train shape: (127656, 1000)\n",
      "y_train shape: (127656, 6)\n",
      "x_valid shape: (31915, 1000)\n",
      "y_valid shape: (31915, 6)\n",
      "x_test shape:  (153164, 1000)\n"
     ]
    }
   ],
   "source": [
    "print('x_train shape: {}'.format(x_train.shape))\n",
    "print('y_train shape: {}'.format(y_train.shape))\n",
    "print('x_valid shape: {}'.format(x_val.shape))\n",
    "print('y_valid shape: {}'.format(y_val.shape))\n",
    "print('x_test shape:  {}'.format(x_test.shape))"
   ]
  },
  {
   "cell_type": "markdown",
   "id": "e4209591",
   "metadata": {
    "papermill": {
     "duration": 0.017355,
     "end_time": "2022-07-09T12:40:12.062407",
     "exception": false,
     "start_time": "2022-07-09T12:40:12.045052",
     "status": "completed"
    },
    "tags": []
   },
   "source": [
    "#### **4.1.2 FFNN Model**"
   ]
  },
  {
   "cell_type": "code",
   "execution_count": 42,
   "id": "c636e153",
   "metadata": {
    "execution": {
     "iopub.execute_input": "2022-07-09T12:40:12.100224Z",
     "iopub.status.busy": "2022-07-09T12:40:12.099675Z",
     "iopub.status.idle": "2022-07-09T12:40:14.789663Z",
     "shell.execute_reply": "2022-07-09T12:40:14.786660Z"
    },
    "papermill": {
     "duration": 2.712299,
     "end_time": "2022-07-09T12:40:14.792529",
     "exception": false,
     "start_time": "2022-07-09T12:40:12.080230",
     "status": "completed"
    },
    "tags": []
   },
   "outputs": [
    {
     "name": "stderr",
     "output_type": "stream",
     "text": [
      "2022-07-09 12:40:12.192091: I tensorflow/stream_executor/cuda/cuda_gpu_executor.cc:937] successful NUMA node read from SysFS had negative value (-1), but there must be at least one NUMA node, so returning NUMA node zero\n",
      "2022-07-09 12:40:12.304203: I tensorflow/stream_executor/cuda/cuda_gpu_executor.cc:937] successful NUMA node read from SysFS had negative value (-1), but there must be at least one NUMA node, so returning NUMA node zero\n",
      "2022-07-09 12:40:12.304983: I tensorflow/stream_executor/cuda/cuda_gpu_executor.cc:937] successful NUMA node read from SysFS had negative value (-1), but there must be at least one NUMA node, so returning NUMA node zero\n",
      "2022-07-09 12:40:12.306601: I tensorflow/core/platform/cpu_feature_guard.cc:142] This TensorFlow binary is optimized with oneAPI Deep Neural Network Library (oneDNN) to use the following CPU instructions in performance-critical operations:  AVX2 AVX512F FMA\n",
      "To enable them in other operations, rebuild TensorFlow with the appropriate compiler flags.\n"
     ]
    },
    {
     "name": "stdout",
     "output_type": "stream",
     "text": [
      "Model: \"sequential\"\n",
      "_________________________________________________________________\n",
      "Layer (type)                 Output Shape              Param #   \n",
      "=================================================================\n",
      "dense (Dense)                (None, 16)                16016     \n",
      "_________________________________________________________________\n",
      "dense_1 (Dense)              (None, 32)                544       \n",
      "_________________________________________________________________\n",
      "dense_2 (Dense)              (None, 6)                 198       \n",
      "=================================================================\n",
      "Total params: 16,758\n",
      "Trainable params: 16,758\n",
      "Non-trainable params: 0\n",
      "_________________________________________________________________\n"
     ]
    },
    {
     "name": "stderr",
     "output_type": "stream",
     "text": [
      "2022-07-09 12:40:12.306913: I tensorflow/stream_executor/cuda/cuda_gpu_executor.cc:937] successful NUMA node read from SysFS had negative value (-1), but there must be at least one NUMA node, so returning NUMA node zero\n",
      "2022-07-09 12:40:12.307688: I tensorflow/stream_executor/cuda/cuda_gpu_executor.cc:937] successful NUMA node read from SysFS had negative value (-1), but there must be at least one NUMA node, so returning NUMA node zero\n",
      "2022-07-09 12:40:12.308359: I tensorflow/stream_executor/cuda/cuda_gpu_executor.cc:937] successful NUMA node read from SysFS had negative value (-1), but there must be at least one NUMA node, so returning NUMA node zero\n",
      "2022-07-09 12:40:14.421561: I tensorflow/stream_executor/cuda/cuda_gpu_executor.cc:937] successful NUMA node read from SysFS had negative value (-1), but there must be at least one NUMA node, so returning NUMA node zero\n",
      "2022-07-09 12:40:14.422445: I tensorflow/stream_executor/cuda/cuda_gpu_executor.cc:937] successful NUMA node read from SysFS had negative value (-1), but there must be at least one NUMA node, so returning NUMA node zero\n",
      "2022-07-09 12:40:14.423103: I tensorflow/stream_executor/cuda/cuda_gpu_executor.cc:937] successful NUMA node read from SysFS had negative value (-1), but there must be at least one NUMA node, so returning NUMA node zero\n",
      "2022-07-09 12:40:14.423705: I tensorflow/core/common_runtime/gpu/gpu_device.cc:1510] Created device /job:localhost/replica:0/task:0/device:GPU:0 with 15403 MB memory:  -> device: 0, name: Tesla P100-PCIE-16GB, pci bus id: 0000:00:04.0, compute capability: 6.0\n"
     ]
    }
   ],
   "source": [
    "nn_model = models.Sequential()\n",
    "nn_model.add(layers.Dense(16, activation='relu', input_shape=(vocab_size,)))\n",
    "nn_model.add(layers.Dense(32, activation='relu'))\n",
    "nn_model.add(layers.Dense(6, activation='sigmoid'))\n",
    "nn_model.summary()"
   ]
  },
  {
   "cell_type": "code",
   "execution_count": 43,
   "id": "d0cf70c1",
   "metadata": {
    "execution": {
     "iopub.execute_input": "2022-07-09T12:40:14.831686Z",
     "iopub.status.busy": "2022-07-09T12:40:14.830904Z",
     "iopub.status.idle": "2022-07-09T12:40:15.825158Z",
     "shell.execute_reply": "2022-07-09T12:40:15.824053Z"
    },
    "papermill": {
     "duration": 1.015492,
     "end_time": "2022-07-09T12:40:15.827402",
     "exception": false,
     "start_time": "2022-07-09T12:40:14.811910",
     "status": "completed"
    },
    "tags": []
   },
   "outputs": [
    {
     "data": {
      "image/png": "[encoded data removed]",
      "text/plain": [
       "<IPython.core.display.Image object>"
      ]
     },
     "execution_count": 43,
     "metadata": {},
     "output_type": "execute_result"
    }
   ],
   "source": [
    "plot_model(nn_model, to_file='nn_model.png', show_shapes=True)"
   ]
  },
  {
   "cell_type": "code",
   "execution_count": 44,
   "id": "9d1c41e4",
   "metadata": {
    "execution": {
     "iopub.execute_input": "2022-07-09T12:40:15.867445Z",
     "iopub.status.busy": "2022-07-09T12:40:15.865914Z",
     "iopub.status.idle": "2022-07-09T12:40:15.881969Z",
     "shell.execute_reply": "2022-07-09T12:40:15.881072Z"
    },
    "papermill": {
     "duration": 0.03777,
     "end_time": "2022-07-09T12:40:15.884112",
     "exception": false,
     "start_time": "2022-07-09T12:40:15.846342",
     "status": "completed"
    },
    "tags": []
   },
   "outputs": [],
   "source": [
    "nn_model.compile(optimizer=optimizers.Adam(),\n",
    "              loss=losses.binary_crossentropy,\n",
    "              metrics=[metrics.binary_accuracy])"
   ]
  },
  {
   "cell_type": "code",
   "execution_count": 45,
   "id": "9711b793",
   "metadata": {
    "execution": {
     "iopub.execute_input": "2022-07-09T12:40:15.924791Z",
     "iopub.status.busy": "2022-07-09T12:40:15.924121Z",
     "iopub.status.idle": "2022-07-09T12:40:37.995925Z",
     "shell.execute_reply": "2022-07-09T12:40:37.994793Z"
    },
    "papermill": {
     "duration": 22.095959,
     "end_time": "2022-07-09T12:40:37.999729",
     "exception": false,
     "start_time": "2022-07-09T12:40:15.903770",
     "status": "completed"
    },
    "tags": []
   },
   "outputs": [
    {
     "name": "stderr",
     "output_type": "stream",
     "text": [
      "2022-07-09 12:40:17.077141: I tensorflow/compiler/mlir/mlir_graph_optimization_pass.cc:185] None of the MLIR Optimization Passes are enabled (registered 2)\n"
     ]
    },
    {
     "name": "stdout",
     "output_type": "stream",
     "text": [
      "Epoch 1/10\n",
      "250/250 [==============================] - 3s 5ms/step - loss: 0.2546 - binary_accuracy: 0.9331 - val_loss: 0.0941 - val_binary_accuracy: 0.9681\n",
      "Epoch 2/10\n",
      "250/250 [==============================] - 1s 4ms/step - loss: 0.0738 - binary_accuracy: 0.9763 - val_loss: 0.0657 - val_binary_accuracy: 0.9789\n",
      "Epoch 3/10\n",
      "250/250 [==============================] - 1s 4ms/step - loss: 0.0621 - binary_accuracy: 0.9796 - val_loss: 0.0625 - val_binary_accuracy: 0.9798\n",
      "Epoch 4/10\n",
      "250/250 [==============================] - 1s 5ms/step - loss: 0.0601 - binary_accuracy: 0.9802 - val_loss: 0.0614 - val_binary_accuracy: 0.9801\n",
      "Epoch 5/10\n",
      "250/250 [==============================] - 1s 4ms/step - loss: 0.0590 - binary_accuracy: 0.9804 - val_loss: 0.0606 - val_binary_accuracy: 0.9802\n",
      "Epoch 6/10\n",
      "250/250 [==============================] - 1s 4ms/step - loss: 0.0580 - binary_accuracy: 0.9806 - val_loss: 0.0600 - val_binary_accuracy: 0.9804\n",
      "Epoch 7/10\n",
      "250/250 [==============================] - 1s 4ms/step - loss: 0.0571 - binary_accuracy: 0.9807 - val_loss: 0.0596 - val_binary_accuracy: 0.9805\n",
      "Epoch 8/10\n",
      "250/250 [==============================] - 1s 4ms/step - loss: 0.0563 - binary_accuracy: 0.9809 - val_loss: 0.0590 - val_binary_accuracy: 0.9807\n",
      "Epoch 9/10\n",
      "250/250 [==============================] - 1s 4ms/step - loss: 0.0555 - binary_accuracy: 0.9812 - val_loss: 0.0586 - val_binary_accuracy: 0.9809\n",
      "Epoch 10/10\n",
      "250/250 [==============================] - 1s 4ms/step - loss: 0.0548 - binary_accuracy: 0.9814 - val_loss: 0.0584 - val_binary_accuracy: 0.9810\n"
     ]
    }
   ],
   "source": [
    "history = nn_model.fit(x_train,\n",
    "                    y_train,\n",
    "                    epochs=10,\n",
    "                    batch_size=512,\n",
    "                    validation_data=(x_val, y_val))"
   ]
  },
  {
   "cell_type": "code",
   "execution_count": 46,
   "id": "580fef1c",
   "metadata": {
    "execution": {
     "iopub.execute_input": "2022-07-09T12:40:38.090672Z",
     "iopub.status.busy": "2022-07-09T12:40:38.090119Z",
     "iopub.status.idle": "2022-07-09T12:40:38.336897Z",
     "shell.execute_reply": "2022-07-09T12:40:38.335943Z"
    },
    "papermill": {
     "duration": 0.293681,
     "end_time": "2022-07-09T12:40:38.339616",
     "exception": false,
     "start_time": "2022-07-09T12:40:38.045935",
     "status": "completed"
    },
    "tags": []
   },
   "outputs": [
    {
     "data": {
      "image/png": "[encoded data removed]",
      "text/plain": [
       "<Figure size 432x288 with 1 Axes>"
      ]
     },
     "metadata": {
      "needs_background": "light"
     },
     "output_type": "display_data"
    }
   ],
   "source": [
    "loss = history.history['loss']\n",
    "val_loss = history.history['val_loss']\n",
    "\n",
    "epochs = range(1, len(loss) + 1)\n",
    "\n",
    "plt.plot(epochs, loss, 'bo', label='Training loss')\n",
    "plt.plot(epochs, val_loss, 'b', label='Validation loss')\n",
    "plt.title('Training and validation loss')\n",
    "plt.xlabel('Epochs')\n",
    "plt.ylabel('Loss')\n",
    "plt.legend()\n",
    "\n",
    "plt.show()"
   ]
  },
  {
   "cell_type": "code",
   "execution_count": 47,
   "id": "96afcbe8",
   "metadata": {
    "execution": {
     "iopub.execute_input": "2022-07-09T12:40:38.432106Z",
     "iopub.status.busy": "2022-07-09T12:40:38.431781Z",
     "iopub.status.idle": "2022-07-09T12:40:38.665903Z",
     "shell.execute_reply": "2022-07-09T12:40:38.664961Z"
    },
    "papermill": {
     "duration": 0.283451,
     "end_time": "2022-07-09T12:40:38.669626",
     "exception": false,
     "start_time": "2022-07-09T12:40:38.386175",
     "status": "completed"
    },
    "tags": []
   },
   "outputs": [
    {
     "data": {
      "image/png": "[encoded data removed]",
      "text/plain": [
       "<Figure size 432x288 with 1 Axes>"
      ]
     },
     "metadata": {
      "needs_background": "light"
     },
     "output_type": "display_data"
    }
   ],
   "source": [
    "plt.clf()\n",
    "\n",
    "acc = history.history['binary_accuracy']\n",
    "val_acc = history.history['val_binary_accuracy']\n",
    "\n",
    "plt.plot(epochs, acc, 'bo', label='Training acc')\n",
    "plt.plot(epochs, val_acc, 'b', label='Validation acc')\n",
    "plt.title('Training and validation accuracy')\n",
    "plt.xlabel('Epochs')\n",
    "plt.ylabel('Accuracy')\n",
    "plt.legend()\n",
    "\n",
    "plt.show()"
   ]
  },
  {
   "cell_type": "code",
   "execution_count": 48,
   "id": "96d31cfb",
   "metadata": {
    "execution": {
     "iopub.execute_input": "2022-07-09T12:40:38.775861Z",
     "iopub.status.busy": "2022-07-09T12:40:38.775431Z",
     "iopub.status.idle": "2022-07-09T12:40:44.096223Z",
     "shell.execute_reply": "2022-07-09T12:40:44.094874Z"
    },
    "papermill": {
     "duration": 5.376296,
     "end_time": "2022-07-09T12:40:44.099076",
     "exception": false,
     "start_time": "2022-07-09T12:40:38.722780",
     "status": "completed"
    },
    "tags": []
   },
   "outputs": [
    {
     "name": "stderr",
     "output_type": "stream",
     "text": [
      "2022-07-09 12:40:39.059723: W tensorflow/core/framework/cpu_allocator_impl.cc:80] Allocation of 612656000 exceeds 10% of free system memory.\n",
      "2022-07-09 12:40:39.702104: W tensorflow/core/framework/cpu_allocator_impl.cc:80] Allocation of 612656000 exceeds 10% of free system memory.\n"
     ]
    }
   ],
   "source": [
    "preds = pd.DataFrame(nn_model.predict(x_test), index=test.index, columns=target_cols)"
   ]
  },
  {
   "cell_type": "code",
   "execution_count": 49,
   "id": "b8c8f270",
   "metadata": {
    "execution": {
     "iopub.execute_input": "2022-07-09T12:40:44.196360Z",
     "iopub.status.busy": "2022-07-09T12:40:44.195975Z",
     "iopub.status.idle": "2022-07-09T12:40:44.219933Z",
     "shell.execute_reply": "2022-07-09T12:40:44.219086Z"
    },
    "papermill": {
     "duration": 0.074645,
     "end_time": "2022-07-09T12:40:44.222486",
     "exception": false,
     "start_time": "2022-07-09T12:40:44.147841",
     "status": "completed"
    },
    "tags": []
   },
   "outputs": [
    {
     "data": {
      "text/html": [
       "<div>\n",
       "<style scoped>\n",
       "    .dataframe tbody tr th:only-of-type {\n",
       "        vertical-align: middle;\n",
       "    }\n",
       "\n",
       "    .dataframe tbody tr th {\n",
       "        vertical-align: top;\n",
       "    }\n",
       "\n",
       "    .dataframe thead th {\n",
       "        text-align: right;\n",
       "    }\n",
       "</style>\n",
       "<table border=\"1\" class=\"dataframe\">\n",
       "  <thead>\n",
       "    <tr style=\"text-align: right;\">\n",
       "      <th></th>\n",
       "      <th>toxic</th>\n",
       "      <th>severe_toxic</th>\n",
       "      <th>obscene</th>\n",
       "      <th>threat</th>\n",
       "      <th>insult</th>\n",
       "      <th>identity_hate</th>\n",
       "    </tr>\n",
       "    <tr>\n",
       "      <th>id</th>\n",
       "      <th></th>\n",
       "      <th></th>\n",
       "      <th></th>\n",
       "      <th></th>\n",
       "      <th></th>\n",
       "      <th></th>\n",
       "    </tr>\n",
       "  </thead>\n",
       "  <tbody>\n",
       "    <tr>\n",
       "      <th>00001cee341fdb12</th>\n",
       "      <td>0.996021</td>\n",
       "      <td>0.287536</td>\n",
       "      <td>0.975144</td>\n",
       "      <td>0.064691</td>\n",
       "      <td>0.869783</td>\n",
       "      <td>0.251931</td>\n",
       "    </tr>\n",
       "    <tr>\n",
       "      <th>0000247867823ef7</th>\n",
       "      <td>0.002079</td>\n",
       "      <td>0.000094</td>\n",
       "      <td>0.000440</td>\n",
       "      <td>0.000045</td>\n",
       "      <td>0.000584</td>\n",
       "      <td>0.000135</td>\n",
       "    </tr>\n",
       "    <tr>\n",
       "      <th>00013b17ad220c46</th>\n",
       "      <td>0.009530</td>\n",
       "      <td>0.000292</td>\n",
       "      <td>0.001992</td>\n",
       "      <td>0.000175</td>\n",
       "      <td>0.002539</td>\n",
       "      <td>0.000257</td>\n",
       "    </tr>\n",
       "    <tr>\n",
       "      <th>00017563c3f7919a</th>\n",
       "      <td>0.009447</td>\n",
       "      <td>0.000234</td>\n",
       "      <td>0.002071</td>\n",
       "      <td>0.000127</td>\n",
       "      <td>0.002464</td>\n",
       "      <td>0.000190</td>\n",
       "    </tr>\n",
       "    <tr>\n",
       "      <th>00017695ad8997eb</th>\n",
       "      <td>0.019096</td>\n",
       "      <td>0.000416</td>\n",
       "      <td>0.002702</td>\n",
       "      <td>0.000286</td>\n",
       "      <td>0.004217</td>\n",
       "      <td>0.000898</td>\n",
       "    </tr>\n",
       "    <tr>\n",
       "      <th>...</th>\n",
       "      <td>...</td>\n",
       "      <td>...</td>\n",
       "      <td>...</td>\n",
       "      <td>...</td>\n",
       "      <td>...</td>\n",
       "      <td>...</td>\n",
       "    </tr>\n",
       "    <tr>\n",
       "      <th>fffcd0960ee309b5</th>\n",
       "      <td>0.634667</td>\n",
       "      <td>0.002081</td>\n",
       "      <td>0.154846</td>\n",
       "      <td>0.000811</td>\n",
       "      <td>0.134429</td>\n",
       "      <td>0.003900</td>\n",
       "    </tr>\n",
       "    <tr>\n",
       "      <th>fffd7a9a6eb32c16</th>\n",
       "      <td>0.079839</td>\n",
       "      <td>0.001250</td>\n",
       "      <td>0.012166</td>\n",
       "      <td>0.000850</td>\n",
       "      <td>0.021459</td>\n",
       "      <td>0.002854</td>\n",
       "    </tr>\n",
       "    <tr>\n",
       "      <th>fffda9e8d6fafa9e</th>\n",
       "      <td>0.002393</td>\n",
       "      <td>0.000081</td>\n",
       "      <td>0.000782</td>\n",
       "      <td>0.000031</td>\n",
       "      <td>0.000650</td>\n",
       "      <td>0.000040</td>\n",
       "    </tr>\n",
       "    <tr>\n",
       "      <th>fffe8f1340a79fc2</th>\n",
       "      <td>0.041474</td>\n",
       "      <td>0.004036</td>\n",
       "      <td>0.007125</td>\n",
       "      <td>0.004754</td>\n",
       "      <td>0.013569</td>\n",
       "      <td>0.027950</td>\n",
       "    </tr>\n",
       "    <tr>\n",
       "      <th>ffffce3fb183ee80</th>\n",
       "      <td>0.868096</td>\n",
       "      <td>0.002928</td>\n",
       "      <td>0.611660</td>\n",
       "      <td>0.000301</td>\n",
       "      <td>0.209734</td>\n",
       "      <td>0.002784</td>\n",
       "    </tr>\n",
       "  </tbody>\n",
       "</table>\n",
       "<p>153164 rows × 6 columns</p>\n",
       "</div>"
      ],
      "text/plain": [
       "                     toxic  severe_toxic   obscene    threat    insult  \\\n",
       "id                                                                       \n",
       "00001cee341fdb12  0.996021      0.287536  0.975144  0.064691  0.869783   \n",
       "0000247867823ef7  0.002079      0.000094  0.000440  0.000045  0.000584   \n",
       "00013b17ad220c46  0.009530      0.000292  0.001992  0.000175  0.002539   \n",
       "00017563c3f7919a  0.009447      0.000234  0.002071  0.000127  0.002464   \n",
       "00017695ad8997eb  0.019096      0.000416  0.002702  0.000286  0.004217   \n",
       "...                    ...           ...       ...       ...       ...   \n",
       "fffcd0960ee309b5  0.634667      0.002081  0.154846  0.000811  0.134429   \n",
       "fffd7a9a6eb32c16  0.079839      0.001250  0.012166  0.000850  0.021459   \n",
       "fffda9e8d6fafa9e  0.002393      0.000081  0.000782  0.000031  0.000650   \n",
       "fffe8f1340a79fc2  0.041474      0.004036  0.007125  0.004754  0.013569   \n",
       "ffffce3fb183ee80  0.868096      0.002928  0.611660  0.000301  0.209734   \n",
       "\n",
       "                  identity_hate  \n",
       "id                               \n",
       "00001cee341fdb12       0.251931  \n",
       "0000247867823ef7       0.000135  \n",
       "00013b17ad220c46       0.000257  \n",
       "00017563c3f7919a       0.000190  \n",
       "00017695ad8997eb       0.000898  \n",
       "...                         ...  \n",
       "fffcd0960ee309b5       0.003900  \n",
       "fffd7a9a6eb32c16       0.002854  \n",
       "fffda9e8d6fafa9e       0.000040  \n",
       "fffe8f1340a79fc2       0.027950  \n",
       "ffffce3fb183ee80       0.002784  \n",
       "\n",
       "[153164 rows x 6 columns]"
      ]
     },
     "execution_count": 49,
     "metadata": {},
     "output_type": "execute_result"
    }
   ],
   "source": [
    "preds"
   ]
  }
 ],
 "metadata": {
  "kernelspec": {
   "display_name": "Python 3",
   "language": "python",
   "name": "python3"
  },
  "language_info": {
   "codemirror_mode": {
    "name": "ipython",
    "version": 3
   },
   "file_extension": ".py",
   "mimetype": "text/x-python",
   "name": "python",
   "nbconvert_exporter": "python",
   "pygments_lexer": "ipython3",
   "version": "3.7.12"
  },
  "papermill": {
   "default_parameters": {},
   "duration": 222.427667,
   "end_time": "2022-07-09T12:40:47.591779",
   "environment_variables": {},
   "exception": null,
   "input_path": "__notebook__.ipynb",
   "output_path": "__notebook__.ipynb",
   "parameters": {},
   "start_time": "2022-07-09T12:37:05.164112",
   "version": "2.3.4"
  }
 },
 "nbformat": 4,
 "nbformat_minor": 5
}
