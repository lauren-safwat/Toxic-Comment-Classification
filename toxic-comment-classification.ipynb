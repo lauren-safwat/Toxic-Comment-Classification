{
 "cells": [
  {
   "cell_type": "markdown",
   "id": "62f8c2c4",
   "metadata": {
    "id": "yPbrZNmajnIs",
    "papermill": {
     "duration": 0.024593,
     "end_time": "2022-07-09T21:44:58.934328",
     "exception": false,
     "start_time": "2022-07-09T21:44:58.909735",
     "status": "completed"
    },
    "tags": []
   },
   "source": [
    "### **Imports**"
   ]
  },
  {
   "cell_type": "code",
   "execution_count": 1,
   "id": "57cf7f5d",
   "metadata": {
    "execution": {
     "iopub.execute_input": "2022-07-09T21:44:58.983934Z",
     "iopub.status.busy": "2022-07-09T21:44:58.982754Z",
     "iopub.status.idle": "2022-07-09T21:45:06.838647Z",
     "shell.execute_reply": "2022-07-09T21:45:06.837660Z"
    },
    "id": "bceTLSmsjnIw",
    "outputId": "056f4ce2-c178-42ff-e313-8c26615e5364",
    "papermill": {
     "duration": 7.883262,
     "end_time": "2022-07-09T21:45:06.841028",
     "exception": false,
     "start_time": "2022-07-09T21:44:58.957766",
     "status": "completed"
    },
    "tags": []
   },
   "outputs": [
    {
     "name": "stdout",
     "output_type": "stream",
     "text": [
      "[nltk_data] Downloading package stopwords to /usr/share/nltk_data...\n",
      "[nltk_data]   Unzipping corpora/stopwords.zip.\n",
      "[nltk_data] Downloading package wordnet to /usr/share/nltk_data...\n",
      "[nltk_data]   Package wordnet is already up-to-date!\n"
     ]
    }
   ],
   "source": [
    "import os\n",
    "import numpy as np\n",
    "import pandas as pd\n",
    "import matplotlib.pyplot as plt\n",
    "import seaborn as sns\n",
    "import re\n",
    "import nltk\n",
    "\n",
    "from nltk.corpus import stopwords\n",
    "nltk.download('stopwords')\n",
    "\n",
    "from nltk.stem import WordNetLemmatizer\n",
    "nltk.download('wordnet')\n",
    "\n",
    "from sklearn.model_selection import train_test_split\n",
    "from sklearn.feature_extraction.text import TfidfVectorizer\n",
    "from sklearn.svm import LinearSVC\n",
    "from sklearn.pipeline import make_pipeline\n",
    "\n",
    "from keras import models\n",
    "from keras import layers\n",
    "from tensorflow.keras import losses\n",
    "from tensorflow.keras import metrics\n",
    "from tensorflow.keras import optimizers\n",
    "from keras.preprocessing.text import one_hot\n",
    "from keras.preprocessing.sequence import pad_sequences\n",
    "from keras.preprocessing.text import Tokenizer\n",
    "from keras.utils.vis_utils import plot_model\n",
    "from tensorflow.keras.layers import LSTM, Bidirectional, GRU, Dropout\n",
    "\n",
    "import warnings\n",
    "warnings.filterwarnings('ignore')"
   ]
  },
  {
   "cell_type": "code",
   "execution_count": 2,
   "id": "e27140a4",
   "metadata": {
    "execution": {
     "iopub.execute_input": "2022-07-09T21:45:06.890776Z",
     "iopub.status.busy": "2022-07-09T21:45:06.889460Z",
     "iopub.status.idle": "2022-07-09T21:45:06.894783Z",
     "shell.execute_reply": "2022-07-09T21:45:06.893949Z"
    },
    "id": "5bZtToThjnIx",
    "papermill": {
     "duration": 0.031434,
     "end_time": "2022-07-09T21:45:06.896724",
     "exception": false,
     "start_time": "2022-07-09T21:45:06.865290",
     "status": "completed"
    },
    "tags": []
   },
   "outputs": [],
   "source": [
    "pd.set_option('display.max_columns', None)\n",
    "pd.set_option('display.max_colwidth', None)"
   ]
  },
  {
   "cell_type": "markdown",
   "id": "eda17de2",
   "metadata": {
    "id": "9zPSny9mjnIy",
    "papermill": {
     "duration": 0.022842,
     "end_time": "2022-07-09T21:45:06.943419",
     "exception": false,
     "start_time": "2022-07-09T21:45:06.920577",
     "status": "completed"
    },
    "tags": []
   },
   "source": [
    "## **1. Reading Toxic Comments Dataset**"
   ]
  },
  {
   "cell_type": "code",
   "execution_count": 3,
   "id": "a9ce50fc",
   "metadata": {
    "execution": {
     "iopub.execute_input": "2022-07-09T21:45:06.991772Z",
     "iopub.status.busy": "2022-07-09T21:45:06.990711Z",
     "iopub.status.idle": "2022-07-09T21:45:09.798559Z",
     "shell.execute_reply": "2022-07-09T21:45:09.797560Z"
    },
    "id": "x1B7btAJjnIy",
    "papermill": {
     "duration": 2.834681,
     "end_time": "2022-07-09T21:45:09.801081",
     "exception": false,
     "start_time": "2022-07-09T21:45:06.966400",
     "status": "completed"
    },
    "tags": []
   },
   "outputs": [],
   "source": [
    "raw_train = pd.read_csv('../input/jigsaw-toxic-comment-classification/train.csv', index_col='id')\n",
    "raw_test = pd.read_csv('../input/jigsaw-toxic-comment-classification/test.csv', index_col='id')"
   ]
  },
  {
   "cell_type": "code",
   "execution_count": 4,
   "id": "b20c3ac2",
   "metadata": {
    "execution": {
     "iopub.execute_input": "2022-07-09T21:45:09.849835Z",
     "iopub.status.busy": "2022-07-09T21:45:09.849528Z",
     "iopub.status.idle": "2022-07-09T21:45:09.855036Z",
     "shell.execute_reply": "2022-07-09T21:45:09.854093Z"
    },
    "id": "6h2vI-HOjnIy",
    "papermill": {
     "duration": 0.031664,
     "end_time": "2022-07-09T21:45:09.856975",
     "exception": false,
     "start_time": "2022-07-09T21:45:09.825311",
     "status": "completed"
    },
    "tags": []
   },
   "outputs": [],
   "source": [
    "raw_train.rename(columns={'comment_text': 'comment'}, inplace=True)\n",
    "raw_test.rename(columns={'comment_text': 'comment'}, inplace=True)"
   ]
  },
  {
   "cell_type": "code",
   "execution_count": 5,
   "id": "d3b96f5c",
   "metadata": {
    "execution": {
     "iopub.execute_input": "2022-07-09T21:45:09.905710Z",
     "iopub.status.busy": "2022-07-09T21:45:09.905379Z",
     "iopub.status.idle": "2022-07-09T21:45:09.951156Z",
     "shell.execute_reply": "2022-07-09T21:45:09.949769Z"
    },
    "id": "hHGUemF0jnIz",
    "outputId": "36df5b47-a2c0-4bea-f273-05f4a222e6ff",
    "papermill": {
     "duration": 0.072797,
     "end_time": "2022-07-09T21:45:09.953162",
     "exception": false,
     "start_time": "2022-07-09T21:45:09.880365",
     "status": "completed"
    },
    "tags": []
   },
   "outputs": [
    {
     "name": "stdout",
     "output_type": "stream",
     "text": [
      "<class 'pandas.core.frame.DataFrame'>\n",
      "Index: 159571 entries, 0000997932d777bf to fff46fc426af1f9a\n",
      "Data columns (total 7 columns):\n",
      " #   Column         Non-Null Count   Dtype \n",
      "---  ------         --------------   ----- \n",
      " 0   comment        159571 non-null  object\n",
      " 1   toxic          159571 non-null  int64 \n",
      " 2   severe_toxic   159571 non-null  int64 \n",
      " 3   obscene        159571 non-null  int64 \n",
      " 4   threat         159571 non-null  int64 \n",
      " 5   insult         159571 non-null  int64 \n",
      " 6   identity_hate  159571 non-null  int64 \n",
      "dtypes: int64(6), object(1)\n",
      "memory usage: 9.7+ MB\n"
     ]
    }
   ],
   "source": [
    "raw_train.info()"
   ]
  },
  {
   "cell_type": "code",
   "execution_count": 6,
   "id": "20e908f2",
   "metadata": {
    "execution": {
     "iopub.execute_input": "2022-07-09T21:45:10.002296Z",
     "iopub.status.busy": "2022-07-09T21:45:10.001703Z",
     "iopub.status.idle": "2022-07-09T21:45:10.031536Z",
     "shell.execute_reply": "2022-07-09T21:45:10.030118Z"
    },
    "id": "y-ZvBJqPjnIz",
    "outputId": "ed587f67-9b4b-4261-967c-7cde2c4f6058",
    "papermill": {
     "duration": 0.057619,
     "end_time": "2022-07-09T21:45:10.034327",
     "exception": false,
     "start_time": "2022-07-09T21:45:09.976708",
     "status": "completed"
    },
    "tags": []
   },
   "outputs": [
    {
     "name": "stdout",
     "output_type": "stream",
     "text": [
      "<class 'pandas.core.frame.DataFrame'>\n",
      "Index: 153164 entries, 00001cee341fdb12 to ffffce3fb183ee80\n",
      "Data columns (total 1 columns):\n",
      " #   Column   Non-Null Count   Dtype \n",
      "---  ------   --------------   ----- \n",
      " 0   comment  153164 non-null  object\n",
      "dtypes: object(1)\n",
      "memory usage: 2.3+ MB\n"
     ]
    }
   ],
   "source": [
    "raw_test.info()"
   ]
  },
  {
   "cell_type": "markdown",
   "id": "740df1ce",
   "metadata": {
    "id": "AxI99-hFjnI0",
    "papermill": {
     "duration": 0.023671,
     "end_time": "2022-07-09T21:45:10.082844",
     "exception": false,
     "start_time": "2022-07-09T21:45:10.059173",
     "status": "completed"
    },
    "tags": []
   },
   "source": [
    "## **2. EDA**"
   ]
  },
  {
   "cell_type": "markdown",
   "id": "3cf9c403",
   "metadata": {
    "id": "XEwhhk0RjnI0",
    "papermill": {
     "duration": 0.027487,
     "end_time": "2022-07-09T21:45:10.134914",
     "exception": false,
     "start_time": "2022-07-09T21:45:10.107427",
     "status": "completed"
    },
    "tags": []
   },
   "source": [
    "#### **2.1 Show a sample of data**\n",
    "(to find out the required text preprocessing steps)"
   ]
  },
  {
   "cell_type": "code",
   "execution_count": 7,
   "id": "aca3c074",
   "metadata": {
    "execution": {
     "iopub.execute_input": "2022-07-09T21:45:10.187377Z",
     "iopub.status.busy": "2022-07-09T21:45:10.186981Z",
     "iopub.status.idle": "2022-07-09T21:45:10.204694Z",
     "shell.execute_reply": "2022-07-09T21:45:10.203585Z"
    },
    "id": "IufiWn8ijnI0",
    "outputId": "8730ccf0-4e40-4c25-cb31-eee798a2b08a",
    "papermill": {
     "duration": 0.046838,
     "end_time": "2022-07-09T21:45:10.207406",
     "exception": false,
     "start_time": "2022-07-09T21:45:10.160568",
     "status": "completed"
    },
    "tags": []
   },
   "outputs": [
    {
     "data": {
      "text/html": [
       "<div>\n",
       "<style scoped>\n",
       "    .dataframe tbody tr th:only-of-type {\n",
       "        vertical-align: middle;\n",
       "    }\n",
       "\n",
       "    .dataframe tbody tr th {\n",
       "        vertical-align: top;\n",
       "    }\n",
       "\n",
       "    .dataframe thead th {\n",
       "        text-align: right;\n",
       "    }\n",
       "</style>\n",
       "<table border=\"1\" class=\"dataframe\">\n",
       "  <thead>\n",
       "    <tr style=\"text-align: right;\">\n",
       "      <th></th>\n",
       "      <th>comment</th>\n",
       "      <th>toxic</th>\n",
       "      <th>severe_toxic</th>\n",
       "      <th>obscene</th>\n",
       "      <th>threat</th>\n",
       "      <th>insult</th>\n",
       "      <th>identity_hate</th>\n",
       "    </tr>\n",
       "    <tr>\n",
       "      <th>id</th>\n",
       "      <th></th>\n",
       "      <th></th>\n",
       "      <th></th>\n",
       "      <th></th>\n",
       "      <th></th>\n",
       "      <th></th>\n",
       "      <th></th>\n",
       "    </tr>\n",
       "  </thead>\n",
       "  <tbody>\n",
       "    <tr>\n",
       "      <th>0000997932d777bf</th>\n",
       "      <td>Explanation\\nWhy the edits made under my username Hardcore Metallica Fan were reverted? They weren't vandalisms, just closure on some GAs after I voted at New York Dolls FAC. And please don't remove the template from the talk page since I'm retired now.89.205.38.27</td>\n",
       "      <td>0</td>\n",
       "      <td>0</td>\n",
       "      <td>0</td>\n",
       "      <td>0</td>\n",
       "      <td>0</td>\n",
       "      <td>0</td>\n",
       "    </tr>\n",
       "    <tr>\n",
       "      <th>000103f0d9cfb60f</th>\n",
       "      <td>D'aww! He matches this background colour I'm seemingly stuck with. Thanks.  (talk) 21:51, January 11, 2016 (UTC)</td>\n",
       "      <td>0</td>\n",
       "      <td>0</td>\n",
       "      <td>0</td>\n",
       "      <td>0</td>\n",
       "      <td>0</td>\n",
       "      <td>0</td>\n",
       "    </tr>\n",
       "    <tr>\n",
       "      <th>000113f07ec002fd</th>\n",
       "      <td>Hey man, I'm really not trying to edit war. It's just that this guy is constantly removing relevant information and talking to me through edits instead of my talk page. He seems to care more about the formatting than the actual info.</td>\n",
       "      <td>0</td>\n",
       "      <td>0</td>\n",
       "      <td>0</td>\n",
       "      <td>0</td>\n",
       "      <td>0</td>\n",
       "      <td>0</td>\n",
       "    </tr>\n",
       "    <tr>\n",
       "      <th>0001b41b1c6bb37e</th>\n",
       "      <td>\"\\nMore\\nI can't make any real suggestions on improvement - I wondered if the section statistics should be later on, or a subsection of \"\"types of accidents\"\"  -I think the references may need tidying so that they are all in the exact same format ie date format etc. I can do that later on, if no-one else does first - if you have any preferences for formatting style on references or want to do it yourself please let me know.\\n\\nThere appears to be a backlog on articles for review so I guess there may be a delay until a reviewer turns up. It's listed in the relevant form eg Wikipedia:Good_article_nominations#Transport  \"</td>\n",
       "      <td>0</td>\n",
       "      <td>0</td>\n",
       "      <td>0</td>\n",
       "      <td>0</td>\n",
       "      <td>0</td>\n",
       "      <td>0</td>\n",
       "    </tr>\n",
       "    <tr>\n",
       "      <th>0001d958c54c6e35</th>\n",
       "      <td>You, sir, are my hero. Any chance you remember what page that's on?</td>\n",
       "      <td>0</td>\n",
       "      <td>0</td>\n",
       "      <td>0</td>\n",
       "      <td>0</td>\n",
       "      <td>0</td>\n",
       "      <td>0</td>\n",
       "    </tr>\n",
       "  </tbody>\n",
       "</table>\n",
       "</div>"
      ],
      "text/plain": [
       "                                                                                                                                                                                                                                                                                                                                                                                                                                                                                                                                                                                                                                                             comment  \\\n",
       "id                                                                                                                                                                                                                                                                                                                                                                                                                                                                                                                                                                                                                                                                     \n",
       "0000997932d777bf                                                                                                                                                                                                                                                                                                                                                                           Explanation\\nWhy the edits made under my username Hardcore Metallica Fan were reverted? They weren't vandalisms, just closure on some GAs after I voted at New York Dolls FAC. And please don't remove the template from the talk page since I'm retired now.89.205.38.27   \n",
       "000103f0d9cfb60f                                                                                                                                                                                                                                                                                                                                                                                                                                                                                                                                    D'aww! He matches this background colour I'm seemingly stuck with. Thanks.  (talk) 21:51, January 11, 2016 (UTC)   \n",
       "000113f07ec002fd                                                                                                                                                                                                                                                                                                                                                                                                           Hey man, I'm really not trying to edit war. It's just that this guy is constantly removing relevant information and talking to me through edits instead of my talk page. He seems to care more about the formatting than the actual info.   \n",
       "0001b41b1c6bb37e  \"\\nMore\\nI can't make any real suggestions on improvement - I wondered if the section statistics should be later on, or a subsection of \"\"types of accidents\"\"  -I think the references may need tidying so that they are all in the exact same format ie date format etc. I can do that later on, if no-one else does first - if you have any preferences for formatting style on references or want to do it yourself please let me know.\\n\\nThere appears to be a backlog on articles for review so I guess there may be a delay until a reviewer turns up. It's listed in the relevant form eg Wikipedia:Good_article_nominations#Transport  \"   \n",
       "0001d958c54c6e35                                                                                                                                                                                                                                                                                                                                                                                                                                                                                                                                                                                 You, sir, are my hero. Any chance you remember what page that's on?   \n",
       "\n",
       "                  toxic  severe_toxic  obscene  threat  insult  identity_hate  \n",
       "id                                                                             \n",
       "0000997932d777bf      0             0        0       0       0              0  \n",
       "000103f0d9cfb60f      0             0        0       0       0              0  \n",
       "000113f07ec002fd      0             0        0       0       0              0  \n",
       "0001b41b1c6bb37e      0             0        0       0       0              0  \n",
       "0001d958c54c6e35      0             0        0       0       0              0  "
      ]
     },
     "execution_count": 7,
     "metadata": {},
     "output_type": "execute_result"
    }
   ],
   "source": [
    "raw_train.head()"
   ]
  },
  {
   "cell_type": "code",
   "execution_count": 8,
   "id": "cac99623",
   "metadata": {
    "execution": {
     "iopub.execute_input": "2022-07-09T21:45:10.260622Z",
     "iopub.status.busy": "2022-07-09T21:45:10.260033Z",
     "iopub.status.idle": "2022-07-09T21:45:10.269311Z",
     "shell.execute_reply": "2022-07-09T21:45:10.268271Z"
    },
    "id": "FI5Pzf3HjnI1",
    "outputId": "530a3826-c242-4d4f-995d-9b7815983a5c",
    "papermill": {
     "duration": 0.037871,
     "end_time": "2022-07-09T21:45:10.271447",
     "exception": false,
     "start_time": "2022-07-09T21:45:10.233576",
     "status": "completed"
    },
    "tags": []
   },
   "outputs": [
    {
     "data": {
      "text/html": [
       "<div>\n",
       "<style scoped>\n",
       "    .dataframe tbody tr th:only-of-type {\n",
       "        vertical-align: middle;\n",
       "    }\n",
       "\n",
       "    .dataframe tbody tr th {\n",
       "        vertical-align: top;\n",
       "    }\n",
       "\n",
       "    .dataframe thead th {\n",
       "        text-align: right;\n",
       "    }\n",
       "</style>\n",
       "<table border=\"1\" class=\"dataframe\">\n",
       "  <thead>\n",
       "    <tr style=\"text-align: right;\">\n",
       "      <th></th>\n",
       "      <th>comment</th>\n",
       "    </tr>\n",
       "    <tr>\n",
       "      <th>id</th>\n",
       "      <th></th>\n",
       "    </tr>\n",
       "  </thead>\n",
       "  <tbody>\n",
       "    <tr>\n",
       "      <th>00001cee341fdb12</th>\n",
       "      <td>Yo bitch Ja Rule is more succesful then you'll ever be whats up with you and hating you sad mofuckas...i should bitch slap ur pethedic white faces and get you to kiss my ass you guys sicken me. Ja rule is about pride in da music man. dont diss that shit on him. and nothin is wrong bein like tupac he was a brother too...fuckin white boys get things right next time.,</td>\n",
       "    </tr>\n",
       "    <tr>\n",
       "      <th>0000247867823ef7</th>\n",
       "      <td>== From RfC == \\n\\n The title is fine as it is, IMO.</td>\n",
       "    </tr>\n",
       "    <tr>\n",
       "      <th>00013b17ad220c46</th>\n",
       "      <td>\" \\n\\n == Sources == \\n\\n * Zawe Ashton on Lapland —  /  \"</td>\n",
       "    </tr>\n",
       "    <tr>\n",
       "      <th>00017563c3f7919a</th>\n",
       "      <td>:If you have a look back at the source, the information I updated was the correct form. I can only guess the source hadn't updated. I shall update the information once again but thank you for your message.</td>\n",
       "    </tr>\n",
       "    <tr>\n",
       "      <th>00017695ad8997eb</th>\n",
       "      <td>I don't anonymously edit articles at all.</td>\n",
       "    </tr>\n",
       "  </tbody>\n",
       "</table>\n",
       "</div>"
      ],
      "text/plain": [
       "                                                                                                                                                                                                                                                                                                                                                                                          comment\n",
       "id                                                                                                                                                                                                                                                                                                                                                                                               \n",
       "00001cee341fdb12  Yo bitch Ja Rule is more succesful then you'll ever be whats up with you and hating you sad mofuckas...i should bitch slap ur pethedic white faces and get you to kiss my ass you guys sicken me. Ja rule is about pride in da music man. dont diss that shit on him. and nothin is wrong bein like tupac he was a brother too...fuckin white boys get things right next time.,\n",
       "0000247867823ef7                                                                                                                                                                                                                                                                                                                             == From RfC == \\n\\n The title is fine as it is, IMO.\n",
       "00013b17ad220c46                                                                                                                                                                                                                                                                                                                       \" \\n\\n == Sources == \\n\\n * Zawe Ashton on Lapland —  /  \"\n",
       "00017563c3f7919a                                                                                                                                                                    :If you have a look back at the source, the information I updated was the correct form. I can only guess the source hadn't updated. I shall update the information once again but thank you for your message.\n",
       "00017695ad8997eb                                                                                                                                                                                                                                                                                                                                        I don't anonymously edit articles at all."
      ]
     },
     "execution_count": 8,
     "metadata": {},
     "output_type": "execute_result"
    }
   ],
   "source": [
    "raw_test.head()"
   ]
  },
  {
   "cell_type": "code",
   "execution_count": 9,
   "id": "a337a8a8",
   "metadata": {
    "execution": {
     "iopub.execute_input": "2022-07-09T21:45:10.321729Z",
     "iopub.status.busy": "2022-07-09T21:45:10.321410Z",
     "iopub.status.idle": "2022-07-09T21:45:10.334562Z",
     "shell.execute_reply": "2022-07-09T21:45:10.333558Z"
    },
    "id": "Zpypa0mgjnI1",
    "outputId": "0b51d16b-22b5-446d-e750-cb9576457f69",
    "papermill": {
     "duration": 0.041554,
     "end_time": "2022-07-09T21:45:10.337267",
     "exception": false,
     "start_time": "2022-07-09T21:45:10.295713",
     "status": "completed"
    },
    "tags": []
   },
   "outputs": [
    {
     "data": {
      "text/plain": [
       "id\n",
       "7ca72b5b9c688e9e    Geez, are you forgetful!  We've already discussed why Marx  was  not an anarchist, i.e. he wanted to use a State to mold his 'socialist man.'  Ergo, he is a statist - the opposite of an  anarchist.  I know a guy who says that, when he gets old and his teeth fall out, he'll quit eating meat.  Would you call him a vegetarian?\n",
       "Name: comment, dtype: object"
      ]
     },
     "execution_count": 9,
     "metadata": {},
     "output_type": "execute_result"
    }
   ],
   "source": [
    "raw_train.comment.sample(random_state=42)"
   ]
  },
  {
   "cell_type": "markdown",
   "id": "6283cb78",
   "metadata": {
    "id": "1V9H0oGWjnI1",
    "papermill": {
     "duration": 0.023455,
     "end_time": "2022-07-09T21:45:10.385192",
     "exception": false,
     "start_time": "2022-07-09T21:45:10.361737",
     "status": "completed"
    },
    "tags": []
   },
   "source": [
    "#### **2.2 Check for duplicates**"
   ]
  },
  {
   "cell_type": "code",
   "execution_count": 10,
   "id": "d4da01fe",
   "metadata": {
    "execution": {
     "iopub.execute_input": "2022-07-09T21:45:10.434029Z",
     "iopub.status.busy": "2022-07-09T21:45:10.433733Z",
     "iopub.status.idle": "2022-07-09T21:45:10.657183Z",
     "shell.execute_reply": "2022-07-09T21:45:10.656114Z"
    },
    "id": "KqQOEI8NjnI1",
    "outputId": "e75fb2eb-c91a-416f-db8c-ae96bedfab53",
    "papermill": {
     "duration": 0.2508,
     "end_time": "2022-07-09T21:45:10.659680",
     "exception": false,
     "start_time": "2022-07-09T21:45:10.408880",
     "status": "completed"
    },
    "tags": []
   },
   "outputs": [
    {
     "data": {
      "text/plain": [
       "0"
      ]
     },
     "execution_count": 10,
     "metadata": {},
     "output_type": "execute_result"
    }
   ],
   "source": [
    "raw_train.duplicated().sum()"
   ]
  },
  {
   "cell_type": "code",
   "execution_count": 11,
   "id": "d4b5e6a6",
   "metadata": {
    "execution": {
     "iopub.execute_input": "2022-07-09T21:45:10.712721Z",
     "iopub.status.busy": "2022-07-09T21:45:10.712357Z",
     "iopub.status.idle": "2022-07-09T21:45:10.897064Z",
     "shell.execute_reply": "2022-07-09T21:45:10.896161Z"
    },
    "id": "jtAlBAwsjnI2",
    "outputId": "8150a5fc-3290-4de1-fbc6-13e5fec5e96a",
    "papermill": {
     "duration": 0.215263,
     "end_time": "2022-07-09T21:45:10.900743",
     "exception": false,
     "start_time": "2022-07-09T21:45:10.685480",
     "status": "completed"
    },
    "tags": []
   },
   "outputs": [
    {
     "data": {
      "text/plain": [
       "0"
      ]
     },
     "execution_count": 11,
     "metadata": {},
     "output_type": "execute_result"
    }
   ],
   "source": [
    "raw_train.duplicated(subset=['comment']).sum()"
   ]
  },
  {
   "cell_type": "code",
   "execution_count": 12,
   "id": "c904c971",
   "metadata": {
    "execution": {
     "iopub.execute_input": "2022-07-09T21:45:10.955697Z",
     "iopub.status.busy": "2022-07-09T21:45:10.955111Z",
     "iopub.status.idle": "2022-07-09T21:45:11.180004Z",
     "shell.execute_reply": "2022-07-09T21:45:11.178511Z"
    },
    "id": "PGAKbyNkjnI2",
    "outputId": "d200ed92-0040-4617-96ab-90f7a42baa8d",
    "papermill": {
     "duration": 0.253415,
     "end_time": "2022-07-09T21:45:11.183178",
     "exception": false,
     "start_time": "2022-07-09T21:45:10.929763",
     "status": "completed"
    },
    "tags": []
   },
   "outputs": [
    {
     "data": {
      "text/plain": [
       "0"
      ]
     },
     "execution_count": 12,
     "metadata": {},
     "output_type": "execute_result"
    }
   ],
   "source": [
    "raw_test.duplicated().sum()"
   ]
  },
  {
   "cell_type": "markdown",
   "id": "8d3cf215",
   "metadata": {
    "id": "uVFzYvlhjnI2",
    "papermill": {
     "duration": 0.038434,
     "end_time": "2022-07-09T21:45:11.269451",
     "exception": false,
     "start_time": "2022-07-09T21:45:11.231017",
     "status": "completed"
    },
    "tags": []
   },
   "source": [
    "#### **2.3 Check for URLs**"
   ]
  },
  {
   "cell_type": "code",
   "execution_count": 13,
   "id": "9653b8bf",
   "metadata": {
    "execution": {
     "iopub.execute_input": "2022-07-09T21:45:11.351756Z",
     "iopub.status.busy": "2022-07-09T21:45:11.351204Z",
     "iopub.status.idle": "2022-07-09T21:45:12.743887Z",
     "shell.execute_reply": "2022-07-09T21:45:12.743012Z"
    },
    "id": "Zkp8rbPDjnI2",
    "outputId": "46a75490-f678-408c-f201-7e26197b87a2",
    "papermill": {
     "duration": 1.43656,
     "end_time": "2022-07-09T21:45:12.746119",
     "exception": false,
     "start_time": "2022-07-09T21:45:11.309559",
     "status": "completed"
    },
    "tags": []
   },
   "outputs": [
    {
     "data": {
      "text/plain": [
       "id\n",
       "000c0dfd995809fa                                                                                                                                                                                       [http://www.its.caltech.edu/~atomic/snowcrystals/myths/myths.htm#perfection]\n",
       "001363e1dbe91225                                                                                                                                                                                               [http://digg.com/music/Wikipedia_has_free_classical_music_downloads]\n",
       "002c9cccf2f1d05b                                                                                                                                        [http://www.constitution.ie/reports/ConstitutionofIreland.pdf, http://www.constitution.ie/reports/mbunreachtnaheireann.pdf]\n",
       "0038f191ffc93d75                                                                                                                                                                                                              [https://ml.wikipedia.org/wiki/സംവാദം:മോസ്കോ_മെട്രോ.]\n",
       "003fa0c68deca750                                                                                                             [http://www.iranchamber.com/personalities/farabi/farabi.php, http://www.islam.org.br/%C2%A0al_farabi.htm, http://www.superbeyin.com/sohbet/sohbet.htm]\n",
       "                                                                                                                                                 ...                                                                                                                               \n",
       "fbf8672ea3b4ddf7                                                                                                                                                                                                                               [http://www.nysun.com/article/23698]\n",
       "fca6db97dde470bc                                                                                                                                                                                                                    [http://en.wikipedia.org/wiki/Talk:Nissan_GT-R]\n",
       "fd5773ec2e4bcf3a    [http://rexcurry.net/wikipedialies.html, http://rexcurry.net/pledgesalute.html, http://rexcurry.net/pledge2.html, http://rexcurry.net/pledge_military.html, http://rexcurry.net/book1a1contents-pledge.html, http://rexcurry.net/book1a1contents-swastika.html]\n",
       "fd58d3a74b75da85                                                                                                                                                                                                                 [http://www.the-scorpions.com/english/history.asp]\n",
       "ff1fd5721a58e8c7                                                     [http://www.nvidia.com/object/IO_20021017_4141.html, http://www.amazon.com/tag/palit%20microsystems, http://www.pcuniverse.com/Palit-Microsystems/bs/h/3158, http://en.wikipedia.org/wiki/Talk:EVGA_(Company)]\n",
       "Name: comment, Length: 4337, dtype: object"
      ]
     },
     "execution_count": 13,
     "metadata": {},
     "output_type": "execute_result"
    }
   ],
   "source": [
    "raw_train.comment.str.findall(r'https?:\\/\\/\\S*').drop_duplicates(keep=False)"
   ]
  },
  {
   "cell_type": "markdown",
   "id": "7404a8d8",
   "metadata": {
    "id": "O4MhTJE0jnI2",
    "papermill": {
     "duration": 0.025186,
     "end_time": "2022-07-09T21:45:12.796577",
     "exception": false,
     "start_time": "2022-07-09T21:45:12.771391",
     "status": "completed"
    },
    "tags": []
   },
   "source": [
    "#### **2.4 Check for Emails and mentions**"
   ]
  },
  {
   "cell_type": "code",
   "execution_count": 14,
   "id": "dd1e1f2e",
   "metadata": {
    "execution": {
     "iopub.execute_input": "2022-07-09T21:45:12.847593Z",
     "iopub.status.busy": "2022-07-09T21:45:12.847242Z",
     "iopub.status.idle": "2022-07-09T21:45:18.282176Z",
     "shell.execute_reply": "2022-07-09T21:45:18.281049Z"
    },
    "id": "6WRo6xz0jnI3",
    "outputId": "12753943-fcde-432f-ac13-3ad3ce2bf6ec",
    "papermill": {
     "duration": 5.463339,
     "end_time": "2022-07-09T21:45:18.284480",
     "exception": false,
     "start_time": "2022-07-09T21:45:12.821141",
     "status": "completed"
    },
    "tags": []
   },
   "outputs": [
    {
     "data": {
      "text/plain": [
       "id\n",
       "0236f714de182059                      [apriljohnson6868@gmail.com]\n",
       "03585d8dd27a3653                            [animeking237@aol.com]\n",
       "055c9cafcdb359f9    [bathory@bathory.org, bathory@maltedmedia.com]\n",
       "05ee06363d9dda77                                  [jeff@fugly.com]\n",
       "0675ca47f054c2c0                                           [@Matt]\n",
       "                                         ...                      \n",
       "ea17eecb83be13ee                             [manasgarg@gmail.com]\n",
       "ee831c8c79c9984f                                         [@'''''']\n",
       "ef12914c33ab46b5                                     [@Powergate:]\n",
       "f1ac66faba2e5bae                             [@Tznkai:, @Snowman:]\n",
       "f5379a104a9276a2                                 [last@yourhouse.]\n",
       "Name: comment, Length: 621, dtype: object"
      ]
     },
     "execution_count": 14,
     "metadata": {},
     "output_type": "execute_result"
    }
   ],
   "source": [
    "raw_train.comment.str.findall(r'\\S*@\\S+').drop_duplicates(keep=False)"
   ]
  },
  {
   "cell_type": "markdown",
   "id": "5ebe76f1",
   "metadata": {
    "id": "jec8_AH-jnI3",
    "papermill": {
     "duration": 0.025767,
     "end_time": "2022-07-09T21:45:18.336170",
     "exception": false,
     "start_time": "2022-07-09T21:45:18.310403",
     "status": "completed"
    },
    "tags": []
   },
   "source": [
    "#### **2.5 Check for Hashtags**"
   ]
  },
  {
   "cell_type": "code",
   "execution_count": 15,
   "id": "c44e6773",
   "metadata": {
    "execution": {
     "iopub.execute_input": "2022-07-09T21:45:18.388856Z",
     "iopub.status.busy": "2022-07-09T21:45:18.388512Z",
     "iopub.status.idle": "2022-07-09T21:45:19.074823Z",
     "shell.execute_reply": "2022-07-09T21:45:19.073764Z"
    },
    "id": "R9LhHmgajnI3",
    "outputId": "f408a320-1842-43d8-ac93-a557387c9bef",
    "papermill": {
     "duration": 0.71528,
     "end_time": "2022-07-09T21:45:19.077136",
     "exception": false,
     "start_time": "2022-07-09T21:45:18.361856",
     "status": "completed"
    },
    "tags": []
   },
   "outputs": [
    {
     "data": {
      "text/plain": [
       "id\n",
       "0001b41b1c6bb37e                                                                                                                                                [#Transport]\n",
       "000c0dfd995809fa                                                                                                                                               [#perfection]\n",
       "001363e1dbe91225    [#Need_help.21Wikipedia_talk:WikiProject_Music/Archive_3#I_could_use_some_helpWikipedia_talk:WikiProject_Music/Archive_2#Raulbot.2C_and_the_music_list)]\n",
       "003b9f448ee4a29d                                                                                             [#WP:V_-_comparing_Jewish_Virtual_Library_and_Dissident_Voice.]\n",
       "00585c1da10b448b                                                                                                                                                    [#5-5-5]\n",
       "                                                                                              ...                                                                           \n",
       "f71b76e3de13609a                                                                                                                                                  [#3, #4).]\n",
       "f7f582a4b0c7f860        [#Deeptrivia.2C_Al-Khwarizmi_was_an_Arab, #Deeptrivia.2C_why_did_you_remove_this_verifiable_content.3F.21, #I_find_serious_fault_with_this_phrasing]\n",
       "f9321888a2ca1c37                                                                                                                                     [##ee9000;border:solid]\n",
       "fa9626486b24f0f6                                                                                                                                         [#An, #Anachronous]\n",
       "fc8ca591ef6bc42c                                                                                                                                                 [#Non-free]\n",
       "Name: comment, Length: 2110, dtype: object"
      ]
     },
     "execution_count": 15,
     "metadata": {},
     "output_type": "execute_result"
    }
   ],
   "source": [
    "raw_train.comment.str.findall(r'#\\S+').drop_duplicates(keep=False)"
   ]
  },
  {
   "cell_type": "markdown",
   "id": "5ec82dc2",
   "metadata": {
    "id": "7n4N0zTBjnI3",
    "papermill": {
     "duration": 0.025729,
     "end_time": "2022-07-09T21:45:19.128373",
     "exception": false,
     "start_time": "2022-07-09T21:45:19.102644",
     "status": "completed"
    },
    "tags": []
   },
   "source": [
    "#### **2.6 Check for HTML tags**"
   ]
  },
  {
   "cell_type": "code",
   "execution_count": 16,
   "id": "d5cf816c",
   "metadata": {
    "execution": {
     "iopub.execute_input": "2022-07-09T21:45:19.180129Z",
     "iopub.status.busy": "2022-07-09T21:45:19.179267Z",
     "iopub.status.idle": "2022-07-09T21:45:19.493654Z",
     "shell.execute_reply": "2022-07-09T21:45:19.492734Z"
    },
    "id": "Z_bKKjBFjnI3",
    "outputId": "b989c857-3bc5-4406-f587-4e3543bc7a21",
    "papermill": {
     "duration": 0.342461,
     "end_time": "2022-07-09T21:45:19.495710",
     "exception": false,
     "start_time": "2022-07-09T21:45:19.153249",
     "status": "completed"
    },
    "tags": []
   },
   "outputs": [
    {
     "data": {
      "text/plain": [
       "id\n",
       "0e343b7f449df75a                                                                                                                                                                                                   [<  | ∂drini >]\n",
       "1905ca9ef49186a3                                                                          [< http://theregister.co.uk/2008/02/01/woolworths_bed_outrage >, < http://www.woolworths.co.uk/web/jsp/product/index.jsp?pid=11401556 >]\n",
       "1ae9fbf8d8bc558c                                                                                                                     [<ɰ> is a more appropriate symbol.  was useful because it was found on typewriters while <ɰ>]\n",
       "1c60ea64111132c6                                                                                                                                                                                         [<| 09.10.2007 | Monday>]\n",
       "2917d00d75fa9c1d                                                                                                              [<<... a world in which every single human being can freely share in the sum of all knowledge ...>>]\n",
       "                                                                                                                         ...                                                                                                      \n",
       "3049d085bc0f83a8    [< http://en.wikipedia.org/w/index.php?title=Wikipedia:Administrators%27_noticeboard/Wiki_editor_DonFphrnqTaub_Persina&diff;=178429228&oldid;=178383952 >, < | http://en.wikipedia.org/wiki/special:search/ >]\n",
       "799af7635b509ac5                                                                                                                                                                                                            [<<>>]\n",
       "b713a791ef0ef0c5                                                                                                                                                                                                          [<')))>]\n",
       "d484ee4c8c8aefcc                                                                                                                                                                                    [<[ freakofnurxture]|[ talk]>]\n",
       "e9e45f79d94fd41f                                                                                                                                                                                                          [< !  >]\n",
       "Name: comment, Length: 73, dtype: object"
      ]
     },
     "execution_count": 16,
     "metadata": {},
     "output_type": "execute_result"
    }
   ],
   "source": [
    "raw_train.comment.str.findall(r'<.*>').drop_duplicates(keep=False)"
   ]
  },
  {
   "cell_type": "markdown",
   "id": "9c71a5d3",
   "metadata": {
    "id": "ts3JgZkijnI3",
    "papermill": {
     "duration": 0.025119,
     "end_time": "2022-07-09T21:45:19.546033",
     "exception": false,
     "start_time": "2022-07-09T21:45:19.520914",
     "status": "completed"
    },
    "tags": []
   },
   "source": [
    "#### **2.7 Check for dataset imbalance**"
   ]
  },
  {
   "cell_type": "code",
   "execution_count": 17,
   "id": "9c26ee2b",
   "metadata": {
    "execution": {
     "iopub.execute_input": "2022-07-09T21:45:19.598851Z",
     "iopub.status.busy": "2022-07-09T21:45:19.597947Z",
     "iopub.status.idle": "2022-07-09T21:45:20.324831Z",
     "shell.execute_reply": "2022-07-09T21:45:20.323948Z"
    },
    "id": "0EovY7jxjnI4",
    "outputId": "21aafd3c-d2fc-4e12-94ca-d1a68ab2b13b",
    "papermill": {
     "duration": 0.755767,
     "end_time": "2022-07-09T21:45:20.327380",
     "exception": false,
     "start_time": "2022-07-09T21:45:19.571613",
     "status": "completed"
    },
    "tags": []
   },
   "outputs": [
    {
     "data": {
      "image/png": "[encoded data removed]",
      "text/plain": [
       "<Figure size 1800x1080 with 6 Axes>"
      ]
     },
     "metadata": {
      "needs_background": "light"
     },
     "output_type": "display_data"
    }
   ],
   "source": [
    "target_cols = raw_train.select_dtypes(include=np.number).columns\n",
    "fig, ax = plt.subplots(2, 3, figsize=(25, 15))\n",
    "\n",
    "for col, subplot in zip(target_cols, ax.flatten()):\n",
    "    sns.countplot(x=raw_train[col], ax=subplot)\n",
    "    for p in subplot.patches:\n",
    "        x_ = p.get_bbox().get_points()[:,0]\n",
    "        y_ = p.get_bbox().get_points()[1,1]\n",
    "        subplot.annotate(p.get_height(), (x_.mean(), y_), ha='center', va='bottom')\n",
    "        \n",
    "plt.show()"
   ]
  },
  {
   "cell_type": "markdown",
   "id": "ca73ce40",
   "metadata": {
    "id": "j3Vc6N-vjnI4",
    "papermill": {
     "duration": 0.025529,
     "end_time": "2022-07-09T21:45:20.378871",
     "exception": false,
     "start_time": "2022-07-09T21:45:20.353342",
     "status": "completed"
    },
    "tags": []
   },
   "source": [
    "#### **2.8 Number of comments in each category**"
   ]
  },
  {
   "cell_type": "code",
   "execution_count": 18,
   "id": "21ebe65d",
   "metadata": {
    "execution": {
     "iopub.execute_input": "2022-07-09T21:45:20.433570Z",
     "iopub.status.busy": "2022-07-09T21:45:20.433220Z",
     "iopub.status.idle": "2022-07-09T21:45:20.647139Z",
     "shell.execute_reply": "2022-07-09T21:45:20.646122Z"
    },
    "id": "WA7dVjOLjnI4",
    "outputId": "b8807e7f-7829-4c75-e3bf-362c58f1aa17",
    "papermill": {
     "duration": 0.244323,
     "end_time": "2022-07-09T21:45:20.649568",
     "exception": false,
     "start_time": "2022-07-09T21:45:20.405245",
     "status": "completed"
    },
    "tags": []
   },
   "outputs": [
    {
     "data": {
      "image/png": "[encoded data removed]",
      "text/plain": [
       "<Figure size 432x288 with 1 Axes>"
      ]
     },
     "metadata": {
      "needs_background": "light"
     },
     "output_type": "display_data"
    }
   ],
   "source": [
    "ax = sns.barplot(x=target_cols, y=raw_train[target_cols].sum(axis=0))\n",
    "for p in ax.patches:\n",
    "    x_ = p.get_bbox().get_points()[:,0]\n",
    "    y_ = p.get_bbox().get_points()[1,1]\n",
    "    ax.annotate(p.get_height(), (x_.mean(), y_), ha='center', va='bottom')"
   ]
  },
  {
   "cell_type": "markdown",
   "id": "df780555",
   "metadata": {
    "id": "5KekO-rxjnI4",
    "papermill": {
     "duration": 0.028357,
     "end_time": "2022-07-09T21:45:20.705631",
     "exception": false,
     "start_time": "2022-07-09T21:45:20.677274",
     "status": "completed"
    },
    "tags": []
   },
   "source": [
    "#### **2.9 Comments with multi-labels**"
   ]
  },
  {
   "cell_type": "code",
   "execution_count": 19,
   "id": "6b5b6824",
   "metadata": {
    "execution": {
     "iopub.execute_input": "2022-07-09T21:45:20.767009Z",
     "iopub.status.busy": "2022-07-09T21:45:20.766656Z",
     "iopub.status.idle": "2022-07-09T21:45:20.988908Z",
     "shell.execute_reply": "2022-07-09T21:45:20.988008Z"
    },
    "id": "TuSjA__KjnI4",
    "outputId": "4f07869f-dc6d-4204-a49d-c68bb940970d",
    "papermill": {
     "duration": 0.255548,
     "end_time": "2022-07-09T21:45:20.991156",
     "exception": false,
     "start_time": "2022-07-09T21:45:20.735608",
     "status": "completed"
    },
    "tags": []
   },
   "outputs": [
    {
     "data": {
      "text/plain": [
       "Text(0, 0.5, 'No. of Comments')"
      ]
     },
     "execution_count": 19,
     "metadata": {},
     "output_type": "execute_result"
    },
    {
     "data": {
      "image/png": "[encoded data removed]",
      "text/plain": [
       "<Figure size 432x288 with 1 Axes>"
      ]
     },
     "metadata": {
      "needs_background": "light"
     },
     "output_type": "display_data"
    }
   ],
   "source": [
    "nLabels = raw_train[target_cols].sum(axis=1).value_counts()\n",
    "\n",
    "ax = sns.barplot(x=nLabels.index, y=nLabels.values)\n",
    "for p in ax.patches:\n",
    "    x_ = p.get_bbox().get_points()[:,0]\n",
    "    y_ = p.get_bbox().get_points()[1,1]\n",
    "    ax.annotate(p.get_height(), (x_.mean(), y_), ha='center', va='bottom')\n",
    "    \n",
    "plt.title(\"Multi-labels per comment\")\n",
    "plt.xlabel('No. of categories', fontsize=12)\n",
    "plt.ylabel('No. of Comments', fontsize=12)"
   ]
  },
  {
   "cell_type": "markdown",
   "id": "332813b7",
   "metadata": {
    "id": "FjF2_qaIjnI5",
    "papermill": {
     "duration": 0.02689,
     "end_time": "2022-07-09T21:45:21.045452",
     "exception": false,
     "start_time": "2022-07-09T21:45:21.018562",
     "status": "completed"
    },
    "tags": []
   },
   "source": [
    "## **3. Text Preprocessing**"
   ]
  },
  {
   "cell_type": "markdown",
   "id": "aa8b4bb6",
   "metadata": {
    "id": "MbOYDe0sjnI5",
    "papermill": {
     "duration": 0.026445,
     "end_time": "2022-07-09T21:45:21.098888",
     "exception": false,
     "start_time": "2022-07-09T21:45:21.072443",
     "status": "completed"
    },
    "tags": []
   },
   "source": [
    "#### **3.1 Remove URLs**"
   ]
  },
  {
   "cell_type": "code",
   "execution_count": 20,
   "id": "2109df96",
   "metadata": {
    "execution": {
     "iopub.execute_input": "2022-07-09T21:45:21.156561Z",
     "iopub.status.busy": "2022-07-09T21:45:21.156211Z",
     "iopub.status.idle": "2022-07-09T21:45:21.161048Z",
     "shell.execute_reply": "2022-07-09T21:45:21.160145Z"
    },
    "id": "ww8rHWgZjnI5",
    "papermill": {
     "duration": 0.034873,
     "end_time": "2022-07-09T21:45:21.163007",
     "exception": false,
     "start_time": "2022-07-09T21:45:21.128134",
     "status": "completed"
    },
    "tags": []
   },
   "outputs": [],
   "source": [
    "def remove_urls(text):\n",
    "    return re.sub(r'https?:\\/\\/\\S*', '', text, flags=re.MULTILINE)"
   ]
  },
  {
   "cell_type": "markdown",
   "id": "c2832a11",
   "metadata": {
    "id": "jyb-oZ6SjnI5",
    "papermill": {
     "duration": 0.026108,
     "end_time": "2022-07-09T21:45:21.215709",
     "exception": false,
     "start_time": "2022-07-09T21:45:21.189601",
     "status": "completed"
    },
    "tags": []
   },
   "source": [
    "#### **3.2 Remove Emails and Mentions**"
   ]
  },
  {
   "cell_type": "code",
   "execution_count": 21,
   "id": "cbd8c371",
   "metadata": {
    "execution": {
     "iopub.execute_input": "2022-07-09T21:45:21.270335Z",
     "iopub.status.busy": "2022-07-09T21:45:21.269999Z",
     "iopub.status.idle": "2022-07-09T21:45:21.274876Z",
     "shell.execute_reply": "2022-07-09T21:45:21.273855Z"
    },
    "id": "8q2RU89SjnI5",
    "papermill": {
     "duration": 0.034944,
     "end_time": "2022-07-09T21:45:21.277069",
     "exception": false,
     "start_time": "2022-07-09T21:45:21.242125",
     "status": "completed"
    },
    "tags": []
   },
   "outputs": [],
   "source": [
    "def remove_emails_and_mentions(text):\n",
    "    return re.sub(r'\\S*@\\S+', '', text, flags=re.MULTILINE)"
   ]
  },
  {
   "cell_type": "markdown",
   "id": "cd065970",
   "metadata": {
    "id": "SC2opuJvjnI6",
    "papermill": {
     "duration": 0.026688,
     "end_time": "2022-07-09T21:45:21.329618",
     "exception": false,
     "start_time": "2022-07-09T21:45:21.302930",
     "status": "completed"
    },
    "tags": []
   },
   "source": [
    "#### **3.3 Remove Hashtags**"
   ]
  },
  {
   "cell_type": "code",
   "execution_count": 22,
   "id": "616ac37c",
   "metadata": {
    "execution": {
     "iopub.execute_input": "2022-07-09T21:45:21.384383Z",
     "iopub.status.busy": "2022-07-09T21:45:21.383531Z",
     "iopub.status.idle": "2022-07-09T21:45:21.389007Z",
     "shell.execute_reply": "2022-07-09T21:45:21.388114Z"
    },
    "id": "Ed15b-iSjnI6",
    "papermill": {
     "duration": 0.035314,
     "end_time": "2022-07-09T21:45:21.391021",
     "exception": false,
     "start_time": "2022-07-09T21:45:21.355707",
     "status": "completed"
    },
    "tags": []
   },
   "outputs": [],
   "source": [
    "def remove_hashtags(text):\n",
    "    return re.sub(r'#\\S+', '', text, flags=re.MULTILINE)"
   ]
  },
  {
   "cell_type": "markdown",
   "id": "65dd4067",
   "metadata": {
    "id": "DheBUa-DjnI6",
    "papermill": {
     "duration": 0.026773,
     "end_time": "2022-07-09T21:45:21.444098",
     "exception": false,
     "start_time": "2022-07-09T21:45:21.417325",
     "status": "completed"
    },
    "tags": []
   },
   "source": [
    "#### **3.4 Remove HTML tags**"
   ]
  },
  {
   "cell_type": "code",
   "execution_count": 23,
   "id": "68d27d22",
   "metadata": {
    "execution": {
     "iopub.execute_input": "2022-07-09T21:45:21.498640Z",
     "iopub.status.busy": "2022-07-09T21:45:21.498303Z",
     "iopub.status.idle": "2022-07-09T21:45:21.503146Z",
     "shell.execute_reply": "2022-07-09T21:45:21.502221Z"
    },
    "id": "rS51TafNjnI6",
    "papermill": {
     "duration": 0.034422,
     "end_time": "2022-07-09T21:45:21.505042",
     "exception": false,
     "start_time": "2022-07-09T21:45:21.470620",
     "status": "completed"
    },
    "tags": []
   },
   "outputs": [],
   "source": [
    "def remove_html_tags(text):\n",
    "    return re.sub(r'<+.*>+', '', text, flags=re.MULTILINE)"
   ]
  },
  {
   "cell_type": "markdown",
   "id": "9e1c5454",
   "metadata": {
    "id": "WmhCwWp0jnI6",
    "papermill": {
     "duration": 0.027223,
     "end_time": "2022-07-09T21:45:21.559004",
     "exception": false,
     "start_time": "2022-07-09T21:45:21.531781",
     "status": "completed"
    },
    "tags": []
   },
   "source": [
    "#### **3.5 Remove whitespaces**"
   ]
  },
  {
   "cell_type": "code",
   "execution_count": 24,
   "id": "77f4312a",
   "metadata": {
    "execution": {
     "iopub.execute_input": "2022-07-09T21:45:21.614606Z",
     "iopub.status.busy": "2022-07-09T21:45:21.613716Z",
     "iopub.status.idle": "2022-07-09T21:45:21.619203Z",
     "shell.execute_reply": "2022-07-09T21:45:21.618344Z"
    },
    "id": "l6UQ_LqwjnI6",
    "papermill": {
     "duration": 0.035737,
     "end_time": "2022-07-09T21:45:21.621175",
     "exception": false,
     "start_time": "2022-07-09T21:45:21.585438",
     "status": "completed"
    },
    "tags": []
   },
   "outputs": [],
   "source": [
    "def remove_whitespaces(text):\n",
    "    text = re.sub(r'\\s+', ' ', text, flags=re.MULTILINE)\n",
    "    return text.strip()"
   ]
  },
  {
   "cell_type": "markdown",
   "id": "6f404a3b",
   "metadata": {
    "id": "aQncZZRYjnI7",
    "papermill": {
     "duration": 0.026223,
     "end_time": "2022-07-09T21:45:21.673432",
     "exception": false,
     "start_time": "2022-07-09T21:45:21.647209",
     "status": "completed"
    },
    "tags": []
   },
   "source": [
    "#### **3.6 Convert text to lower case**"
   ]
  },
  {
   "cell_type": "code",
   "execution_count": 25,
   "id": "2ba6b2ed",
   "metadata": {
    "execution": {
     "iopub.execute_input": "2022-07-09T21:45:21.727762Z",
     "iopub.status.busy": "2022-07-09T21:45:21.726853Z",
     "iopub.status.idle": "2022-07-09T21:45:21.732019Z",
     "shell.execute_reply": "2022-07-09T21:45:21.730914Z"
    },
    "id": "SpapVBScjnI7",
    "papermill": {
     "duration": 0.034285,
     "end_time": "2022-07-09T21:45:21.733909",
     "exception": false,
     "start_time": "2022-07-09T21:45:21.699624",
     "status": "completed"
    },
    "tags": []
   },
   "outputs": [],
   "source": [
    "def to_lowercase(text):\n",
    "    return text.lower()"
   ]
  },
  {
   "cell_type": "markdown",
   "id": "5af94dc2",
   "metadata": {
    "id": "6oNS4tyCjnI7",
    "papermill": {
     "duration": 0.026158,
     "end_time": "2022-07-09T21:45:21.786467",
     "exception": false,
     "start_time": "2022-07-09T21:45:21.760309",
     "status": "completed"
    },
    "tags": []
   },
   "source": [
    "#### **3.7 Remove all special characters**"
   ]
  },
  {
   "cell_type": "code",
   "execution_count": 26,
   "id": "7d513906",
   "metadata": {
    "execution": {
     "iopub.execute_input": "2022-07-09T21:45:21.840568Z",
     "iopub.status.busy": "2022-07-09T21:45:21.839966Z",
     "iopub.status.idle": "2022-07-09T21:45:21.844360Z",
     "shell.execute_reply": "2022-07-09T21:45:21.843455Z"
    },
    "id": "N4i-O0fyjnI7",
    "papermill": {
     "duration": 0.033561,
     "end_time": "2022-07-09T21:45:21.846407",
     "exception": false,
     "start_time": "2022-07-09T21:45:21.812846",
     "status": "completed"
    },
    "tags": []
   },
   "outputs": [],
   "source": [
    "def remove_special_chars(text):\n",
    "    return re.findall(r'[a-z]{3,}', text)"
   ]
  },
  {
   "cell_type": "markdown",
   "id": "7ea5df1b",
   "metadata": {
    "id": "wHMAxpIcjnI7",
    "papermill": {
     "duration": 0.026858,
     "end_time": "2022-07-09T21:45:21.900001",
     "exception": false,
     "start_time": "2022-07-09T21:45:21.873143",
     "status": "completed"
    },
    "tags": []
   },
   "source": [
    "#### **3.8 Remove stopwords**"
   ]
  },
  {
   "cell_type": "code",
   "execution_count": 27,
   "id": "46556eb5",
   "metadata": {
    "execution": {
     "iopub.execute_input": "2022-07-09T21:45:21.954901Z",
     "iopub.status.busy": "2022-07-09T21:45:21.954025Z",
     "iopub.status.idle": "2022-07-09T21:45:21.959102Z",
     "shell.execute_reply": "2022-07-09T21:45:21.958156Z"
    },
    "id": "Vt5IYEcljnI7",
    "papermill": {
     "duration": 0.034216,
     "end_time": "2022-07-09T21:45:21.960958",
     "exception": false,
     "start_time": "2022-07-09T21:45:21.926742",
     "status": "completed"
    },
    "tags": []
   },
   "outputs": [],
   "source": [
    "def remove_stopwords(words):\n",
    "    stop_words = set(stopwords.words('english'))\n",
    "    return [word for word in words if word not in stop_words]"
   ]
  },
  {
   "cell_type": "markdown",
   "id": "d756ebd9",
   "metadata": {
    "id": "chViD401jnI8",
    "papermill": {
     "duration": 0.027272,
     "end_time": "2022-07-09T21:45:22.014999",
     "exception": false,
     "start_time": "2022-07-09T21:45:21.987727",
     "status": "completed"
    },
    "tags": []
   },
   "source": [
    "#### **3.9 Lemmatization**"
   ]
  },
  {
   "cell_type": "code",
   "execution_count": 28,
   "id": "df73d339",
   "metadata": {
    "execution": {
     "iopub.execute_input": "2022-07-09T21:45:22.069952Z",
     "iopub.status.busy": "2022-07-09T21:45:22.069627Z",
     "iopub.status.idle": "2022-07-09T21:45:22.074649Z",
     "shell.execute_reply": "2022-07-09T21:45:22.073660Z"
    },
    "id": "TSev0HROjnI8",
    "papermill": {
     "duration": 0.03532,
     "end_time": "2022-07-09T21:45:22.076726",
     "exception": false,
     "start_time": "2022-07-09T21:45:22.041406",
     "status": "completed"
    },
    "tags": []
   },
   "outputs": [],
   "source": [
    "def lemmatization(words):\n",
    "    lemmatizer = WordNetLemmatizer()\n",
    "    return ' '.join(lemmatizer.lemmatize(word) for word in words)"
   ]
  },
  {
   "cell_type": "markdown",
   "id": "6fa9981c",
   "metadata": {
    "id": "bxxjxK43jnI8",
    "papermill": {
     "duration": 0.039799,
     "end_time": "2022-07-09T21:45:22.143026",
     "exception": false,
     "start_time": "2022-07-09T21:45:22.103227",
     "status": "completed"
    },
    "tags": []
   },
   "source": [
    "#### **Putting all the pipeline together**"
   ]
  },
  {
   "cell_type": "code",
   "execution_count": 29,
   "id": "d73437de",
   "metadata": {
    "execution": {
     "iopub.execute_input": "2022-07-09T21:45:22.251505Z",
     "iopub.status.busy": "2022-07-09T21:45:22.250756Z",
     "iopub.status.idle": "2022-07-09T21:45:22.258755Z",
     "shell.execute_reply": "2022-07-09T21:45:22.257382Z"
    },
    "id": "g6zWSHFWjnI8",
    "papermill": {
     "duration": 0.063911,
     "end_time": "2022-07-09T21:45:22.261751",
     "exception": false,
     "start_time": "2022-07-09T21:45:22.197840",
     "status": "completed"
    },
    "tags": []
   },
   "outputs": [],
   "source": [
    "def text_preprocessing(text):\n",
    "    text = remove_urls(text)\n",
    "    text = remove_emails_and_mentions(text)\n",
    "    text = remove_hashtags(text)\n",
    "    text = remove_html_tags(text)\n",
    "    text = remove_whitespaces(text)\n",
    "    text = to_lowercase(text)\n",
    "    words = remove_special_chars(text)\n",
    "    words = remove_stopwords(words)\n",
    "    text = lemmatization(words)\n",
    "    return text"
   ]
  },
  {
   "cell_type": "markdown",
   "id": "e899423b",
   "metadata": {
    "id": "PJ7GLWKejnI8",
    "papermill": {
     "duration": 0.044955,
     "end_time": "2022-07-09T21:45:22.353708",
     "exception": false,
     "start_time": "2022-07-09T21:45:22.308753",
     "status": "completed"
    },
    "tags": []
   },
   "source": [
    "#### **Applying text preprocessing on train and test sets**"
   ]
  },
  {
   "cell_type": "code",
   "execution_count": 30,
   "id": "cce29f6c",
   "metadata": {
    "execution": {
     "iopub.execute_input": "2022-07-09T21:45:22.443348Z",
     "iopub.status.busy": "2022-07-09T21:45:22.442905Z",
     "iopub.status.idle": "2022-07-09T21:45:22.459929Z",
     "shell.execute_reply": "2022-07-09T21:45:22.458982Z"
    },
    "id": "lnhG3T3sjnI8",
    "papermill": {
     "duration": 0.064668,
     "end_time": "2022-07-09T21:45:22.462258",
     "exception": false,
     "start_time": "2022-07-09T21:45:22.397590",
     "status": "completed"
    },
    "tags": []
   },
   "outputs": [],
   "source": [
    "train = raw_train.copy()\n",
    "test = raw_test.copy()"
   ]
  },
  {
   "cell_type": "code",
   "execution_count": 31,
   "id": "c0436a51",
   "metadata": {
    "execution": {
     "iopub.execute_input": "2022-07-09T21:45:22.550379Z",
     "iopub.status.busy": "2022-07-09T21:45:22.549932Z",
     "iopub.status.idle": "2022-07-09T21:45:22.779024Z",
     "shell.execute_reply": "2022-07-09T21:45:22.777991Z"
    },
    "id": "QGeEIFYEnnTY",
    "outputId": "36962f13-b801-4101-f580-efa608068276",
    "papermill": {
     "duration": 0.275783,
     "end_time": "2022-07-09T21:45:22.781137",
     "exception": false,
     "start_time": "2022-07-09T21:45:22.505354",
     "status": "completed"
    },
    "tags": []
   },
   "outputs": [
    {
     "name": "stdout",
     "output_type": "stream",
     "text": [
      "[nltk_data] Downloading package omw-1.4 to /usr/share/nltk_data...\n"
     ]
    },
    {
     "data": {
      "text/plain": [
       "True"
      ]
     },
     "execution_count": 31,
     "metadata": {},
     "output_type": "execute_result"
    }
   ],
   "source": [
    "nltk.download('omw-1.4')"
   ]
  },
  {
   "cell_type": "code",
   "execution_count": 32,
   "id": "cc07521e",
   "metadata": {
    "execution": {
     "iopub.execute_input": "2022-07-09T21:45:22.836050Z",
     "iopub.status.busy": "2022-07-09T21:45:22.835744Z",
     "iopub.status.idle": "2022-07-09T21:46:31.591997Z",
     "shell.execute_reply": "2022-07-09T21:46:31.591009Z"
    },
    "id": "tE-bXwwLjnI8",
    "papermill": {
     "duration": 68.786143,
     "end_time": "2022-07-09T21:46:31.594424",
     "exception": false,
     "start_time": "2022-07-09T21:45:22.808281",
     "status": "completed"
    },
    "tags": []
   },
   "outputs": [],
   "source": [
    "train.comment = train.comment.apply(text_preprocessing)"
   ]
  },
  {
   "cell_type": "code",
   "execution_count": 33,
   "id": "1b543409",
   "metadata": {
    "execution": {
     "iopub.execute_input": "2022-07-09T21:46:31.650706Z",
     "iopub.status.busy": "2022-07-09T21:46:31.650382Z",
     "iopub.status.idle": "2022-07-09T21:47:33.118725Z",
     "shell.execute_reply": "2022-07-09T21:47:33.117755Z"
    },
    "id": "sRbqMx6djnI8",
    "papermill": {
     "duration": 61.498712,
     "end_time": "2022-07-09T21:47:33.121070",
     "exception": false,
     "start_time": "2022-07-09T21:46:31.622358",
     "status": "completed"
    },
    "tags": []
   },
   "outputs": [],
   "source": [
    "test.comment = test.comment.apply(text_preprocessing)"
   ]
  },
  {
   "cell_type": "markdown",
   "id": "f6a096cf",
   "metadata": {
    "id": "SqtGIqNDjnI9",
    "papermill": {
     "duration": 0.026844,
     "end_time": "2022-07-09T21:47:33.175554",
     "exception": false,
     "start_time": "2022-07-09T21:47:33.148710",
     "status": "completed"
    },
    "tags": []
   },
   "source": [
    "#### **Showing a sample of data before and after cleaning**"
   ]
  },
  {
   "cell_type": "code",
   "execution_count": 34,
   "id": "b0384a65",
   "metadata": {
    "execution": {
     "iopub.execute_input": "2022-07-09T21:47:33.230536Z",
     "iopub.status.busy": "2022-07-09T21:47:33.230187Z",
     "iopub.status.idle": "2022-07-09T21:47:33.242271Z",
     "shell.execute_reply": "2022-07-09T21:47:33.241343Z"
    },
    "id": "CD-GRMbEjnI9",
    "outputId": "7a25201d-33d3-4575-a10d-4c9c970aefe1",
    "papermill": {
     "duration": 0.041795,
     "end_time": "2022-07-09T21:47:33.244201",
     "exception": false,
     "start_time": "2022-07-09T21:47:33.202406",
     "status": "completed"
    },
    "tags": []
   },
   "outputs": [
    {
     "data": {
      "text/plain": [
       "id\n",
       "7ca72b5b9c688e9e    Geez, are you forgetful!  We've already discussed why Marx  was  not an anarchist, i.e. he wanted to use a State to mold his 'socialist man.'  Ergo, he is a statist - the opposite of an  anarchist.  I know a guy who says that, when he gets old and his teeth fall out, he'll quit eating meat.  Would you call him a vegetarian?\n",
       "Name: comment, dtype: object"
      ]
     },
     "execution_count": 34,
     "metadata": {},
     "output_type": "execute_result"
    }
   ],
   "source": [
    "raw_train.comment.sample(random_state=42)"
   ]
  },
  {
   "cell_type": "code",
   "execution_count": 35,
   "id": "57cd6e46",
   "metadata": {
    "execution": {
     "iopub.execute_input": "2022-07-09T21:47:33.299613Z",
     "iopub.status.busy": "2022-07-09T21:47:33.298775Z",
     "iopub.status.idle": "2022-07-09T21:47:33.309914Z",
     "shell.execute_reply": "2022-07-09T21:47:33.308914Z"
    },
    "id": "Fl73GIsxjnI9",
    "outputId": "59e2359d-b146-4122-98d2-0a2c468f193c",
    "papermill": {
     "duration": 0.040915,
     "end_time": "2022-07-09T21:47:33.311849",
     "exception": false,
     "start_time": "2022-07-09T21:47:33.270934",
     "status": "completed"
    },
    "tags": []
   },
   "outputs": [
    {
     "data": {
      "text/plain": [
       "id\n",
       "7ca72b5b9c688e9e    geez forgetful already discussed marx anarchist wanted use state mold socialist man ergo statist opposite anarchist know guy say get old teeth fall quit eating meat would call vegetarian\n",
       "Name: comment, dtype: object"
      ]
     },
     "execution_count": 35,
     "metadata": {},
     "output_type": "execute_result"
    }
   ],
   "source": [
    "train.comment.sample(random_state=42)"
   ]
  },
  {
   "cell_type": "markdown",
   "id": "13e3b975",
   "metadata": {
    "id": "zyAeWcyUjnI9",
    "papermill": {
     "duration": 0.026835,
     "end_time": "2022-07-09T21:47:33.365048",
     "exception": false,
     "start_time": "2022-07-09T21:47:33.338213",
     "status": "completed"
    },
    "tags": []
   },
   "source": [
    "#### **Splitting data**"
   ]
  },
  {
   "cell_type": "code",
   "execution_count": 36,
   "id": "7eab65b7",
   "metadata": {
    "execution": {
     "iopub.execute_input": "2022-07-09T21:47:33.422519Z",
     "iopub.status.busy": "2022-07-09T21:47:33.421639Z",
     "iopub.status.idle": "2022-07-09T21:47:33.486717Z",
     "shell.execute_reply": "2022-07-09T21:47:33.485750Z"
    },
    "id": "2BzwcdIWjnI9",
    "papermill": {
     "duration": 0.09534,
     "end_time": "2022-07-09T21:47:33.489067",
     "exception": false,
     "start_time": "2022-07-09T21:47:33.393727",
     "status": "completed"
    },
    "tags": []
   },
   "outputs": [],
   "source": [
    "x_train_df, x_val_df, y_train_df, y_val_df = train_test_split(train.comment, train[target_cols], test_size=0.2, random_state=42)"
   ]
  },
  {
   "cell_type": "code",
   "execution_count": 37,
   "id": "389a1ac3",
   "metadata": {
    "execution": {
     "iopub.execute_input": "2022-07-09T21:47:33.545821Z",
     "iopub.status.busy": "2022-07-09T21:47:33.544952Z",
     "iopub.status.idle": "2022-07-09T21:47:33.549795Z",
     "shell.execute_reply": "2022-07-09T21:47:33.548769Z"
    },
    "id": "4Tp11f8JjnI9",
    "papermill": {
     "duration": 0.034849,
     "end_time": "2022-07-09T21:47:33.551789",
     "exception": false,
     "start_time": "2022-07-09T21:47:33.516940",
     "status": "completed"
    },
    "tags": []
   },
   "outputs": [],
   "source": [
    "x_test_df = test.comment"
   ]
  },
  {
   "cell_type": "code",
   "execution_count": 38,
   "id": "e6556b3c",
   "metadata": {
    "execution": {
     "iopub.execute_input": "2022-07-09T21:47:33.607104Z",
     "iopub.status.busy": "2022-07-09T21:47:33.606761Z",
     "iopub.status.idle": "2022-07-09T21:47:33.613043Z",
     "shell.execute_reply": "2022-07-09T21:47:33.612140Z"
    },
    "id": "F4sgKRFcjnI9",
    "outputId": "0aa189e2-7350-4ed2-d8bb-e75fa7b02fb9",
    "papermill": {
     "duration": 0.037182,
     "end_time": "2022-07-09T21:47:33.615678",
     "exception": false,
     "start_time": "2022-07-09T21:47:33.578496",
     "status": "completed"
    },
    "tags": []
   },
   "outputs": [
    {
     "name": "stdout",
     "output_type": "stream",
     "text": [
      "x_train shape: (127656,)\n",
      "y_train shape: (127656, 6)\n",
      "x_valid shape: (31915,)\n",
      "y_valid shape: (31915, 6)\n",
      "x_test shape:  (153164,)\n"
     ]
    }
   ],
   "source": [
    "print('x_train shape: {}'.format(x_train_df.shape))\n",
    "print('y_train shape: {}'.format(y_train_df.shape))\n",
    "print('x_valid shape: {}'.format(x_val_df.shape))\n",
    "print('y_valid shape: {}'.format(y_val_df.shape))\n",
    "print('x_test shape:  {}'.format(x_test_df.shape))"
   ]
  },
  {
   "cell_type": "markdown",
   "id": "04e5dc38",
   "metadata": {
    "id": "rK55ZxANjnI9",
    "papermill": {
     "duration": 0.026424,
     "end_time": "2022-07-09T21:47:33.669530",
     "exception": false,
     "start_time": "2022-07-09T21:47:33.643106",
     "status": "completed"
    },
    "tags": []
   },
   "source": [
    "## **4. Model**"
   ]
  },
  {
   "cell_type": "markdown",
   "id": "3f2e46df",
   "metadata": {
    "id": "tzTja-4EjnI-",
    "papermill": {
     "duration": 0.026595,
     "end_time": "2022-07-09T21:47:33.723417",
     "exception": false,
     "start_time": "2022-07-09T21:47:33.696822",
     "status": "completed"
    },
    "tags": []
   },
   "source": [
    "### **4.1 FFNN Model with BoW (TF-IDF) Text Representation**"
   ]
  },
  {
   "cell_type": "markdown",
   "id": "4c7f711d",
   "metadata": {
    "id": "6EDsDwtRjnI-",
    "papermill": {
     "duration": 0.026671,
     "end_time": "2022-07-09T21:47:33.776438",
     "exception": false,
     "start_time": "2022-07-09T21:47:33.749767",
     "status": "completed"
    },
    "tags": []
   },
   "source": [
    "#### **4.1.1 BoW**"
   ]
  },
  {
   "cell_type": "code",
   "execution_count": 39,
   "id": "50724c51",
   "metadata": {
    "execution": {
     "iopub.execute_input": "2022-07-09T21:47:33.830872Z",
     "iopub.status.busy": "2022-07-09T21:47:33.830228Z",
     "iopub.status.idle": "2022-07-09T21:47:45.995180Z",
     "shell.execute_reply": "2022-07-09T21:47:45.994144Z"
    },
    "id": "Bd_UReXMjnI-",
    "outputId": "9f6dc048-62e9-4e2f-be0e-a0def63cd5d7",
    "papermill": {
     "duration": 12.194813,
     "end_time": "2022-07-09T21:47:45.997487",
     "exception": false,
     "start_time": "2022-07-09T21:47:33.802674",
     "status": "completed"
    },
    "tags": []
   },
   "outputs": [
    {
     "data": {
      "text/plain": [
       "TfidfVectorizer(max_features=1000)"
      ]
     },
     "execution_count": 39,
     "metadata": {},
     "output_type": "execute_result"
    }
   ],
   "source": [
    "vocab_size = 1000\n",
    "vectorizer = TfidfVectorizer(max_features=vocab_size)\n",
    "vectorizer.fit(pd.concat([train.comment, test.comment], axis=0))"
   ]
  },
  {
   "cell_type": "code",
   "execution_count": 40,
   "id": "2372dd7f",
   "metadata": {
    "execution": {
     "iopub.execute_input": "2022-07-09T21:47:46.053055Z",
     "iopub.status.busy": "2022-07-09T21:47:46.052758Z",
     "iopub.status.idle": "2022-07-09T21:47:59.734464Z",
     "shell.execute_reply": "2022-07-09T21:47:59.733477Z"
    },
    "id": "O1aAs00MjnI-",
    "papermill": {
     "duration": 13.711646,
     "end_time": "2022-07-09T21:47:59.736761",
     "exception": false,
     "start_time": "2022-07-09T21:47:46.025115",
     "status": "completed"
    },
    "tags": []
   },
   "outputs": [],
   "source": [
    "x_train = vectorizer.transform(x_train_df).toarray()\n",
    "x_val = vectorizer.transform(x_val_df).toarray()\n",
    "x_test = vectorizer.transform(x_test_df).toarray()"
   ]
  },
  {
   "cell_type": "code",
   "execution_count": 41,
   "id": "d0c867b4",
   "metadata": {
    "execution": {
     "iopub.execute_input": "2022-07-09T21:47:59.792106Z",
     "iopub.status.busy": "2022-07-09T21:47:59.791778Z",
     "iopub.status.idle": "2022-07-09T21:47:59.797668Z",
     "shell.execute_reply": "2022-07-09T21:47:59.796618Z"
    },
    "id": "vDjvbI1_jnI-",
    "papermill": {
     "duration": 0.035631,
     "end_time": "2022-07-09T21:47:59.799625",
     "exception": false,
     "start_time": "2022-07-09T21:47:59.763994",
     "status": "completed"
    },
    "tags": []
   },
   "outputs": [],
   "source": [
    "y_train = np.asarray(y_train_df).astype('float32')\n",
    "y_val = np.asarray(y_val_df).astype('float32')"
   ]
  },
  {
   "cell_type": "code",
   "execution_count": 42,
   "id": "2b03bb1c",
   "metadata": {
    "execution": {
     "iopub.execute_input": "2022-07-09T21:47:59.855003Z",
     "iopub.status.busy": "2022-07-09T21:47:59.854122Z",
     "iopub.status.idle": "2022-07-09T21:47:59.861231Z",
     "shell.execute_reply": "2022-07-09T21:47:59.860327Z"
    },
    "id": "RUFcln9EjnI-",
    "outputId": "99a54071-fee4-4367-8549-b6acd3b1e887",
    "papermill": {
     "duration": 0.036546,
     "end_time": "2022-07-09T21:47:59.863178",
     "exception": false,
     "start_time": "2022-07-09T21:47:59.826632",
     "status": "completed"
    },
    "tags": []
   },
   "outputs": [
    {
     "name": "stdout",
     "output_type": "stream",
     "text": [
      "x_train shape: (127656, 1000)\n",
      "y_train shape: (127656, 6)\n",
      "x_valid shape: (31915, 1000)\n",
      "y_valid shape: (31915, 6)\n",
      "x_test shape:  (153164, 1000)\n"
     ]
    }
   ],
   "source": [
    "print('x_train shape: {}'.format(x_train.shape))\n",
    "print('y_train shape: {}'.format(y_train.shape))\n",
    "print('x_valid shape: {}'.format(x_val.shape))\n",
    "print('y_valid shape: {}'.format(y_val.shape))\n",
    "print('x_test shape:  {}'.format(x_test.shape))"
   ]
  },
  {
   "cell_type": "markdown",
   "id": "ed071291",
   "metadata": {
    "id": "tqlI6nG8jnI-",
    "papermill": {
     "duration": 0.026924,
     "end_time": "2022-07-09T21:47:59.917812",
     "exception": false,
     "start_time": "2022-07-09T21:47:59.890888",
     "status": "completed"
    },
    "tags": []
   },
   "source": [
    "#### **4.1.2 FFNN Model**"
   ]
  },
  {
   "cell_type": "code",
   "execution_count": 43,
   "id": "78ead02a",
   "metadata": {
    "execution": {
     "iopub.execute_input": "2022-07-09T21:47:59.974061Z",
     "iopub.status.busy": "2022-07-09T21:47:59.973126Z",
     "iopub.status.idle": "2022-07-09T21:48:03.120433Z",
     "shell.execute_reply": "2022-07-09T21:48:03.118802Z"
    },
    "id": "FvcXfpNKjnI_",
    "outputId": "4a533a75-925f-474f-ec85-20049334f91b",
    "papermill": {
     "duration": 3.179152,
     "end_time": "2022-07-09T21:48:03.123901",
     "exception": false,
     "start_time": "2022-07-09T21:47:59.944749",
     "status": "completed"
    },
    "tags": []
   },
   "outputs": [
    {
     "name": "stderr",
     "output_type": "stream",
     "text": [
      "2022-07-09 21:48:00.067907: I tensorflow/stream_executor/cuda/cuda_gpu_executor.cc:937] successful NUMA node read from SysFS had negative value (-1), but there must be at least one NUMA node, so returning NUMA node zero\n",
      "2022-07-09 21:48:00.180343: I tensorflow/stream_executor/cuda/cuda_gpu_executor.cc:937] successful NUMA node read from SysFS had negative value (-1), but there must be at least one NUMA node, so returning NUMA node zero\n",
      "2022-07-09 21:48:00.181209: I tensorflow/stream_executor/cuda/cuda_gpu_executor.cc:937] successful NUMA node read from SysFS had negative value (-1), but there must be at least one NUMA node, so returning NUMA node zero\n"
     ]
    },
    {
     "name": "stdout",
     "output_type": "stream",
     "text": [
      "Model: \"sequential\"\n",
      "_________________________________________________________________\n",
      "Layer (type)                 Output Shape              Param #   \n",
      "=================================================================\n",
      "dense (Dense)                (None, 16)                16016     \n",
      "_________________________________________________________________\n",
      "dense_1 (Dense)              (None, 32)                544       \n",
      "_________________________________________________________________\n",
      "dense_2 (Dense)              (None, 6)                 198       \n",
      "=================================================================\n",
      "Total params: 16,758\n",
      "Trainable params: 16,758\n",
      "Non-trainable params: 0\n",
      "_________________________________________________________________\n"
     ]
    },
    {
     "name": "stderr",
     "output_type": "stream",
     "text": [
      "2022-07-09 21:48:00.183236: I tensorflow/core/platform/cpu_feature_guard.cc:142] This TensorFlow binary is optimized with oneAPI Deep Neural Network Library (oneDNN) to use the following CPU instructions in performance-critical operations:  AVX2 AVX512F FMA\n",
      "To enable them in other operations, rebuild TensorFlow with the appropriate compiler flags.\n",
      "2022-07-09 21:48:00.183600: I tensorflow/stream_executor/cuda/cuda_gpu_executor.cc:937] successful NUMA node read from SysFS had negative value (-1), but there must be at least one NUMA node, so returning NUMA node zero\n",
      "2022-07-09 21:48:00.184716: I tensorflow/stream_executor/cuda/cuda_gpu_executor.cc:937] successful NUMA node read from SysFS had negative value (-1), but there must be at least one NUMA node, so returning NUMA node zero\n",
      "2022-07-09 21:48:00.185949: I tensorflow/stream_executor/cuda/cuda_gpu_executor.cc:937] successful NUMA node read from SysFS had negative value (-1), but there must be at least one NUMA node, so returning NUMA node zero\n",
      "2022-07-09 21:48:02.742285: I tensorflow/stream_executor/cuda/cuda_gpu_executor.cc:937] successful NUMA node read from SysFS had negative value (-1), but there must be at least one NUMA node, so returning NUMA node zero\n",
      "2022-07-09 21:48:02.743173: I tensorflow/stream_executor/cuda/cuda_gpu_executor.cc:937] successful NUMA node read from SysFS had negative value (-1), but there must be at least one NUMA node, so returning NUMA node zero\n",
      "2022-07-09 21:48:02.743835: I tensorflow/stream_executor/cuda/cuda_gpu_executor.cc:937] successful NUMA node read from SysFS had negative value (-1), but there must be at least one NUMA node, so returning NUMA node zero\n",
      "2022-07-09 21:48:02.744433: I tensorflow/core/common_runtime/gpu/gpu_device.cc:1510] Created device /job:localhost/replica:0/task:0/device:GPU:0 with 15403 MB memory:  -> device: 0, name: Tesla P100-PCIE-16GB, pci bus id: 0000:00:04.0, compute capability: 6.0\n"
     ]
    }
   ],
   "source": [
    "nn_model = models.Sequential()\n",
    "nn_model.add(layers.Dense(16, activation='relu', input_shape=(vocab_size,)))\n",
    "nn_model.add(layers.Dense(32, activation='relu'))\n",
    "nn_model.add(layers.Dense(6, activation='sigmoid'))\n",
    "nn_model.summary()"
   ]
  },
  {
   "cell_type": "code",
   "execution_count": 44,
   "id": "574cccab",
   "metadata": {
    "execution": {
     "iopub.execute_input": "2022-07-09T21:48:03.181747Z",
     "iopub.status.busy": "2022-07-09T21:48:03.181432Z",
     "iopub.status.idle": "2022-07-09T21:48:04.318354Z",
     "shell.execute_reply": "2022-07-09T21:48:04.317114Z"
    },
    "id": "aD52oZsKjnI_",
    "outputId": "3ea0f49b-d0c9-48db-9784-d6e8d3d496f9",
    "papermill": {
     "duration": 1.16797,
     "end_time": "2022-07-09T21:48:04.320705",
     "exception": false,
     "start_time": "2022-07-09T21:48:03.152735",
     "status": "completed"
    },
    "tags": []
   },
   "outputs": [
    {
     "data": {
      "image/png": "[encoded data removed]",
      "text/plain": [
       "<IPython.core.display.Image object>"
      ]
     },
     "execution_count": 44,
     "metadata": {},
     "output_type": "execute_result"
    }
   ],
   "source": [
    "plot_model(nn_model, to_file='nn_model.png', show_shapes=True)"
   ]
  },
  {
   "cell_type": "code",
   "execution_count": 45,
   "id": "6b045721",
   "metadata": {
    "execution": {
     "iopub.execute_input": "2022-07-09T21:48:04.378556Z",
     "iopub.status.busy": "2022-07-09T21:48:04.378204Z",
     "iopub.status.idle": "2022-07-09T21:48:04.393580Z",
     "shell.execute_reply": "2022-07-09T21:48:04.392724Z"
    },
    "id": "_x48B1yfjnI_",
    "papermill": {
     "duration": 0.046861,
     "end_time": "2022-07-09T21:48:04.395558",
     "exception": false,
     "start_time": "2022-07-09T21:48:04.348697",
     "status": "completed"
    },
    "tags": []
   },
   "outputs": [],
   "source": [
    "nn_model.compile(optimizer=optimizers.Adam(),\n",
    "              loss=losses.binary_crossentropy,\n",
    "              metrics=[metrics.binary_accuracy])"
   ]
  },
  {
   "cell_type": "code",
   "execution_count": 46,
   "id": "f526b796",
   "metadata": {
    "execution": {
     "iopub.execute_input": "2022-07-09T21:48:04.453597Z",
     "iopub.status.busy": "2022-07-09T21:48:04.452708Z",
     "iopub.status.idle": "2022-07-09T21:48:17.383475Z",
     "shell.execute_reply": "2022-07-09T21:48:17.382481Z"
    },
    "id": "2OvnB3DYjnI_",
    "outputId": "3c413bbd-2eb4-45f9-bc6a-a82d043a31a0",
    "papermill": {
     "duration": 12.962976,
     "end_time": "2022-07-09T21:48:17.386520",
     "exception": false,
     "start_time": "2022-07-09T21:48:04.423544",
     "status": "completed"
    },
    "tags": []
   },
   "outputs": [
    {
     "name": "stderr",
     "output_type": "stream",
     "text": [
      "2022-07-09 21:48:05.608179: I tensorflow/compiler/mlir/mlir_graph_optimization_pass.cc:185] None of the MLIR Optimization Passes are enabled (registered 2)\n"
     ]
    },
    {
     "name": "stdout",
     "output_type": "stream",
     "text": [
      "Epoch 1/10\n",
      "250/250 [==============================] - 3s 6ms/step - loss: 0.2609 - binary_accuracy: 0.9430 - val_loss: 0.0846 - val_binary_accuracy: 0.9748\n",
      "Epoch 2/10\n",
      "250/250 [==============================] - 1s 4ms/step - loss: 0.0682 - binary_accuracy: 0.9785 - val_loss: 0.0638 - val_binary_accuracy: 0.9794\n",
      "Epoch 3/10\n",
      "250/250 [==============================] - 1s 4ms/step - loss: 0.0611 - binary_accuracy: 0.9800 - val_loss: 0.0615 - val_binary_accuracy: 0.9799\n",
      "Epoch 4/10\n",
      "250/250 [==============================] - 1s 4ms/step - loss: 0.0591 - binary_accuracy: 0.9803 - val_loss: 0.0605 - val_binary_accuracy: 0.9802\n",
      "Epoch 5/10\n",
      "250/250 [==============================] - 1s 4ms/step - loss: 0.0579 - binary_accuracy: 0.9805 - val_loss: 0.0598 - val_binary_accuracy: 0.9804\n",
      "Epoch 6/10\n",
      "250/250 [==============================] - 1s 4ms/step - loss: 0.0570 - binary_accuracy: 0.9807 - val_loss: 0.0592 - val_binary_accuracy: 0.9805\n",
      "Epoch 7/10\n",
      "250/250 [==============================] - 1s 4ms/step - loss: 0.0564 - binary_accuracy: 0.9809 - val_loss: 0.0589 - val_binary_accuracy: 0.9808\n",
      "Epoch 8/10\n",
      "250/250 [==============================] - 1s 4ms/step - loss: 0.0558 - binary_accuracy: 0.9810 - val_loss: 0.0587 - val_binary_accuracy: 0.9809\n",
      "Epoch 9/10\n",
      "250/250 [==============================] - 1s 4ms/step - loss: 0.0554 - binary_accuracy: 0.9811 - val_loss: 0.0586 - val_binary_accuracy: 0.9809\n",
      "Epoch 10/10\n",
      "250/250 [==============================] - 1s 5ms/step - loss: 0.0550 - binary_accuracy: 0.9812 - val_loss: 0.0587 - val_binary_accuracy: 0.9809\n"
     ]
    }
   ],
   "source": [
    "history = nn_model.fit(x_train,\n",
    "                    y_train,\n",
    "                    epochs=10,\n",
    "                    batch_size=512,\n",
    "                    validation_data=(x_val, y_val))"
   ]
  },
  {
   "cell_type": "code",
   "execution_count": 47,
   "id": "5b3731eb",
   "metadata": {
    "execution": {
     "iopub.execute_input": "2022-07-09T21:48:17.520259Z",
     "iopub.status.busy": "2022-07-09T21:48:17.519775Z",
     "iopub.status.idle": "2022-07-09T21:48:17.709999Z",
     "shell.execute_reply": "2022-07-09T21:48:17.709031Z"
    },
    "id": "Kzqgbww9jnI_",
    "outputId": "80849557-96cb-441a-d68f-52e108731fd6",
    "papermill": {
     "duration": 0.259646,
     "end_time": "2022-07-09T21:48:17.712026",
     "exception": false,
     "start_time": "2022-07-09T21:48:17.452380",
     "status": "completed"
    },
    "tags": []
   },
   "outputs": [
    {
     "data": {
      "image/png": "[encoded data removed]",
      "text/plain": [
       "<Figure size 432x288 with 1 Axes>"
      ]
     },
     "metadata": {
      "needs_background": "light"
     },
     "output_type": "display_data"
    }
   ],
   "source": [
    "loss = history.history['loss']\n",
    "val_loss = history.history['val_loss']\n",
    "\n",
    "epochs = range(1, len(loss) + 1)\n",
    "\n",
    "plt.plot(epochs, loss, 'bo', label='Training loss')\n",
    "plt.plot(epochs, val_loss, 'b', label='Validation loss')\n",
    "plt.title('Training and validation loss')\n",
    "plt.xlabel('Epochs')\n",
    "plt.ylabel('Loss')\n",
    "plt.legend()\n",
    "\n",
    "plt.show()"
   ]
  },
  {
   "cell_type": "code",
   "execution_count": 48,
   "id": "c72bf05f",
   "metadata": {
    "execution": {
     "iopub.execute_input": "2022-07-09T21:48:17.790728Z",
     "iopub.status.busy": "2022-07-09T21:48:17.790428Z",
     "iopub.status.idle": "2022-07-09T21:48:17.983430Z",
     "shell.execute_reply": "2022-07-09T21:48:17.982476Z"
    },
    "id": "yQtWGoQwjnI_",
    "outputId": "1bbf6da9-6eac-4af2-cabf-39334570272f",
    "papermill": {
     "duration": 0.234346,
     "end_time": "2022-07-09T21:48:17.985411",
     "exception": false,
     "start_time": "2022-07-09T21:48:17.751065",
     "status": "completed"
    },
    "tags": []
   },
   "outputs": [
    {
     "data": {
      "image/png": "[encoded data removed]",
      "text/plain": [
       "<Figure size 432x288 with 1 Axes>"
      ]
     },
     "metadata": {
      "needs_background": "light"
     },
     "output_type": "display_data"
    }
   ],
   "source": [
    "plt.clf()\n",
    "\n",
    "acc = history.history['binary_accuracy']\n",
    "val_acc = history.history['val_binary_accuracy']\n",
    "\n",
    "plt.plot(epochs, acc, 'bo', label='Training acc')\n",
    "plt.plot(epochs, val_acc, 'b', label='Validation acc')\n",
    "plt.title('Training and validation accuracy')\n",
    "plt.xlabel('Epochs')\n",
    "plt.ylabel('Accuracy')\n",
    "plt.legend()\n",
    "\n",
    "plt.show()"
   ]
  },
  {
   "cell_type": "code",
   "execution_count": 49,
   "id": "ef82bba2",
   "metadata": {
    "execution": {
     "iopub.execute_input": "2022-07-09T21:48:18.066328Z",
     "iopub.status.busy": "2022-07-09T21:48:18.065761Z",
     "iopub.status.idle": "2022-07-09T21:48:23.418641Z",
     "shell.execute_reply": "2022-07-09T21:48:23.417486Z"
    },
    "id": "eWsNdzF_jnI_",
    "papermill": {
     "duration": 5.395579,
     "end_time": "2022-07-09T21:48:23.421344",
     "exception": false,
     "start_time": "2022-07-09T21:48:18.025765",
     "status": "completed"
    },
    "tags": []
   },
   "outputs": [
    {
     "name": "stderr",
     "output_type": "stream",
     "text": [
      "2022-07-09 21:48:18.396050: W tensorflow/core/framework/cpu_allocator_impl.cc:80] Allocation of 612656000 exceeds 10% of free system memory.\n",
      "2022-07-09 21:48:19.072054: W tensorflow/core/framework/cpu_allocator_impl.cc:80] Allocation of 612656000 exceeds 10% of free system memory.\n"
     ]
    }
   ],
   "source": [
    "preds = pd.DataFrame(nn_model.predict(x_test), index=test.index, columns=target_cols)"
   ]
  },
  {
   "cell_type": "code",
   "execution_count": 50,
   "id": "e01c4979",
   "metadata": {
    "execution": {
     "iopub.execute_input": "2022-07-09T21:48:23.500107Z",
     "iopub.status.busy": "2022-07-09T21:48:23.498441Z",
     "iopub.status.idle": "2022-07-09T21:48:23.516893Z",
     "shell.execute_reply": "2022-07-09T21:48:23.516083Z"
    },
    "id": "QThVTl1_jnJA",
    "outputId": "ad53ed31-c543-4850-d408-5e606c6b4311",
    "papermill": {
     "duration": 0.059245,
     "end_time": "2022-07-09T21:48:23.518800",
     "exception": false,
     "start_time": "2022-07-09T21:48:23.459555",
     "status": "completed"
    },
    "tags": []
   },
   "outputs": [
    {
     "data": {
      "text/html": [
       "<div>\n",
       "<style scoped>\n",
       "    .dataframe tbody tr th:only-of-type {\n",
       "        vertical-align: middle;\n",
       "    }\n",
       "\n",
       "    .dataframe tbody tr th {\n",
       "        vertical-align: top;\n",
       "    }\n",
       "\n",
       "    .dataframe thead th {\n",
       "        text-align: right;\n",
       "    }\n",
       "</style>\n",
       "<table border=\"1\" class=\"dataframe\">\n",
       "  <thead>\n",
       "    <tr style=\"text-align: right;\">\n",
       "      <th></th>\n",
       "      <th>toxic</th>\n",
       "      <th>severe_toxic</th>\n",
       "      <th>obscene</th>\n",
       "      <th>threat</th>\n",
       "      <th>insult</th>\n",
       "      <th>identity_hate</th>\n",
       "    </tr>\n",
       "    <tr>\n",
       "      <th>id</th>\n",
       "      <th></th>\n",
       "      <th></th>\n",
       "      <th></th>\n",
       "      <th></th>\n",
       "      <th></th>\n",
       "      <th></th>\n",
       "    </tr>\n",
       "  </thead>\n",
       "  <tbody>\n",
       "    <tr>\n",
       "      <th>00001cee341fdb12</th>\n",
       "      <td>0.995325</td>\n",
       "      <td>0.303440</td>\n",
       "      <td>0.979082</td>\n",
       "      <td>0.072247</td>\n",
       "      <td>0.887658</td>\n",
       "      <td>0.326814</td>\n",
       "    </tr>\n",
       "    <tr>\n",
       "      <th>0000247867823ef7</th>\n",
       "      <td>0.006864</td>\n",
       "      <td>0.000140</td>\n",
       "      <td>0.001527</td>\n",
       "      <td>0.000138</td>\n",
       "      <td>0.002539</td>\n",
       "      <td>0.000112</td>\n",
       "    </tr>\n",
       "    <tr>\n",
       "      <th>00013b17ad220c46</th>\n",
       "      <td>0.011609</td>\n",
       "      <td>0.000235</td>\n",
       "      <td>0.003273</td>\n",
       "      <td>0.000207</td>\n",
       "      <td>0.003715</td>\n",
       "      <td>0.000147</td>\n",
       "    </tr>\n",
       "    <tr>\n",
       "      <th>00017563c3f7919a</th>\n",
       "      <td>0.002509</td>\n",
       "      <td>0.000094</td>\n",
       "      <td>0.000783</td>\n",
       "      <td>0.000152</td>\n",
       "      <td>0.000805</td>\n",
       "      <td>0.000077</td>\n",
       "    </tr>\n",
       "    <tr>\n",
       "      <th>00017695ad8997eb</th>\n",
       "      <td>0.014417</td>\n",
       "      <td>0.000371</td>\n",
       "      <td>0.002819</td>\n",
       "      <td>0.000511</td>\n",
       "      <td>0.004540</td>\n",
       "      <td>0.000459</td>\n",
       "    </tr>\n",
       "    <tr>\n",
       "      <th>...</th>\n",
       "      <td>...</td>\n",
       "      <td>...</td>\n",
       "      <td>...</td>\n",
       "      <td>...</td>\n",
       "      <td>...</td>\n",
       "      <td>...</td>\n",
       "    </tr>\n",
       "    <tr>\n",
       "      <th>fffcd0960ee309b5</th>\n",
       "      <td>0.540209</td>\n",
       "      <td>0.001439</td>\n",
       "      <td>0.094584</td>\n",
       "      <td>0.000942</td>\n",
       "      <td>0.087054</td>\n",
       "      <td>0.003997</td>\n",
       "    </tr>\n",
       "    <tr>\n",
       "      <th>fffd7a9a6eb32c16</th>\n",
       "      <td>0.075934</td>\n",
       "      <td>0.001251</td>\n",
       "      <td>0.016711</td>\n",
       "      <td>0.001460</td>\n",
       "      <td>0.019408</td>\n",
       "      <td>0.002338</td>\n",
       "    </tr>\n",
       "    <tr>\n",
       "      <th>fffda9e8d6fafa9e</th>\n",
       "      <td>0.001344</td>\n",
       "      <td>0.000052</td>\n",
       "      <td>0.000468</td>\n",
       "      <td>0.000085</td>\n",
       "      <td>0.000460</td>\n",
       "      <td>0.000037</td>\n",
       "    </tr>\n",
       "    <tr>\n",
       "      <th>fffe8f1340a79fc2</th>\n",
       "      <td>0.044104</td>\n",
       "      <td>0.002052</td>\n",
       "      <td>0.007921</td>\n",
       "      <td>0.005318</td>\n",
       "      <td>0.013297</td>\n",
       "      <td>0.009200</td>\n",
       "    </tr>\n",
       "    <tr>\n",
       "      <th>ffffce3fb183ee80</th>\n",
       "      <td>0.827416</td>\n",
       "      <td>0.002208</td>\n",
       "      <td>0.464969</td>\n",
       "      <td>0.000496</td>\n",
       "      <td>0.145858</td>\n",
       "      <td>0.001393</td>\n",
       "    </tr>\n",
       "  </tbody>\n",
       "</table>\n",
       "<p>153164 rows × 6 columns</p>\n",
       "</div>"
      ],
      "text/plain": [
       "                     toxic  severe_toxic   obscene    threat    insult  \\\n",
       "id                                                                       \n",
       "00001cee341fdb12  0.995325      0.303440  0.979082  0.072247  0.887658   \n",
       "0000247867823ef7  0.006864      0.000140  0.001527  0.000138  0.002539   \n",
       "00013b17ad220c46  0.011609      0.000235  0.003273  0.000207  0.003715   \n",
       "00017563c3f7919a  0.002509      0.000094  0.000783  0.000152  0.000805   \n",
       "00017695ad8997eb  0.014417      0.000371  0.002819  0.000511  0.004540   \n",
       "...                    ...           ...       ...       ...       ...   \n",
       "fffcd0960ee309b5  0.540209      0.001439  0.094584  0.000942  0.087054   \n",
       "fffd7a9a6eb32c16  0.075934      0.001251  0.016711  0.001460  0.019408   \n",
       "fffda9e8d6fafa9e  0.001344      0.000052  0.000468  0.000085  0.000460   \n",
       "fffe8f1340a79fc2  0.044104      0.002052  0.007921  0.005318  0.013297   \n",
       "ffffce3fb183ee80  0.827416      0.002208  0.464969  0.000496  0.145858   \n",
       "\n",
       "                  identity_hate  \n",
       "id                               \n",
       "00001cee341fdb12       0.326814  \n",
       "0000247867823ef7       0.000112  \n",
       "00013b17ad220c46       0.000147  \n",
       "00017563c3f7919a       0.000077  \n",
       "00017695ad8997eb       0.000459  \n",
       "...                         ...  \n",
       "fffcd0960ee309b5       0.003997  \n",
       "fffd7a9a6eb32c16       0.002338  \n",
       "fffda9e8d6fafa9e       0.000037  \n",
       "fffe8f1340a79fc2       0.009200  \n",
       "ffffce3fb183ee80       0.001393  \n",
       "\n",
       "[153164 rows x 6 columns]"
      ]
     },
     "execution_count": 50,
     "metadata": {},
     "output_type": "execute_result"
    }
   ],
   "source": [
    "preds"
   ]
  },
  {
   "cell_type": "code",
   "execution_count": 51,
   "id": "6a6ff508",
   "metadata": {
    "execution": {
     "iopub.execute_input": "2022-07-09T21:48:23.599142Z",
     "iopub.status.busy": "2022-07-09T21:48:23.597514Z",
     "iopub.status.idle": "2022-07-09T21:48:24.823434Z",
     "shell.execute_reply": "2022-07-09T21:48:24.822288Z"
    },
    "id": "UZjJ06nujnJA",
    "papermill": {
     "duration": 1.268891,
     "end_time": "2022-07-09T21:48:24.826378",
     "exception": false,
     "start_time": "2022-07-09T21:48:23.557487",
     "status": "completed"
    },
    "tags": []
   },
   "outputs": [],
   "source": [
    "preds.to_csv('FFNN2_submission.csv')"
   ]
  },
  {
   "cell_type": "markdown",
   "id": "a2fbd94a",
   "metadata": {
    "id": "ZUD_o2tgV4V_",
    "papermill": {
     "duration": 0.038462,
     "end_time": "2022-07-09T21:48:24.903819",
     "exception": false,
     "start_time": "2022-07-09T21:48:24.865357",
     "status": "completed"
    },
    "tags": []
   },
   "source": [
    "### **4.2 Sequential Models with Word Embeddings Text Representation**"
   ]
  },
  {
   "cell_type": "code",
   "execution_count": 52,
   "id": "a57233dd",
   "metadata": {
    "execution": {
     "iopub.execute_input": "2022-07-09T21:48:24.982785Z",
     "iopub.status.busy": "2022-07-09T21:48:24.982449Z",
     "iopub.status.idle": "2022-07-09T21:48:35.440112Z",
     "shell.execute_reply": "2022-07-09T21:48:35.439038Z"
    },
    "id": "svwwO4x3V4WA",
    "outputId": "f1e395a5-a233-4148-9626-4b55a194f1e7",
    "papermill": {
     "duration": 10.500051,
     "end_time": "2022-07-09T21:48:35.442336",
     "exception": false,
     "start_time": "2022-07-09T21:48:24.942285",
     "status": "completed"
    },
    "tags": []
   },
   "outputs": [
    {
     "data": {
      "text/plain": [
       "262565"
      ]
     },
     "execution_count": 52,
     "metadata": {},
     "output_type": "execute_result"
    }
   ],
   "source": [
    "tokenizer = Tokenizer()\n",
    "tokenizer.fit_on_texts(pd.concat([train.comment, test.comment], axis=0))\n",
    "vocab_size = len(tokenizer.word_index) + 1\n",
    "vocab_size"
   ]
  },
  {
   "cell_type": "code",
   "execution_count": 53,
   "id": "8ec82135",
   "metadata": {
    "execution": {
     "iopub.execute_input": "2022-07-09T21:48:35.524182Z",
     "iopub.status.busy": "2022-07-09T21:48:35.523231Z",
     "iopub.status.idle": "2022-07-09T21:48:43.806840Z",
     "shell.execute_reply": "2022-07-09T21:48:43.805808Z"
    },
    "id": "TgBA7oXWV4WB",
    "papermill": {
     "duration": 8.327064,
     "end_time": "2022-07-09T21:48:43.809528",
     "exception": false,
     "start_time": "2022-07-09T21:48:35.482464",
     "status": "completed"
    },
    "tags": []
   },
   "outputs": [],
   "source": [
    "x_train = tokenizer.texts_to_sequences(x_train_df)\n",
    "x_val = tokenizer.texts_to_sequences(x_val_df)\n",
    "x_test = tokenizer.texts_to_sequences(x_test_df)"
   ]
  },
  {
   "cell_type": "code",
   "execution_count": 54,
   "id": "eef9acb8",
   "metadata": {
    "execution": {
     "iopub.execute_input": "2022-07-09T21:48:43.888668Z",
     "iopub.status.busy": "2022-07-09T21:48:43.888334Z",
     "iopub.status.idle": "2022-07-09T21:48:43.900031Z",
     "shell.execute_reply": "2022-07-09T21:48:43.899143Z"
    },
    "id": "m4xsXPBDV4WB",
    "outputId": "a2188c89-468d-490c-a628-1277aabeec62",
    "papermill": {
     "duration": 0.053587,
     "end_time": "2022-07-09T21:48:43.901991",
     "exception": false,
     "start_time": "2022-07-09T21:48:43.848404",
     "status": "completed"
    },
    "tags": []
   },
   "outputs": [
    {
     "data": {
      "text/plain": [
       "1250"
      ]
     },
     "execution_count": 54,
     "metadata": {},
     "output_type": "execute_result"
    }
   ],
   "source": [
    "max_length = len(max(x_train, key=len))\n",
    "max_length"
   ]
  },
  {
   "cell_type": "code",
   "execution_count": 55,
   "id": "e6cb9cfa",
   "metadata": {
    "execution": {
     "iopub.execute_input": "2022-07-09T21:48:43.981328Z",
     "iopub.status.busy": "2022-07-09T21:48:43.980976Z",
     "iopub.status.idle": "2022-07-09T21:48:45.818012Z",
     "shell.execute_reply": "2022-07-09T21:48:45.817037Z"
    },
    "id": "tcCByxsyV4WC",
    "papermill": {
     "duration": 1.879171,
     "end_time": "2022-07-09T21:48:45.820574",
     "exception": false,
     "start_time": "2022-07-09T21:48:43.941403",
     "status": "completed"
    },
    "tags": []
   },
   "outputs": [],
   "source": [
    "max_length = 200\n",
    "x_train = pad_sequences(x_train, maxlen=max_length, padding='post', truncating='post')\n",
    "x_val = pad_sequences(x_val, maxlen=max_length, padding='post', truncating='post')\n",
    "x_test = pad_sequences(x_test, maxlen=max_length, padding='post', truncating='post')"
   ]
  },
  {
   "cell_type": "markdown",
   "id": "61f5ee12",
   "metadata": {
    "id": "NxJquI2KV4WD",
    "papermill": {
     "duration": 0.090488,
     "end_time": "2022-07-09T21:48:45.953252",
     "exception": false,
     "start_time": "2022-07-09T21:48:45.862764",
     "status": "completed"
    },
    "tags": []
   },
   "source": [
    "#### **4.2.1 Simple RNN Model**"
   ]
  },
  {
   "cell_type": "code",
   "execution_count": 56,
   "id": "7a3f4e89",
   "metadata": {
    "execution": {
     "iopub.execute_input": "2022-07-09T21:48:46.034119Z",
     "iopub.status.busy": "2022-07-09T21:48:46.033221Z",
     "iopub.status.idle": "2022-07-09T21:48:46.128630Z",
     "shell.execute_reply": "2022-07-09T21:48:46.127585Z"
    },
    "id": "PRzIUTlaV4WE",
    "outputId": "d2534e1c-fd8d-4bf9-e263-e3a4e5270bef",
    "papermill": {
     "duration": 0.138663,
     "end_time": "2022-07-09T21:48:46.131361",
     "exception": false,
     "start_time": "2022-07-09T21:48:45.992698",
     "status": "completed"
    },
    "tags": []
   },
   "outputs": [
    {
     "name": "stdout",
     "output_type": "stream",
     "text": [
      "Model: \"sequential_1\"\n",
      "_________________________________________________________________\n",
      "Layer (type)                 Output Shape              Param #   \n",
      "=================================================================\n",
      "embedding (Embedding)        (None, 200, 8)            2100520   \n",
      "_________________________________________________________________\n",
      "simple_rnn (SimpleRNN)       (None, 8)                 136       \n",
      "_________________________________________________________________\n",
      "dense_3 (Dense)              (None, 16)                144       \n",
      "_________________________________________________________________\n",
      "dense_4 (Dense)              (None, 6)                 102       \n",
      "=================================================================\n",
      "Total params: 2,100,902\n",
      "Trainable params: 2,100,902\n",
      "Non-trainable params: 0\n",
      "_________________________________________________________________\n"
     ]
    }
   ],
   "source": [
    "rnn_model = models.Sequential()\n",
    "rnn_model.add(layers.Embedding(vocab_size, 8, input_length=max_length))\n",
    "rnn_model.add(layers.SimpleRNN(8))\n",
    "rnn_model.add(layers.Dense(16, activation='relu'))\n",
    "rnn_model.add(layers.Dense(6, activation='sigmoid'))\n",
    "rnn_model.summary()"
   ]
  },
  {
   "cell_type": "code",
   "execution_count": 57,
   "id": "28dbb93a",
   "metadata": {
    "execution": {
     "iopub.execute_input": "2022-07-09T21:48:46.212770Z",
     "iopub.status.busy": "2022-07-09T21:48:46.212437Z",
     "iopub.status.idle": "2022-07-09T21:48:46.363024Z",
     "shell.execute_reply": "2022-07-09T21:48:46.361887Z"
    },
    "id": "o1OA4D4LV4WF",
    "outputId": "5bb270f3-0abb-4901-c3f7-dddd3dd027a6",
    "papermill": {
     "duration": 0.193877,
     "end_time": "2022-07-09T21:48:46.365211",
     "exception": false,
     "start_time": "2022-07-09T21:48:46.171334",
     "status": "completed"
    },
    "tags": []
   },
   "outputs": [
    {
     "data": {
      "image/png": "[encoded data removed]",
      "text/plain": [
       "<IPython.core.display.Image object>"
      ]
     },
     "execution_count": 57,
     "metadata": {},
     "output_type": "execute_result"
    }
   ],
   "source": [
    "plot_model(rnn_model, to_file='rnn_model.png', show_shapes=True)"
   ]
  },
  {
   "cell_type": "code",
   "execution_count": 58,
   "id": "5c6c7859",
   "metadata": {
    "execution": {
     "iopub.execute_input": "2022-07-09T21:48:46.448544Z",
     "iopub.status.busy": "2022-07-09T21:48:46.447584Z",
     "iopub.status.idle": "2022-07-09T21:48:46.459113Z",
     "shell.execute_reply": "2022-07-09T21:48:46.458243Z"
    },
    "id": "sYWa5mvOV4WG",
    "papermill": {
     "duration": 0.054768,
     "end_time": "2022-07-09T21:48:46.461070",
     "exception": false,
     "start_time": "2022-07-09T21:48:46.406302",
     "status": "completed"
    },
    "tags": []
   },
   "outputs": [],
   "source": [
    "rnn_model.compile(optimizer=optimizers.Adam(),\n",
    "              loss=losses.binary_crossentropy,\n",
    "              metrics=[metrics.binary_accuracy])"
   ]
  },
  {
   "cell_type": "code",
   "execution_count": 59,
   "id": "8bbb6185",
   "metadata": {
    "execution": {
     "iopub.execute_input": "2022-07-09T21:48:46.541446Z",
     "iopub.status.busy": "2022-07-09T21:48:46.540574Z",
     "iopub.status.idle": "2022-07-09T21:57:09.368012Z",
     "shell.execute_reply": "2022-07-09T21:57:09.366997Z"
    },
    "id": "QjrYqyOMV4WH",
    "outputId": "d6336ac5-6ff1-4f21-c7a0-7e9dbff6e802",
    "papermill": {
     "duration": 502.870091,
     "end_time": "2022-07-09T21:57:09.370537",
     "exception": false,
     "start_time": "2022-07-09T21:48:46.500446",
     "status": "completed"
    },
    "tags": []
   },
   "outputs": [
    {
     "name": "stdout",
     "output_type": "stream",
     "text": [
      "Epoch 1/10\n",
      "250/250 [==============================] - 49s 193ms/step - loss: 0.2872 - binary_accuracy: 0.8921 - val_loss: 0.1497 - val_binary_accuracy: 0.9631\n",
      "Epoch 2/10\n",
      "250/250 [==============================] - 47s 187ms/step - loss: 0.1429 - binary_accuracy: 0.9634 - val_loss: 0.1421 - val_binary_accuracy: 0.9630\n",
      "Epoch 3/10\n",
      "250/250 [==============================] - 47s 190ms/step - loss: 0.1408 - binary_accuracy: 0.9634 - val_loss: 0.1415 - val_binary_accuracy: 0.9632\n",
      "Epoch 4/10\n",
      "250/250 [==============================] - 47s 189ms/step - loss: 0.1399 - binary_accuracy: 0.9637 - val_loss: 0.1403 - val_binary_accuracy: 0.9635\n",
      "Epoch 5/10\n",
      "250/250 [==============================] - 48s 191ms/step - loss: 0.1379 - binary_accuracy: 0.9643 - val_loss: 0.1380 - val_binary_accuracy: 0.9642\n",
      "Epoch 6/10\n",
      "250/250 [==============================] - 47s 187ms/step - loss: 0.1350 - binary_accuracy: 0.9651 - val_loss: 0.1348 - val_binary_accuracy: 0.9651\n",
      "Epoch 7/10\n",
      "250/250 [==============================] - 47s 189ms/step - loss: 0.1327 - binary_accuracy: 0.9657 - val_loss: 0.1327 - val_binary_accuracy: 0.9656\n",
      "Epoch 8/10\n",
      "250/250 [==============================] - 48s 194ms/step - loss: 0.1289 - binary_accuracy: 0.9668 - val_loss: 0.1293 - val_binary_accuracy: 0.9667\n",
      "Epoch 9/10\n",
      "250/250 [==============================] - 47s 189ms/step - loss: 0.1245 - binary_accuracy: 0.9678 - val_loss: 0.1261 - val_binary_accuracy: 0.9671\n",
      "Epoch 10/10\n",
      "250/250 [==============================] - 47s 188ms/step - loss: 0.1235 - binary_accuracy: 0.9674 - val_loss: 0.1252 - val_binary_accuracy: 0.9666\n"
     ]
    }
   ],
   "source": [
    "history = rnn_model.fit(x_train,\n",
    "                    y_train,\n",
    "                    epochs=10,\n",
    "                    batch_size=512,\n",
    "                    validation_data=(x_val, y_val))"
   ]
  },
  {
   "cell_type": "code",
   "execution_count": 60,
   "id": "9a7cb715",
   "metadata": {
    "execution": {
     "iopub.execute_input": "2022-07-09T21:57:09.802444Z",
     "iopub.status.busy": "2022-07-09T21:57:09.802068Z",
     "iopub.status.idle": "2022-07-09T21:57:09.998237Z",
     "shell.execute_reply": "2022-07-09T21:57:09.997322Z"
    },
    "id": "Q4nrPfAPV4WI",
    "papermill": {
     "duration": 0.389154,
     "end_time": "2022-07-09T21:57:10.000576",
     "exception": false,
     "start_time": "2022-07-09T21:57:09.611422",
     "status": "completed"
    },
    "tags": []
   },
   "outputs": [
    {
     "data": {
      "image/png": "[encoded data removed]",
      "text/plain": [
       "<Figure size 432x288 with 1 Axes>"
      ]
     },
     "metadata": {
      "needs_background": "light"
     },
     "output_type": "display_data"
    }
   ],
   "source": [
    "loss = history.history['loss']\n",
    "val_loss = history.history['val_loss']\n",
    "\n",
    "epochs = range(1, len(loss) + 1)\n",
    "\n",
    "plt.plot(epochs, loss, 'bo', label='Training loss')\n",
    "plt.plot(epochs, val_loss, 'b', label='Validation loss')\n",
    "plt.title('Training and validation loss')\n",
    "plt.xlabel('Epochs')\n",
    "plt.ylabel('Loss')\n",
    "plt.legend()\n",
    "\n",
    "plt.show()"
   ]
  },
  {
   "cell_type": "code",
   "execution_count": 61,
   "id": "7e11f042",
   "metadata": {
    "execution": {
     "iopub.execute_input": "2022-07-09T21:57:10.380733Z",
     "iopub.status.busy": "2022-07-09T21:57:10.380391Z",
     "iopub.status.idle": "2022-07-09T21:57:10.580151Z",
     "shell.execute_reply": "2022-07-09T21:57:10.579056Z"
    },
    "id": "AYlOQDc7V4WI",
    "papermill": {
     "duration": 0.39191,
     "end_time": "2022-07-09T21:57:10.582165",
     "exception": false,
     "start_time": "2022-07-09T21:57:10.190255",
     "status": "completed"
    },
    "tags": []
   },
   "outputs": [
    {
     "data": {
      "image/png": "[encoded data removed]",
      "text/plain": [
       "<Figure size 432x288 with 1 Axes>"
      ]
     },
     "metadata": {
      "needs_background": "light"
     },
     "output_type": "display_data"
    }
   ],
   "source": [
    "plt.clf()\n",
    "\n",
    "acc = history.history['binary_accuracy']\n",
    "val_acc = history.history['val_binary_accuracy']\n",
    "\n",
    "plt.plot(epochs, acc, 'bo', label='Training acc')\n",
    "plt.plot(epochs, val_acc, 'b', label='Validation acc')\n",
    "plt.title('Training and validation accuracy')\n",
    "plt.xlabel('Epochs')\n",
    "plt.ylabel('Accuracy')\n",
    "plt.legend()\n",
    "\n",
    "plt.show()"
   ]
  },
  {
   "cell_type": "markdown",
   "id": "60ba9248",
   "metadata": {
    "id": "dyx0Zgbl4lLg",
    "papermill": {
     "duration": 0.188714,
     "end_time": "2022-07-09T21:57:10.959343",
     "exception": false,
     "start_time": "2022-07-09T21:57:10.770629",
     "status": "completed"
    },
    "tags": []
   },
   "source": [
    "#### **4.2.2 LSTM Model**"
   ]
  },
  {
   "cell_type": "code",
   "execution_count": 62,
   "id": "456e8fd2",
   "metadata": {
    "execution": {
     "iopub.execute_input": "2022-07-09T21:57:11.340544Z",
     "iopub.status.busy": "2022-07-09T21:57:11.340181Z",
     "iopub.status.idle": "2022-07-09T21:57:12.689713Z",
     "shell.execute_reply": "2022-07-09T21:57:12.688624Z"
    },
    "id": "KXb7Xx3Bjsni",
    "outputId": "5ea4a9e6-99de-45fd-e5a7-968a740c14c6",
    "papermill": {
     "duration": 1.54339,
     "end_time": "2022-07-09T21:57:12.692827",
     "exception": false,
     "start_time": "2022-07-09T21:57:11.149437",
     "status": "completed"
    },
    "tags": []
   },
   "outputs": [
    {
     "name": "stdout",
     "output_type": "stream",
     "text": [
      "Model: \"sequential_2\"\n",
      "_________________________________________________________________\n",
      "Layer (type)                 Output Shape              Param #   \n",
      "=================================================================\n",
      "embedding_1 (Embedding)      (None, 200, 128)          33608320  \n",
      "_________________________________________________________________\n",
      "lstm (LSTM)                  (None, 200, 100)          91600     \n",
      "_________________________________________________________________\n",
      "lstm_1 (LSTM)                (None, 50)                30200     \n",
      "_________________________________________________________________\n",
      "dense_5 (Dense)              (None, 6)                 306       \n",
      "=================================================================\n",
      "Total params: 33,730,426\n",
      "Trainable params: 33,730,426\n",
      "Non-trainable params: 0\n",
      "_________________________________________________________________\n"
     ]
    }
   ],
   "source": [
    "from tensorflow.keras.layers import Embedding\n",
    "from tensorflow.keras.layers import LSTM\n",
    "\n",
    "lstm_model = models.Sequential()\n",
    "lstm_model.add(Embedding(vocab_size, 128, input_length=max_length, mask_zero=True))\n",
    "lstm_model.add(LSTM(100, return_sequences=True))\n",
    "lstm_model.add(LSTM(50))\n",
    "\n",
    "# lstm_model.add(layers.Dense(16, activation='relu'))\n",
    "# lstm_model.add(layers.Dense(32, activation='relu'))\n",
    "\n",
    "\n",
    "lstm_model.add(layers.Dense(6, activation='sigmoid'))\n",
    "lstm_model.summary()"
   ]
  },
  {
   "cell_type": "code",
   "execution_count": 63,
   "id": "06e04995",
   "metadata": {
    "execution": {
     "iopub.execute_input": "2022-07-09T21:57:13.072873Z",
     "iopub.status.busy": "2022-07-09T21:57:13.072538Z",
     "iopub.status.idle": "2022-07-09T21:57:13.234225Z",
     "shell.execute_reply": "2022-07-09T21:57:13.233098Z"
    },
    "id": "T8e1qN6ipOxa",
    "outputId": "75cb810d-886d-4821-ca17-c719563b7b37",
    "papermill": {
     "duration": 0.355685,
     "end_time": "2022-07-09T21:57:13.236310",
     "exception": false,
     "start_time": "2022-07-09T21:57:12.880625",
     "status": "completed"
    },
    "tags": []
   },
   "outputs": [
    {
     "data": {
      "image/png": "[encoded data removed]",
      "text/plain": [
       "<IPython.core.display.Image object>"
      ]
     },
     "execution_count": 63,
     "metadata": {},
     "output_type": "execute_result"
    }
   ],
   "source": [
    "plot_model(lstm_model, to_file='LSTM_model.png', show_shapes=True)"
   ]
  },
  {
   "cell_type": "code",
   "execution_count": 64,
   "id": "1c4e88cc",
   "metadata": {
    "execution": {
     "iopub.execute_input": "2022-07-09T21:57:13.664262Z",
     "iopub.status.busy": "2022-07-09T21:57:13.663861Z",
     "iopub.status.idle": "2022-07-09T21:57:13.676133Z",
     "shell.execute_reply": "2022-07-09T21:57:13.675227Z"
    },
    "id": "DFZUryTupTes",
    "papermill": {
     "duration": 0.249671,
     "end_time": "2022-07-09T21:57:13.678174",
     "exception": false,
     "start_time": "2022-07-09T21:57:13.428503",
     "status": "completed"
    },
    "tags": []
   },
   "outputs": [],
   "source": [
    "lstm_model.compile(optimizer=optimizers.Adam(),\n",
    "              loss=losses.binary_crossentropy,\n",
    "              metrics=[metrics.binary_accuracy])"
   ]
  },
  {
   "cell_type": "code",
   "execution_count": 65,
   "id": "58f32ffa",
   "metadata": {
    "execution": {
     "iopub.execute_input": "2022-07-09T21:57:14.059754Z",
     "iopub.status.busy": "2022-07-09T21:57:14.059374Z",
     "iopub.status.idle": "2022-07-09T22:11:42.649285Z",
     "shell.execute_reply": "2022-07-09T22:11:42.648356Z"
    },
    "id": "uyht4tGWpVYq",
    "outputId": "49cddecb-ce0b-4b86-b326-7d7227ac40fc",
    "papermill": {
     "duration": 868.783164,
     "end_time": "2022-07-09T22:11:42.651308",
     "exception": false,
     "start_time": "2022-07-09T21:57:13.868144",
     "status": "completed"
    },
    "tags": []
   },
   "outputs": [
    {
     "name": "stdout",
     "output_type": "stream",
     "text": [
      "Epoch 1/10\n"
     ]
    },
    {
     "name": "stderr",
     "output_type": "stream",
     "text": [
      "2022-07-09 21:57:20.741312: I tensorflow/stream_executor/cuda/cuda_dnn.cc:369] Loaded cuDNN version 8005\n"
     ]
    },
    {
     "name": "stdout",
     "output_type": "stream",
     "text": [
      "250/250 [==============================] - 93s 344ms/step - loss: 0.1575 - binary_accuracy: 0.9635 - val_loss: 0.1098 - val_binary_accuracy: 0.9702\n",
      "Epoch 2/10\n",
      "250/250 [==============================] - 86s 345ms/step - loss: 0.0793 - binary_accuracy: 0.9758 - val_loss: 0.0657 - val_binary_accuracy: 0.9765\n",
      "Epoch 3/10\n",
      "250/250 [==============================] - 90s 357ms/step - loss: 0.0533 - binary_accuracy: 0.9804 - val_loss: 0.0568 - val_binary_accuracy: 0.9794\n",
      "Epoch 4/10\n",
      "250/250 [==============================] - 83s 331ms/step - loss: 0.0455 - binary_accuracy: 0.9831 - val_loss: 0.0551 - val_binary_accuracy: 0.9806\n",
      "Epoch 5/10\n",
      "250/250 [==============================] - 88s 355ms/step - loss: 0.0400 - binary_accuracy: 0.9849 - val_loss: 0.0550 - val_binary_accuracy: 0.9803\n",
      "Epoch 6/10\n",
      "250/250 [==============================] - 87s 350ms/step - loss: 0.0367 - binary_accuracy: 0.9862 - val_loss: 0.0568 - val_binary_accuracy: 0.9804\n",
      "Epoch 7/10\n",
      "250/250 [==============================] - 84s 335ms/step - loss: 0.0343 - binary_accuracy: 0.9870 - val_loss: 0.0609 - val_binary_accuracy: 0.9804\n",
      "Epoch 8/10\n",
      "250/250 [==============================] - 87s 347ms/step - loss: 0.0328 - binary_accuracy: 0.9876 - val_loss: 0.0607 - val_binary_accuracy: 0.9798\n",
      "Epoch 9/10\n",
      "250/250 [==============================] - 87s 347ms/step - loss: 0.0310 - binary_accuracy: 0.9884 - val_loss: 0.0613 - val_binary_accuracy: 0.9784\n",
      "Epoch 10/10\n",
      "250/250 [==============================] - 83s 335ms/step - loss: 0.0298 - binary_accuracy: 0.9889 - val_loss: 0.0630 - val_binary_accuracy: 0.9790\n"
     ]
    }
   ],
   "source": [
    "history = lstm_model.fit(x_train,\n",
    "                    y_train,\n",
    "                    epochs=10,\n",
    "                    batch_size=512,\n",
    "                    validation_data=(x_val, y_val))"
   ]
  },
  {
   "cell_type": "code",
   "execution_count": 66,
   "id": "eb9f0017",
   "metadata": {
    "execution": {
     "iopub.execute_input": "2022-07-09T22:11:43.317163Z",
     "iopub.status.busy": "2022-07-09T22:11:43.316797Z",
     "iopub.status.idle": "2022-07-09T22:11:43.507483Z",
     "shell.execute_reply": "2022-07-09T22:11:43.506564Z"
    },
    "id": "KfNQQyVG3P5C",
    "outputId": "2cab2027-acbb-471e-e625-8d820714f42d",
    "papermill": {
     "duration": 0.526515,
     "end_time": "2022-07-09T22:11:43.509732",
     "exception": false,
     "start_time": "2022-07-09T22:11:42.983217",
     "status": "completed"
    },
    "tags": []
   },
   "outputs": [
    {
     "data": {
      "image/png": "[encoded data removed]",
      "text/plain": [
       "<Figure size 432x288 with 1 Axes>"
      ]
     },
     "metadata": {
      "needs_background": "light"
     },
     "output_type": "display_data"
    }
   ],
   "source": [
    "loss = history.history['loss']\n",
    "val_loss = history.history['val_loss']\n",
    "\n",
    "epochs = range(1, len(loss) + 1)\n",
    "\n",
    "plt.plot(epochs, loss, 'bo', label='Training loss')\n",
    "plt.plot(epochs, val_loss, 'b', label='Validation loss')\n",
    "plt.title('Training and validation loss')\n",
    "plt.xlabel('Epochs')\n",
    "plt.ylabel('Loss')\n",
    "plt.legend()\n",
    "\n",
    "plt.show()"
   ]
  },
  {
   "cell_type": "code",
   "execution_count": 67,
   "id": "e20341d5",
   "metadata": {
    "execution": {
     "iopub.execute_input": "2022-07-09T22:11:44.229276Z",
     "iopub.status.busy": "2022-07-09T22:11:44.228921Z",
     "iopub.status.idle": "2022-07-09T22:11:44.411993Z",
     "shell.execute_reply": "2022-07-09T22:11:44.410986Z"
    },
    "id": "bwqvKLHB3U9N",
    "outputId": "c92d4232-8ff6-48ea-9b40-a5672116422d",
    "papermill": {
     "duration": 0.570825,
     "end_time": "2022-07-09T22:11:44.414157",
     "exception": false,
     "start_time": "2022-07-09T22:11:43.843332",
     "status": "completed"
    },
    "tags": []
   },
   "outputs": [
    {
     "data": {
      "image/png": "[encoded data removed]",
      "text/plain": [
       "<Figure size 432x288 with 1 Axes>"
      ]
     },
     "metadata": {
      "needs_background": "light"
     },
     "output_type": "display_data"
    }
   ],
   "source": [
    "plt.clf()\n",
    "\n",
    "acc = history.history['binary_accuracy']\n",
    "val_acc = history.history['val_binary_accuracy']\n",
    "\n",
    "plt.plot(epochs, acc, 'bo', label='Training acc')\n",
    "plt.plot(epochs, val_acc, 'b', label='Validation acc')\n",
    "plt.title('Training and validation accuracy')\n",
    "plt.xlabel('Epochs')\n",
    "plt.ylabel('Accuracy')\n",
    "plt.legend()\n",
    "\n",
    "plt.show()"
   ]
  },
  {
   "cell_type": "markdown",
   "id": "b56b47fe",
   "metadata": {
    "id": "cysIJrR14piA",
    "papermill": {
     "duration": 0.331087,
     "end_time": "2022-07-09T22:11:45.075445",
     "exception": false,
     "start_time": "2022-07-09T22:11:44.744358",
     "status": "completed"
    },
    "tags": []
   },
   "source": [
    "#### **4.2.3 Bi-LSTM Model**"
   ]
  },
  {
   "cell_type": "code",
   "execution_count": 68,
   "id": "de816563",
   "metadata": {
    "execution": {
     "iopub.execute_input": "2022-07-09T22:11:45.743204Z",
     "iopub.status.busy": "2022-07-09T22:11:45.742838Z",
     "iopub.status.idle": "2022-07-09T22:11:47.319715Z",
     "shell.execute_reply": "2022-07-09T22:11:47.318722Z"
    },
    "id": "QGPqziHr3YKx",
    "outputId": "8ed9b845-b77a-4cdb-b385-5dae0c8099b4",
    "papermill": {
     "duration": 1.913103,
     "end_time": "2022-07-09T22:11:47.322351",
     "exception": false,
     "start_time": "2022-07-09T22:11:45.409248",
     "status": "completed"
    },
    "tags": []
   },
   "outputs": [
    {
     "name": "stdout",
     "output_type": "stream",
     "text": [
      "Model: \"sequential_3\"\n",
      "_________________________________________________________________\n",
      "Layer (type)                 Output Shape              Param #   \n",
      "=================================================================\n",
      "embedding_2 (Embedding)      (None, 200, 128)          33608320  \n",
      "_________________________________________________________________\n",
      "bidirectional (Bidirectional (None, 200)               183200    \n",
      "_________________________________________________________________\n",
      "dropout (Dropout)            (None, 200)               0         \n",
      "_________________________________________________________________\n",
      "dense_6 (Dense)              (None, 6)                 1206      \n",
      "=================================================================\n",
      "Total params: 33,792,726\n",
      "Trainable params: 33,792,726\n",
      "Non-trainable params: 0\n",
      "_________________________________________________________________\n"
     ]
    }
   ],
   "source": [
    "Bilstm_model = models.Sequential()\n",
    "Bilstm_model.add(Embedding(vocab_size, 128, input_length=200, mask_zero=True))\n",
    "Bilstm_model.add(Bidirectional(LSTM(100)))\n",
    "Bilstm_model.add(Dropout(0.5))\n",
    "Bilstm_model.add(layers.Dense(6, activation='sigmoid'))\n",
    "Bilstm_model.summary()"
   ]
  },
  {
   "cell_type": "code",
   "execution_count": 69,
   "id": "e96cca06",
   "metadata": {
    "execution": {
     "iopub.execute_input": "2022-07-09T22:11:48.033741Z",
     "iopub.status.busy": "2022-07-09T22:11:48.033238Z",
     "iopub.status.idle": "2022-07-09T22:11:48.256582Z",
     "shell.execute_reply": "2022-07-09T22:11:48.255152Z"
    },
    "id": "3AfCY9n34uHC",
    "outputId": "b3c9262b-ea99-40ce-fa49-9eaf396f2b6e",
    "papermill": {
     "duration": 0.557788,
     "end_time": "2022-07-09T22:11:48.258770",
     "exception": false,
     "start_time": "2022-07-09T22:11:47.700982",
     "status": "completed"
    },
    "tags": []
   },
   "outputs": [
    {
     "data": {
      "image/png": "[encoded data removed]",
      "text/plain": [
       "<IPython.core.display.Image object>"
      ]
     },
     "execution_count": 69,
     "metadata": {},
     "output_type": "execute_result"
    }
   ],
   "source": [
    "plot_model(Bilstm_model, to_file='BiLSTM_model.png', show_shapes=True)"
   ]
  },
  {
   "cell_type": "code",
   "execution_count": 70,
   "id": "cd9f188e",
   "metadata": {
    "execution": {
     "iopub.execute_input": "2022-07-09T22:11:48.927487Z",
     "iopub.status.busy": "2022-07-09T22:11:48.927109Z",
     "iopub.status.idle": "2022-07-09T22:11:48.939680Z",
     "shell.execute_reply": "2022-07-09T22:11:48.938800Z"
    },
    "id": "Li_1ch5h4wS8",
    "papermill": {
     "duration": 0.353017,
     "end_time": "2022-07-09T22:11:48.941672",
     "exception": false,
     "start_time": "2022-07-09T22:11:48.588655",
     "status": "completed"
    },
    "tags": []
   },
   "outputs": [],
   "source": [
    "Bilstm_model.compile(optimizer=optimizers.Adam(),\n",
    "              loss=losses.binary_crossentropy,\n",
    "              metrics=[metrics.binary_accuracy])"
   ]
  },
  {
   "cell_type": "code",
   "execution_count": 71,
   "id": "5ba40e86",
   "metadata": {
    "execution": {
     "iopub.execute_input": "2022-07-09T22:11:49.657821Z",
     "iopub.status.busy": "2022-07-09T22:11:49.657479Z",
     "iopub.status.idle": "2022-07-09T22:19:17.166348Z",
     "shell.execute_reply": "2022-07-09T22:19:17.165175Z"
    },
    "id": "9aV8knwQ4x9X",
    "outputId": "e5721218-124b-4dd2-8727-71a422be0eee",
    "papermill": {
     "duration": 447.892865,
     "end_time": "2022-07-09T22:19:17.169345",
     "exception": false,
     "start_time": "2022-07-09T22:11:49.276480",
     "status": "completed"
    },
    "tags": []
   },
   "outputs": [
    {
     "name": "stdout",
     "output_type": "stream",
     "text": [
      "Epoch 1/5\n",
      "250/250 [==============================] - 95s 358ms/step - loss: 0.1406 - binary_accuracy: 0.9648 - val_loss: 0.0695 - val_binary_accuracy: 0.9766\n",
      "Epoch 2/5\n",
      "250/250 [==============================] - 82s 329ms/step - loss: 0.0564 - binary_accuracy: 0.9804 - val_loss: 0.0546 - val_binary_accuracy: 0.9807\n",
      "Epoch 3/5\n",
      "250/250 [==============================] - 86s 346ms/step - loss: 0.0442 - binary_accuracy: 0.9836 - val_loss: 0.0543 - val_binary_accuracy: 0.9807\n",
      "Epoch 4/5\n",
      "250/250 [==============================] - 86s 342ms/step - loss: 0.0388 - binary_accuracy: 0.9853 - val_loss: 0.0554 - val_binary_accuracy: 0.9802\n",
      "Epoch 5/5\n",
      "250/250 [==============================] - 86s 339ms/step - loss: 0.0358 - binary_accuracy: 0.9864 - val_loss: 0.0567 - val_binary_accuracy: 0.9801\n"
     ]
    }
   ],
   "source": [
    "history = Bilstm_model.fit(x_train,\n",
    "                    y_train,\n",
    "                    epochs=5,\n",
    "                    batch_size=512,\n",
    "                    validation_data=(x_val, y_val))"
   ]
  },
  {
   "cell_type": "code",
   "execution_count": 72,
   "id": "ce7e22b6",
   "metadata": {
    "execution": {
     "iopub.execute_input": "2022-07-09T22:19:18.255954Z",
     "iopub.status.busy": "2022-07-09T22:19:18.255600Z",
     "iopub.status.idle": "2022-07-09T22:19:18.457960Z",
     "shell.execute_reply": "2022-07-09T22:19:18.457066Z"
    },
    "id": "OjWXqEW94zkY",
    "outputId": "2fb41a60-0c9c-4301-fe58-c3880a8fb9d2",
    "papermill": {
     "duration": 0.64008,
     "end_time": "2022-07-09T22:19:18.460036",
     "exception": false,
     "start_time": "2022-07-09T22:19:17.819956",
     "status": "completed"
    },
    "tags": []
   },
   "outputs": [
    {
     "data": {
      "image/png": "[encoded data removed]",
      "text/plain": [
       "<Figure size 432x288 with 1 Axes>"
      ]
     },
     "metadata": {
      "needs_background": "light"
     },
     "output_type": "display_data"
    }
   ],
   "source": [
    "loss = history.history['loss']\n",
    "val_loss = history.history['val_loss']\n",
    "\n",
    "epochs = range(1, len(loss) + 1)\n",
    "\n",
    "plt.plot(epochs, loss, 'bo', label='Training loss')\n",
    "plt.plot(epochs, val_loss, 'b', label='Validation loss')\n",
    "plt.title('Training and validation loss')\n",
    "plt.xlabel('Epochs')\n",
    "plt.ylabel('Loss')\n",
    "plt.legend()\n",
    "\n",
    "plt.show()"
   ]
  },
  {
   "cell_type": "code",
   "execution_count": 73,
   "id": "b7d55a21",
   "metadata": {
    "execution": {
     "iopub.execute_input": "2022-07-09T22:19:19.289199Z",
     "iopub.status.busy": "2022-07-09T22:19:19.288835Z",
     "iopub.status.idle": "2022-07-09T22:19:19.485914Z",
     "shell.execute_reply": "2022-07-09T22:19:19.484965Z"
    },
    "id": "D0sAYp-d62Za",
    "outputId": "cd321d16-f679-4a0f-fad7-a1bcd4a6bb7f",
    "papermill": {
     "duration": 0.615276,
     "end_time": "2022-07-09T22:19:19.488254",
     "exception": false,
     "start_time": "2022-07-09T22:19:18.872978",
     "status": "completed"
    },
    "tags": []
   },
   "outputs": [
    {
     "data": {
      "image/png": "[encoded data removed]",
      "text/plain": [
       "<Figure size 432x288 with 1 Axes>"
      ]
     },
     "metadata": {
      "needs_background": "light"
     },
     "output_type": "display_data"
    }
   ],
   "source": [
    "plt.clf()\n",
    "\n",
    "acc = history.history['binary_accuracy']\n",
    "val_acc = history.history['val_binary_accuracy']\n",
    "\n",
    "plt.plot(epochs, acc, 'bo', label='Training acc')\n",
    "plt.plot(epochs, val_acc, 'b', label='Validation acc')\n",
    "plt.title('Training and validation accuracy')\n",
    "plt.xlabel('Epochs')\n",
    "plt.ylabel('Accuracy')\n",
    "plt.legend()\n",
    "\n",
    "plt.show()"
   ]
  },
  {
   "cell_type": "markdown",
   "id": "6b154c9c",
   "metadata": {
    "id": "mKxsb1Hh_0jC",
    "papermill": {
     "duration": 0.413836,
     "end_time": "2022-07-09T22:19:20.379768",
     "exception": false,
     "start_time": "2022-07-09T22:19:19.965932",
     "status": "completed"
    },
    "tags": []
   },
   "source": [
    "#### **4.2.4 GRU Model**"
   ]
  },
  {
   "cell_type": "code",
   "execution_count": 74,
   "id": "f22786d1",
   "metadata": {
    "execution": {
     "iopub.execute_input": "2022-07-09T22:19:21.205006Z",
     "iopub.status.busy": "2022-07-09T22:19:21.204593Z",
     "iopub.status.idle": "2022-07-09T22:19:21.394506Z",
     "shell.execute_reply": "2022-07-09T22:19:21.392684Z"
    },
    "id": "BqxIKOV1645l",
    "outputId": "4e7e81bb-20a5-4101-b2a1-7bd15050c8b5",
    "papermill": {
     "duration": 0.603555,
     "end_time": "2022-07-09T22:19:21.396705",
     "exception": false,
     "start_time": "2022-07-09T22:19:20.793150",
     "status": "completed"
    },
    "tags": []
   },
   "outputs": [
    {
     "name": "stdout",
     "output_type": "stream",
     "text": [
      "Model: \"sequential_4\"\n",
      "_________________________________________________________________\n",
      "Layer (type)                 Output Shape              Param #   \n",
      "=================================================================\n",
      "embedding_3 (Embedding)      (None, 200, 128)          33608320  \n",
      "_________________________________________________________________\n",
      "gru (GRU)                    (None, 64)                37248     \n",
      "_________________________________________________________________\n",
      "dropout_1 (Dropout)          (None, 64)                0         \n",
      "_________________________________________________________________\n",
      "dense_7 (Dense)              (None, 6)                 390       \n",
      "=================================================================\n",
      "Total params: 33,645,958\n",
      "Trainable params: 33,645,958\n",
      "Non-trainable params: 0\n",
      "_________________________________________________________________\n"
     ]
    }
   ],
   "source": [
    "GRUmodel = models.Sequential()\n",
    "GRUmodel.add(Embedding(vocab_size, 128, input_length=max_length))\n",
    "GRUmodel.add(GRU(64))\n",
    "GRUmodel.add(Dropout(0.5))\n",
    "GRUmodel.add(layers.Dense(6, activation='sigmoid'))\n",
    "GRUmodel.summary()"
   ]
  },
  {
   "cell_type": "code",
   "execution_count": 75,
   "id": "8a1698d9",
   "metadata": {
    "execution": {
     "iopub.execute_input": "2022-07-09T22:19:22.263325Z",
     "iopub.status.busy": "2022-07-09T22:19:22.262907Z",
     "iopub.status.idle": "2022-07-09T22:19:22.273054Z",
     "shell.execute_reply": "2022-07-09T22:19:22.272214Z"
    },
    "id": "rEU2xA3r_9Lm",
    "papermill": {
     "duration": 0.42184,
     "end_time": "2022-07-09T22:19:22.274982",
     "exception": false,
     "start_time": "2022-07-09T22:19:21.853142",
     "status": "completed"
    },
    "tags": []
   },
   "outputs": [],
   "source": [
    "# try using different optimizers and different optimizer configs\n",
    "GRUmodel.compile(loss='binary_crossentropy',\n",
    "              optimizer='adam',\n",
    "              metrics=['accuracy'])"
   ]
  },
  {
   "cell_type": "code",
   "execution_count": 76,
   "id": "ecda1557",
   "metadata": {
    "execution": {
     "iopub.execute_input": "2022-07-09T22:19:23.095895Z",
     "iopub.status.busy": "2022-07-09T22:19:23.095476Z",
     "iopub.status.idle": "2022-07-09T22:21:46.422397Z",
     "shell.execute_reply": "2022-07-09T22:21:46.421352Z"
    },
    "id": "Di_wi0cq_9Vj",
    "outputId": "d897523c-080d-4752-dfa9-3d632e296af6",
    "papermill": {
     "duration": 143.74062,
     "end_time": "2022-07-09T22:21:46.424865",
     "exception": false,
     "start_time": "2022-07-09T22:19:22.684245",
     "status": "completed"
    },
    "tags": []
   },
   "outputs": [
    {
     "name": "stdout",
     "output_type": "stream",
     "text": [
      "Epoch 1/10\n",
      "250/250 [==============================] - 10s 34ms/step - loss: 0.1840 - accuracy: 0.6295 - val_loss: 0.1415 - val_accuracy: 0.9938\n",
      "Epoch 2/10\n",
      "250/250 [==============================] - 8s 33ms/step - loss: 0.1448 - accuracy: 0.8738 - val_loss: 0.1380 - val_accuracy: 0.9938\n",
      "Epoch 3/10\n",
      "250/250 [==============================] - 8s 33ms/step - loss: 0.0858 - accuracy: 0.9276 - val_loss: 0.0546 - val_accuracy: 0.9941\n",
      "Epoch 4/10\n",
      "250/250 [==============================] - 8s 33ms/step - loss: 0.0486 - accuracy: 0.8703 - val_loss: 0.0507 - val_accuracy: 0.9923\n",
      "Epoch 5/10\n",
      "250/250 [==============================] - 8s 33ms/step - loss: 0.0406 - accuracy: 0.8015 - val_loss: 0.0531 - val_accuracy: 0.9909\n",
      "Epoch 6/10\n",
      "250/250 [==============================] - 8s 33ms/step - loss: 0.0361 - accuracy: 0.7734 - val_loss: 0.0548 - val_accuracy: 0.9858\n",
      "Epoch 7/10\n",
      "250/250 [==============================] - 8s 33ms/step - loss: 0.0326 - accuracy: 0.7321 - val_loss: 0.0563 - val_accuracy: 0.9881\n",
      "Epoch 8/10\n",
      "250/250 [==============================] - 8s 33ms/step - loss: 0.0296 - accuracy: 0.7259 - val_loss: 0.0609 - val_accuracy: 0.9823\n",
      "Epoch 9/10\n",
      "250/250 [==============================] - 8s 33ms/step - loss: 0.0274 - accuracy: 0.7239 - val_loss: 0.0629 - val_accuracy: 0.9745\n",
      "Epoch 10/10\n",
      "250/250 [==============================] - 8s 33ms/step - loss: 0.0254 - accuracy: 0.7251 - val_loss: 0.0653 - val_accuracy: 0.9716\n"
     ]
    }
   ],
   "source": [
    "history = GRUmodel.fit(x_train,\n",
    "                    y_train,\n",
    "                    epochs=10,\n",
    "                    batch_size=512,\n",
    "                    validation_data=(x_val, y_val))"
   ]
  },
  {
   "cell_type": "code",
   "execution_count": 77,
   "id": "14c967da",
   "metadata": {
    "execution": {
     "iopub.execute_input": "2022-07-09T22:21:47.459324Z",
     "iopub.status.busy": "2022-07-09T22:21:47.458274Z",
     "iopub.status.idle": "2022-07-09T22:21:47.652518Z",
     "shell.execute_reply": "2022-07-09T22:21:47.651579Z"
    },
    "id": "N0ruYZMIAAeF",
    "outputId": "a32c1e47-e936-41cc-99e3-2603c8ad6d0c",
    "papermill": {
     "duration": 0.736382,
     "end_time": "2022-07-09T22:21:47.654509",
     "exception": false,
     "start_time": "2022-07-09T22:21:46.918127",
     "status": "completed"
    },
    "tags": []
   },
   "outputs": [
    {
     "data": {
      "image/png": "[encoded data removed]",
      "text/plain": [
       "<Figure size 432x288 with 1 Axes>"
      ]
     },
     "metadata": {
      "needs_background": "light"
     },
     "output_type": "display_data"
    }
   ],
   "source": [
    "loss = history.history['loss']\n",
    "val_loss = history.history['val_loss']\n",
    "\n",
    "epochs = range(1, len(loss) + 1)\n",
    "\n",
    "plt.plot(epochs, loss, 'bo', label='Training loss')\n",
    "plt.plot(epochs, val_loss, 'b', label='Validation loss')\n",
    "plt.title('Training and validation loss')\n",
    "plt.xlabel('Epochs')\n",
    "plt.ylabel('Loss')\n",
    "plt.legend()\n",
    "\n",
    "plt.show()"
   ]
  },
  {
   "cell_type": "code",
   "execution_count": 78,
   "id": "d3065dab",
   "metadata": {
    "execution": {
     "iopub.execute_input": "2022-07-09T22:21:48.659819Z",
     "iopub.status.busy": "2022-07-09T22:21:48.659480Z",
     "iopub.status.idle": "2022-07-09T22:21:48.851009Z",
     "shell.execute_reply": "2022-07-09T22:21:48.850005Z"
    },
    "id": "P_WRZJW4AwRE",
    "outputId": "537345b9-2b08-48e7-fece-b74fca4afa45",
    "papermill": {
     "duration": 0.687338,
     "end_time": "2022-07-09T22:21:48.853144",
     "exception": false,
     "start_time": "2022-07-09T22:21:48.165806",
     "status": "completed"
    },
    "tags": []
   },
   "outputs": [
    {
     "data": {
      "image/png": "[encoded data removed]",
      "text/plain": [
       "<Figure size 432x288 with 1 Axes>"
      ]
     },
     "metadata": {
      "needs_background": "light"
     },
     "output_type": "display_data"
    }
   ],
   "source": [
    "plt.clf()\n",
    "\n",
    "acc = history.history['accuracy']\n",
    "val_acc = history.history['val_accuracy']\n",
    "\n",
    "plt.plot(epochs, acc, 'bo', label='Training acc')\n",
    "plt.plot(epochs, val_acc, 'b', label='Validation acc')\n",
    "plt.title('Training and validation accuracy')\n",
    "plt.xlabel('Epochs')\n",
    "plt.ylabel('Accuracy')\n",
    "plt.legend()\n",
    "\n",
    "plt.show()"
   ]
  },
  {
   "cell_type": "code",
   "execution_count": 79,
   "id": "bb4aecad",
   "metadata": {
    "execution": {
     "iopub.execute_input": "2022-07-09T22:21:49.869545Z",
     "iopub.status.busy": "2022-07-09T22:21:49.869187Z",
     "iopub.status.idle": "2022-07-09T22:22:10.672590Z",
     "shell.execute_reply": "2022-07-09T22:22:10.671588Z"
    },
    "id": "T55oGHZyEa8x",
    "papermill": {
     "duration": 21.290269,
     "end_time": "2022-07-09T22:22:10.674909",
     "exception": false,
     "start_time": "2022-07-09T22:21:49.384640",
     "status": "completed"
    },
    "tags": []
   },
   "outputs": [],
   "source": [
    "preds = pd.DataFrame(GRUmodel.predict(x_test), index=test.index, columns=target_cols)"
   ]
  },
  {
   "cell_type": "code",
   "execution_count": 80,
   "id": "981de26f",
   "metadata": {
    "execution": {
     "iopub.execute_input": "2022-07-09T22:22:11.697332Z",
     "iopub.status.busy": "2022-07-09T22:22:11.696980Z",
     "iopub.status.idle": "2022-07-09T22:22:12.957561Z",
     "shell.execute_reply": "2022-07-09T22:22:12.956511Z"
    },
    "id": "0fAbzN4BEuo1",
    "papermill": {
     "duration": 1.800016,
     "end_time": "2022-07-09T22:22:12.959967",
     "exception": false,
     "start_time": "2022-07-09T22:22:11.159951",
     "status": "completed"
    },
    "tags": []
   },
   "outputs": [],
   "source": [
    "preds.to_csv('GRU_submission.csv')"
   ]
  },
  {
   "cell_type": "code",
   "execution_count": 81,
   "id": "3ce30b04",
   "metadata": {
    "execution": {
     "iopub.execute_input": "2022-07-09T22:22:14.164916Z",
     "iopub.status.busy": "2022-07-09T22:22:14.164576Z",
     "iopub.status.idle": "2022-07-09T22:22:14.182856Z",
     "shell.execute_reply": "2022-07-09T22:22:14.181990Z"
    },
    "id": "lJxWk3oJGArl",
    "outputId": "68838f86-2330-49a6-b1ab-e1952144a777",
    "papermill": {
     "duration": 0.507219,
     "end_time": "2022-07-09T22:22:14.184802",
     "exception": false,
     "start_time": "2022-07-09T22:22:13.677583",
     "status": "completed"
    },
    "tags": []
   },
   "outputs": [
    {
     "data": {
      "text/html": [
       "<div>\n",
       "<style scoped>\n",
       "    .dataframe tbody tr th:only-of-type {\n",
       "        vertical-align: middle;\n",
       "    }\n",
       "\n",
       "    .dataframe tbody tr th {\n",
       "        vertical-align: top;\n",
       "    }\n",
       "\n",
       "    .dataframe thead th {\n",
       "        text-align: right;\n",
       "    }\n",
       "</style>\n",
       "<table border=\"1\" class=\"dataframe\">\n",
       "  <thead>\n",
       "    <tr style=\"text-align: right;\">\n",
       "      <th></th>\n",
       "      <th>toxic</th>\n",
       "      <th>severe_toxic</th>\n",
       "      <th>obscene</th>\n",
       "      <th>threat</th>\n",
       "      <th>insult</th>\n",
       "      <th>identity_hate</th>\n",
       "    </tr>\n",
       "    <tr>\n",
       "      <th>id</th>\n",
       "      <th></th>\n",
       "      <th></th>\n",
       "      <th></th>\n",
       "      <th></th>\n",
       "      <th></th>\n",
       "      <th></th>\n",
       "    </tr>\n",
       "  </thead>\n",
       "  <tbody>\n",
       "    <tr>\n",
       "      <th>00001cee341fdb12</th>\n",
       "      <td>0.994057</td>\n",
       "      <td>0.259581</td>\n",
       "      <td>0.994157</td>\n",
       "      <td>0.020237</td>\n",
       "      <td>0.933577</td>\n",
       "      <td>0.076717</td>\n",
       "    </tr>\n",
       "    <tr>\n",
       "      <th>0000247867823ef7</th>\n",
       "      <td>0.000228</td>\n",
       "      <td>0.000013</td>\n",
       "      <td>0.000014</td>\n",
       "      <td>0.000046</td>\n",
       "      <td>0.000038</td>\n",
       "      <td>0.000030</td>\n",
       "    </tr>\n",
       "    <tr>\n",
       "      <th>00013b17ad220c46</th>\n",
       "      <td>0.002875</td>\n",
       "      <td>0.000028</td>\n",
       "      <td>0.000124</td>\n",
       "      <td>0.000051</td>\n",
       "      <td>0.000218</td>\n",
       "      <td>0.000055</td>\n",
       "    </tr>\n",
       "    <tr>\n",
       "      <th>00017563c3f7919a</th>\n",
       "      <td>0.000153</td>\n",
       "      <td>0.000013</td>\n",
       "      <td>0.000012</td>\n",
       "      <td>0.000052</td>\n",
       "      <td>0.000031</td>\n",
       "      <td>0.000031</td>\n",
       "    </tr>\n",
       "    <tr>\n",
       "      <th>00017695ad8997eb</th>\n",
       "      <td>0.000201</td>\n",
       "      <td>0.000013</td>\n",
       "      <td>0.000013</td>\n",
       "      <td>0.000048</td>\n",
       "      <td>0.000036</td>\n",
       "      <td>0.000031</td>\n",
       "    </tr>\n",
       "    <tr>\n",
       "      <th>...</th>\n",
       "      <td>...</td>\n",
       "      <td>...</td>\n",
       "      <td>...</td>\n",
       "      <td>...</td>\n",
       "      <td>...</td>\n",
       "      <td>...</td>\n",
       "    </tr>\n",
       "    <tr>\n",
       "      <th>fffcd0960ee309b5</th>\n",
       "      <td>0.481872</td>\n",
       "      <td>0.000165</td>\n",
       "      <td>0.015170</td>\n",
       "      <td>0.000135</td>\n",
       "      <td>0.011013</td>\n",
       "      <td>0.000306</td>\n",
       "    </tr>\n",
       "    <tr>\n",
       "      <th>fffd7a9a6eb32c16</th>\n",
       "      <td>0.000271</td>\n",
       "      <td>0.000015</td>\n",
       "      <td>0.000015</td>\n",
       "      <td>0.000055</td>\n",
       "      <td>0.000053</td>\n",
       "      <td>0.000044</td>\n",
       "    </tr>\n",
       "    <tr>\n",
       "      <th>fffda9e8d6fafa9e</th>\n",
       "      <td>0.000279</td>\n",
       "      <td>0.000014</td>\n",
       "      <td>0.000017</td>\n",
       "      <td>0.000045</td>\n",
       "      <td>0.000045</td>\n",
       "      <td>0.000031</td>\n",
       "    </tr>\n",
       "    <tr>\n",
       "      <th>fffe8f1340a79fc2</th>\n",
       "      <td>0.000166</td>\n",
       "      <td>0.000013</td>\n",
       "      <td>0.000012</td>\n",
       "      <td>0.000059</td>\n",
       "      <td>0.000033</td>\n",
       "      <td>0.000038</td>\n",
       "    </tr>\n",
       "    <tr>\n",
       "      <th>ffffce3fb183ee80</th>\n",
       "      <td>0.967670</td>\n",
       "      <td>0.010457</td>\n",
       "      <td>0.906933</td>\n",
       "      <td>0.000985</td>\n",
       "      <td>0.417913</td>\n",
       "      <td>0.002703</td>\n",
       "    </tr>\n",
       "  </tbody>\n",
       "</table>\n",
       "<p>153164 rows × 6 columns</p>\n",
       "</div>"
      ],
      "text/plain": [
       "                     toxic  severe_toxic   obscene    threat    insult  \\\n",
       "id                                                                       \n",
       "00001cee341fdb12  0.994057      0.259581  0.994157  0.020237  0.933577   \n",
       "0000247867823ef7  0.000228      0.000013  0.000014  0.000046  0.000038   \n",
       "00013b17ad220c46  0.002875      0.000028  0.000124  0.000051  0.000218   \n",
       "00017563c3f7919a  0.000153      0.000013  0.000012  0.000052  0.000031   \n",
       "00017695ad8997eb  0.000201      0.000013  0.000013  0.000048  0.000036   \n",
       "...                    ...           ...       ...       ...       ...   \n",
       "fffcd0960ee309b5  0.481872      0.000165  0.015170  0.000135  0.011013   \n",
       "fffd7a9a6eb32c16  0.000271      0.000015  0.000015  0.000055  0.000053   \n",
       "fffda9e8d6fafa9e  0.000279      0.000014  0.000017  0.000045  0.000045   \n",
       "fffe8f1340a79fc2  0.000166      0.000013  0.000012  0.000059  0.000033   \n",
       "ffffce3fb183ee80  0.967670      0.010457  0.906933  0.000985  0.417913   \n",
       "\n",
       "                  identity_hate  \n",
       "id                               \n",
       "00001cee341fdb12       0.076717  \n",
       "0000247867823ef7       0.000030  \n",
       "00013b17ad220c46       0.000055  \n",
       "00017563c3f7919a       0.000031  \n",
       "00017695ad8997eb       0.000031  \n",
       "...                         ...  \n",
       "fffcd0960ee309b5       0.000306  \n",
       "fffd7a9a6eb32c16       0.000044  \n",
       "fffda9e8d6fafa9e       0.000031  \n",
       "fffe8f1340a79fc2       0.000038  \n",
       "ffffce3fb183ee80       0.002703  \n",
       "\n",
       "[153164 rows x 6 columns]"
      ]
     },
     "execution_count": 81,
     "metadata": {},
     "output_type": "execute_result"
    }
   ],
   "source": [
    "preds"
   ]
  },
  {
   "cell_type": "markdown",
   "id": "8cfb8402",
   "metadata": {
    "id": "7jppjihQCJJu",
    "papermill": {
     "duration": 0.481046,
     "end_time": "2022-07-09T22:22:15.197455",
     "exception": false,
     "start_time": "2022-07-09T22:22:14.716409",
     "status": "completed"
    },
    "tags": []
   },
   "source": [
    "#### **4.2.5 Bi-GRU Model**"
   ]
  },
  {
   "cell_type": "code",
   "execution_count": 82,
   "id": "1e4d9996",
   "metadata": {
    "execution": {
     "iopub.execute_input": "2022-07-09T22:22:16.230590Z",
     "iopub.status.busy": "2022-07-09T22:22:16.230246Z",
     "iopub.status.idle": "2022-07-09T22:22:16.588801Z",
     "shell.execute_reply": "2022-07-09T22:22:16.587031Z"
    },
    "id": "vDNo9ao0CWr3",
    "outputId": "8b53c8b4-3e11-44f0-a6cd-1683e9dd6c8f",
    "papermill": {
     "duration": 0.897349,
     "end_time": "2022-07-09T22:22:16.590947",
     "exception": false,
     "start_time": "2022-07-09T22:22:15.693598",
     "status": "completed"
    },
    "tags": []
   },
   "outputs": [
    {
     "name": "stdout",
     "output_type": "stream",
     "text": [
      "Model: \"sequential_5\"\n",
      "_________________________________________________________________\n",
      "Layer (type)                 Output Shape              Param #   \n",
      "=================================================================\n",
      "embedding_4 (Embedding)      (None, 200, 128)          33608320  \n",
      "_________________________________________________________________\n",
      "bidirectional_1 (Bidirection (None, 128)               74496     \n",
      "_________________________________________________________________\n",
      "dropout_2 (Dropout)          (None, 128)               0         \n",
      "_________________________________________________________________\n",
      "dense_8 (Dense)              (None, 6)                 774       \n",
      "=================================================================\n",
      "Total params: 33,683,590\n",
      "Trainable params: 33,683,590\n",
      "Non-trainable params: 0\n",
      "_________________________________________________________________\n"
     ]
    }
   ],
   "source": [
    "BiGRUmodel = models.Sequential()\n",
    "BiGRUmodel.add(Embedding(vocab_size, 128, input_length=max_length))\n",
    "BiGRUmodel.add(Bidirectional(GRU(64)))\n",
    "BiGRUmodel.add(Dropout(0.5))\n",
    "BiGRUmodel.add(layers.Dense(6, activation='sigmoid'))\n",
    "BiGRUmodel.summary()"
   ]
  },
  {
   "cell_type": "code",
   "execution_count": 83,
   "id": "bf2d79f1",
   "metadata": {
    "execution": {
     "iopub.execute_input": "2022-07-09T22:22:17.558018Z",
     "iopub.status.busy": "2022-07-09T22:22:17.557678Z",
     "iopub.status.idle": "2022-07-09T22:22:17.567679Z",
     "shell.execute_reply": "2022-07-09T22:22:17.566771Z"
    },
    "id": "BQW-P3svCNjm",
    "papermill": {
     "duration": 0.493087,
     "end_time": "2022-07-09T22:22:17.569639",
     "exception": false,
     "start_time": "2022-07-09T22:22:17.076552",
     "status": "completed"
    },
    "tags": []
   },
   "outputs": [],
   "source": [
    "# try using different optimizers and different optimizer configs\n",
    "BiGRUmodel.compile(loss='binary_crossentropy',\n",
    "              optimizer='adam',\n",
    "              metrics=['accuracy'])"
   ]
  },
  {
   "cell_type": "code",
   "execution_count": 84,
   "id": "79c02c81",
   "metadata": {
    "execution": {
     "iopub.execute_input": "2022-07-09T22:22:18.588335Z",
     "iopub.status.busy": "2022-07-09T22:22:18.587983Z",
     "iopub.status.idle": "2022-07-09T22:24:43.681927Z",
     "shell.execute_reply": "2022-07-09T22:24:43.681004Z"
    },
    "id": "TAKyaKIeCom-",
    "outputId": "3925c3a6-9044-4651-a166-c20d442565b2",
    "papermill": {
     "duration": 145.636658,
     "end_time": "2022-07-09T22:24:43.684028",
     "exception": false,
     "start_time": "2022-07-09T22:22:18.047370",
     "status": "completed"
    },
    "tags": []
   },
   "outputs": [
    {
     "name": "stdout",
     "output_type": "stream",
     "text": [
      "Epoch 1/10\n",
      "250/250 [==============================] - 18s 59ms/step - loss: 0.1214 - accuracy: 0.6715 - val_loss: 0.0544 - val_accuracy: 0.9941\n",
      "Epoch 2/10\n",
      "250/250 [==============================] - 14s 57ms/step - loss: 0.0519 - accuracy: 0.8555 - val_loss: 0.0524 - val_accuracy: 0.9934\n",
      "Epoch 3/10\n",
      "250/250 [==============================] - 14s 57ms/step - loss: 0.0444 - accuracy: 0.8503 - val_loss: 0.0529 - val_accuracy: 0.9881\n",
      "Epoch 4/10\n",
      "250/250 [==============================] - 14s 57ms/step - loss: 0.0393 - accuracy: 0.8092 - val_loss: 0.0537 - val_accuracy: 0.9848\n",
      "Epoch 5/10\n",
      "250/250 [==============================] - 14s 57ms/step - loss: 0.0351 - accuracy: 0.7820 - val_loss: 0.0535 - val_accuracy: 0.9818\n",
      "Epoch 6/10\n",
      "250/250 [==============================] - 14s 57ms/step - loss: 0.0315 - accuracy: 0.7334 - val_loss: 0.0568 - val_accuracy: 0.9713\n",
      "Epoch 7/10\n",
      "250/250 [==============================] - 14s 56ms/step - loss: 0.0285 - accuracy: 0.6609 - val_loss: 0.0592 - val_accuracy: 0.7463\n",
      "Epoch 8/10\n",
      "250/250 [==============================] - 14s 57ms/step - loss: 0.0257 - accuracy: 0.5788 - val_loss: 0.0604 - val_accuracy: 0.7812\n",
      "Epoch 9/10\n",
      "250/250 [==============================] - 14s 57ms/step - loss: 0.0233 - accuracy: 0.5227 - val_loss: 0.0656 - val_accuracy: 0.6438\n",
      "Epoch 10/10\n",
      "250/250 [==============================] - 14s 57ms/step - loss: 0.0206 - accuracy: 0.4262 - val_loss: 0.0672 - val_accuracy: 0.5140\n"
     ]
    }
   ],
   "source": [
    "history = BiGRUmodel.fit(x_train,\n",
    "                    y_train,\n",
    "                    epochs=10,\n",
    "                    batch_size=512,\n",
    "                    validation_data=(x_val, y_val))"
   ]
  },
  {
   "cell_type": "code",
   "execution_count": 85,
   "id": "8551512a",
   "metadata": {
    "execution": {
     "iopub.execute_input": "2022-07-09T22:24:45.017786Z",
     "iopub.status.busy": "2022-07-09T22:24:45.017419Z",
     "iopub.status.idle": "2022-07-09T22:24:45.200081Z",
     "shell.execute_reply": "2022-07-09T22:24:45.199047Z"
    },
    "id": "u2frqZRFCvJw",
    "outputId": "9a422483-899b-444a-ade7-00fa95c87cd4",
    "papermill": {
     "duration": 0.822231,
     "end_time": "2022-07-09T22:24:45.202439",
     "exception": false,
     "start_time": "2022-07-09T22:24:44.380208",
     "status": "completed"
    },
    "tags": []
   },
   "outputs": [
    {
     "data": {
      "image/png": "[encoded data removed]",
      "text/plain": [
       "<Figure size 432x288 with 1 Axes>"
      ]
     },
     "metadata": {
      "needs_background": "light"
     },
     "output_type": "display_data"
    }
   ],
   "source": [
    "loss = history.history['loss']\n",
    "val_loss = history.history['val_loss']\n",
    "\n",
    "epochs = range(1, len(loss) + 1)\n",
    "\n",
    "plt.plot(epochs, loss, 'bo', label='Training loss')\n",
    "plt.plot(epochs, val_loss, 'b', label='Validation loss')\n",
    "plt.title('Training and validation loss')\n",
    "plt.xlabel('Epochs')\n",
    "plt.ylabel('Loss')\n",
    "plt.legend()\n",
    "\n",
    "plt.show()"
   ]
  },
  {
   "cell_type": "code",
   "execution_count": 86,
   "id": "e0fc08a6",
   "metadata": {
    "execution": {
     "iopub.execute_input": "2022-07-09T22:24:46.538230Z",
     "iopub.status.busy": "2022-07-09T22:24:46.537826Z",
     "iopub.status.idle": "2022-07-09T22:24:46.722903Z",
     "shell.execute_reply": "2022-07-09T22:24:46.721987Z"
    },
    "id": "Yx863944C7i9",
    "outputId": "fb883968-e9e1-41f2-eebd-bd76ad7571ac",
    "papermill": {
     "duration": 0.887055,
     "end_time": "2022-07-09T22:24:46.725064",
     "exception": false,
     "start_time": "2022-07-09T22:24:45.838009",
     "status": "completed"
    },
    "tags": []
   },
   "outputs": [
    {
     "data": {
      "image/png": "[encoded data removed]",
      "text/plain": [
       "<Figure size 432x288 with 1 Axes>"
      ]
     },
     "metadata": {
      "needs_background": "light"
     },
     "output_type": "display_data"
    }
   ],
   "source": [
    "plt.clf()\n",
    "\n",
    "acc = history.history['accuracy']\n",
    "val_acc = history.history['val_accuracy']\n",
    "\n",
    "plt.plot(epochs, acc, 'bo', label='Training acc')\n",
    "plt.plot(epochs, val_acc, 'b', label='Validation acc')\n",
    "plt.title('Training and validation accuracy')\n",
    "plt.xlabel('Epochs')\n",
    "plt.ylabel('Accuracy')\n",
    "plt.legend()\n",
    "\n",
    "plt.show()"
   ]
  }
 ],
 "metadata": {
  "kernelspec": {
   "display_name": "Python 3",
   "language": "python",
   "name": "python3"
  },
  "language_info": {
   "codemirror_mode": {
    "name": "ipython",
    "version": 3
   },
   "file_extension": ".py",
   "mimetype": "text/x-python",
   "name": "python",
   "nbconvert_exporter": "python",
   "pygments_lexer": "ipython3",
   "version": "3.7.12"
  },
  "papermill": {
   "default_parameters": {},
   "duration": 2400.217995,
   "end_time": "2022-07-09T22:24:50.839559",
   "environment_variables": {},
   "exception": null,
   "input_path": "__notebook__.ipynb",
   "output_path": "__notebook__.ipynb",
   "parameters": {},
   "start_time": "2022-07-09T21:44:50.621564",
   "version": "2.3.4"
  }
 },
 "nbformat": 4,
 "nbformat_minor": 5
}
